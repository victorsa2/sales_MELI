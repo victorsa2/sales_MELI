{
  "nbformat": 4,
  "nbformat_minor": 0,
  "metadata": {
    "colab": {
      "provenance": [],
      "authorship_tag": "ABX9TyP+nXZlqIQb/13k919aRRSk",
      "include_colab_link": true
    },
    "kernelspec": {
      "name": "python3",
      "display_name": "Python 3"
    },
    "language_info": {
      "name": "python"
    }
  },
  "cells": [
    {
      "cell_type": "markdown",
      "metadata": {
        "id": "view-in-github",
        "colab_type": "text"
      },
      "source": [
        "<a href=\"https://colab.research.google.com/github/victorsa2/sales_meli/blob/main/notebook.ipynb\" target=\"_parent\"><img src=\"https://colab.research.google.com/assets/colab-badge.svg\" alt=\"Open In Colab\"/></a>"
      ]
    },
    {
      "cell_type": "markdown",
      "source": [
        "## Preparando o Ambiente no Github"
      ],
      "metadata": {
        "id": "zUuX6K5kr41I"
      }
    },
    {
      "cell_type": "code",
      "source": [
        "!git clone https://github.com/victorsa2/sales_meli.git"
      ],
      "metadata": {
        "id": "QWE6RToSjZeM",
        "colab": {
          "base_uri": "https://localhost:8080/"
        },
        "outputId": "948464d2-0afc-4106-acc4-dc1038fad08e"
      },
      "execution_count": null,
      "outputs": [
        {
          "output_type": "stream",
          "name": "stdout",
          "text": [
            "Cloning into 'sales_meli'...\n",
            "remote: Enumerating objects: 3, done.\u001b[K\n",
            "remote: Counting objects: 100% (3/3), done.\u001b[K\n",
            "remote: Total 3 (delta 0), reused 0 (delta 0), pack-reused 0 (from 0)\u001b[K\n",
            "Receiving objects: 100% (3/3), done.\n"
          ]
        }
      ]
    },
    {
      "cell_type": "markdown",
      "source": [
        "## Subindo o arquivo .env com as variáveis no drive"
      ],
      "metadata": {
        "id": "TZvJyw69r_rO"
      }
    },
    {
      "cell_type": "code",
      "source": [
        "from google.colab import drive\n",
        "drive.mount('/content/drive')"
      ],
      "metadata": {
        "colab": {
          "base_uri": "https://localhost:8080/"
        },
        "id": "OpDWnUGyogyM",
        "outputId": "feb26949-cb42-4e9f-a0b1-9e7bac21022f"
      },
      "execution_count": 3,
      "outputs": [
        {
          "output_type": "stream",
          "name": "stdout",
          "text": [
            "Mounted at /content/drive\n"
          ]
        }
      ]
    },
    {
      "cell_type": "code",
      "source": [
        "from google.colab import files\n",
        "uploaded = files.upload()"
      ],
      "metadata": {
        "colab": {
          "base_uri": "https://localhost:8080/",
          "height": 73
        },
        "id": "Je9yl0duokC6",
        "outputId": "f7d1be4f-dd85-4d4c-eb22-1a959091f503"
      },
      "execution_count": 4,
      "outputs": [
        {
          "output_type": "display_data",
          "data": {
            "text/plain": [
              "<IPython.core.display.HTML object>"
            ],
            "text/html": [
              "\n",
              "     <input type=\"file\" id=\"files-d4db0531-f8f2-4634-bcfa-6ceae58dac7b\" name=\"files[]\" multiple disabled\n",
              "        style=\"border:none\" />\n",
              "     <output id=\"result-d4db0531-f8f2-4634-bcfa-6ceae58dac7b\">\n",
              "      Upload widget is only available when the cell has been executed in the\n",
              "      current browser session. Please rerun this cell to enable.\n",
              "      </output>\n",
              "      <script>// Copyright 2017 Google LLC\n",
              "//\n",
              "// Licensed under the Apache License, Version 2.0 (the \"License\");\n",
              "// you may not use this file except in compliance with the License.\n",
              "// You may obtain a copy of the License at\n",
              "//\n",
              "//      http://www.apache.org/licenses/LICENSE-2.0\n",
              "//\n",
              "// Unless required by applicable law or agreed to in writing, software\n",
              "// distributed under the License is distributed on an \"AS IS\" BASIS,\n",
              "// WITHOUT WARRANTIES OR CONDITIONS OF ANY KIND, either express or implied.\n",
              "// See the License for the specific language governing permissions and\n",
              "// limitations under the License.\n",
              "\n",
              "/**\n",
              " * @fileoverview Helpers for google.colab Python module.\n",
              " */\n",
              "(function(scope) {\n",
              "function span(text, styleAttributes = {}) {\n",
              "  const element = document.createElement('span');\n",
              "  element.textContent = text;\n",
              "  for (const key of Object.keys(styleAttributes)) {\n",
              "    element.style[key] = styleAttributes[key];\n",
              "  }\n",
              "  return element;\n",
              "}\n",
              "\n",
              "// Max number of bytes which will be uploaded at a time.\n",
              "const MAX_PAYLOAD_SIZE = 100 * 1024;\n",
              "\n",
              "function _uploadFiles(inputId, outputId) {\n",
              "  const steps = uploadFilesStep(inputId, outputId);\n",
              "  const outputElement = document.getElementById(outputId);\n",
              "  // Cache steps on the outputElement to make it available for the next call\n",
              "  // to uploadFilesContinue from Python.\n",
              "  outputElement.steps = steps;\n",
              "\n",
              "  return _uploadFilesContinue(outputId);\n",
              "}\n",
              "\n",
              "// This is roughly an async generator (not supported in the browser yet),\n",
              "// where there are multiple asynchronous steps and the Python side is going\n",
              "// to poll for completion of each step.\n",
              "// This uses a Promise to block the python side on completion of each step,\n",
              "// then passes the result of the previous step as the input to the next step.\n",
              "function _uploadFilesContinue(outputId) {\n",
              "  const outputElement = document.getElementById(outputId);\n",
              "  const steps = outputElement.steps;\n",
              "\n",
              "  const next = steps.next(outputElement.lastPromiseValue);\n",
              "  return Promise.resolve(next.value.promise).then((value) => {\n",
              "    // Cache the last promise value to make it available to the next\n",
              "    // step of the generator.\n",
              "    outputElement.lastPromiseValue = value;\n",
              "    return next.value.response;\n",
              "  });\n",
              "}\n",
              "\n",
              "/**\n",
              " * Generator function which is called between each async step of the upload\n",
              " * process.\n",
              " * @param {string} inputId Element ID of the input file picker element.\n",
              " * @param {string} outputId Element ID of the output display.\n",
              " * @return {!Iterable<!Object>} Iterable of next steps.\n",
              " */\n",
              "function* uploadFilesStep(inputId, outputId) {\n",
              "  const inputElement = document.getElementById(inputId);\n",
              "  inputElement.disabled = false;\n",
              "\n",
              "  const outputElement = document.getElementById(outputId);\n",
              "  outputElement.innerHTML = '';\n",
              "\n",
              "  const pickedPromise = new Promise((resolve) => {\n",
              "    inputElement.addEventListener('change', (e) => {\n",
              "      resolve(e.target.files);\n",
              "    });\n",
              "  });\n",
              "\n",
              "  const cancel = document.createElement('button');\n",
              "  inputElement.parentElement.appendChild(cancel);\n",
              "  cancel.textContent = 'Cancel upload';\n",
              "  const cancelPromise = new Promise((resolve) => {\n",
              "    cancel.onclick = () => {\n",
              "      resolve(null);\n",
              "    };\n",
              "  });\n",
              "\n",
              "  // Wait for the user to pick the files.\n",
              "  const files = yield {\n",
              "    promise: Promise.race([pickedPromise, cancelPromise]),\n",
              "    response: {\n",
              "      action: 'starting',\n",
              "    }\n",
              "  };\n",
              "\n",
              "  cancel.remove();\n",
              "\n",
              "  // Disable the input element since further picks are not allowed.\n",
              "  inputElement.disabled = true;\n",
              "\n",
              "  if (!files) {\n",
              "    return {\n",
              "      response: {\n",
              "        action: 'complete',\n",
              "      }\n",
              "    };\n",
              "  }\n",
              "\n",
              "  for (const file of files) {\n",
              "    const li = document.createElement('li');\n",
              "    li.append(span(file.name, {fontWeight: 'bold'}));\n",
              "    li.append(span(\n",
              "        `(${file.type || 'n/a'}) - ${file.size} bytes, ` +\n",
              "        `last modified: ${\n",
              "            file.lastModifiedDate ? file.lastModifiedDate.toLocaleDateString() :\n",
              "                                    'n/a'} - `));\n",
              "    const percent = span('0% done');\n",
              "    li.appendChild(percent);\n",
              "\n",
              "    outputElement.appendChild(li);\n",
              "\n",
              "    const fileDataPromise = new Promise((resolve) => {\n",
              "      const reader = new FileReader();\n",
              "      reader.onload = (e) => {\n",
              "        resolve(e.target.result);\n",
              "      };\n",
              "      reader.readAsArrayBuffer(file);\n",
              "    });\n",
              "    // Wait for the data to be ready.\n",
              "    let fileData = yield {\n",
              "      promise: fileDataPromise,\n",
              "      response: {\n",
              "        action: 'continue',\n",
              "      }\n",
              "    };\n",
              "\n",
              "    // Use a chunked sending to avoid message size limits. See b/62115660.\n",
              "    let position = 0;\n",
              "    do {\n",
              "      const length = Math.min(fileData.byteLength - position, MAX_PAYLOAD_SIZE);\n",
              "      const chunk = new Uint8Array(fileData, position, length);\n",
              "      position += length;\n",
              "\n",
              "      const base64 = btoa(String.fromCharCode.apply(null, chunk));\n",
              "      yield {\n",
              "        response: {\n",
              "          action: 'append',\n",
              "          file: file.name,\n",
              "          data: base64,\n",
              "        },\n",
              "      };\n",
              "\n",
              "      let percentDone = fileData.byteLength === 0 ?\n",
              "          100 :\n",
              "          Math.round((position / fileData.byteLength) * 100);\n",
              "      percent.textContent = `${percentDone}% done`;\n",
              "\n",
              "    } while (position < fileData.byteLength);\n",
              "  }\n",
              "\n",
              "  // All done.\n",
              "  yield {\n",
              "    response: {\n",
              "      action: 'complete',\n",
              "    }\n",
              "  };\n",
              "}\n",
              "\n",
              "scope.google = scope.google || {};\n",
              "scope.google.colab = scope.google.colab || {};\n",
              "scope.google.colab._files = {\n",
              "  _uploadFiles,\n",
              "  _uploadFilesContinue,\n",
              "};\n",
              "})(self);\n",
              "</script> "
            ]
          },
          "metadata": {}
        },
        {
          "output_type": "stream",
          "name": "stdout",
          "text": [
            "Saving .env to .env (1)\n"
          ]
        }
      ]
    },
    {
      "cell_type": "markdown",
      "source": [
        "##Instalando Dependencias não disponíveis no colab"
      ],
      "metadata": {
        "id": "JJCtT2ggsHM4"
      }
    },
    {
      "cell_type": "code",
      "source": [
        "pip install python-dotenv"
      ],
      "metadata": {
        "colab": {
          "base_uri": "https://localhost:8080/"
        },
        "id": "B8G8hE_SpV0m",
        "outputId": "cec6db64-f64b-4a22-a8d5-762cb85dcec3"
      },
      "execution_count": 7,
      "outputs": [
        {
          "output_type": "stream",
          "name": "stdout",
          "text": [
            "Collecting python-dotenv\n",
            "  Downloading python_dotenv-1.0.1-py3-none-any.whl.metadata (23 kB)\n",
            "Downloading python_dotenv-1.0.1-py3-none-any.whl (19 kB)\n",
            "Installing collected packages: python-dotenv\n",
            "Successfully installed python-dotenv-1.0.1\n"
          ]
        }
      ]
    },
    {
      "cell_type": "code",
      "source": [
        "import requests\n",
        "import webbrowser\n",
        "from dotenv import load_dotenv\n",
        "import os"
      ],
      "metadata": {
        "id": "OsnE34PgtHye"
      },
      "execution_count": null,
      "outputs": []
    },
    {
      "cell_type": "markdown",
      "source": [
        "##Consultando API do Mercado Livre"
      ],
      "metadata": {
        "id": "AsdQX_tqsR0F"
      }
    },
    {
      "cell_type": "markdown",
      "source": [
        "#Obter Access Token e User ID"
      ],
      "metadata": {
        "id": "WP5grhlbrIDe"
      }
    },
    {
      "cell_type": "code",
      "source": [
        "def get_access_token_and_user_id():\n",
        "    load_dotenv('/content/.env')\n",
        "\n",
        "    APP_ID = os.getenv(\"APP_ID\")\n",
        "    APP_SECRET = os.getenv(\"APP_SECRET\")\n",
        "    REDIRECT_URI = os.getenv(\"REDIRECT_URI\")\n",
        "\n",
        "    # Cria a URL de autorização\n",
        "    auth_url = f'https://auth.mercadolivre.com.br/authorization?response_type=code&client_id={APP_ID}&redirect_uri={REDIRECT_URI}'\n",
        "\n",
        "    # Retorna a URL para que o usuário a abra no navegador\n",
        "    return auth_url\n",
        "\n",
        "def request_token(authorization_code):\n",
        "    token_url = 'https://api.mercadolibre.com/oauth/token'\n",
        "    payload = {\n",
        "        'grant_type': 'authorization_code',\n",
        "        'client_id': os.getenv(\"APP_ID\"),\n",
        "        'client_secret': os.getenv(\"APP_SECRET\"),\n",
        "        'code': authorization_code,\n",
        "        'redirect_uri': os.getenv(\"REDIRECT_URI\")\n",
        "    }\n",
        "\n",
        "    response = requests.post(token_url, data=payload)\n",
        "    token_data = response.json()\n",
        "\n",
        "    access_token = token_data['access_token']\n",
        "    user_id = token_data['user_id']\n",
        "\n",
        "    return access_token, user_id\n",
        "\n",
        "if __name__ == \"__main__\":\n",
        "    auth_url = get_access_token_and_user_id()\n",
        "    print(\"Abra o seguinte URL no seu navegador para obter o código de autorização:\")\n",
        "    print(auth_url)\n",
        "\n",
        "    authorization_code = input(\"Insira o código de autorização: \")\n",
        "    access_token, user_id = request_token(authorization_code)\n"
      ],
      "metadata": {
        "colab": {
          "base_uri": "https://localhost:8080/"
        },
        "id": "CXXK36aEpXxZ",
        "outputId": "a4eae1b5-ef7b-4fa6-c6c4-e226f3e60fb4"
      },
      "execution_count": 7,
      "outputs": [
        {
          "name": "stdout",
          "output_type": "stream",
          "text": [
            "Abra o seguinte URL no seu navegador para obter o código de autorização:\n",
            "https://auth.mercadolivre.com.br/authorization?response_type=code&client_id=5500572046072825&redirect_uri=https://victorsa.netlify.app\n",
            "Insira o código de autorização: TG-66f985ed4aea6100011658cf-478295390\n"
          ]
        }
      ]
    },
    {
      "cell_type": "markdown",
      "source": [
        "# Consumindo API por produtos para conseguir alguns vendedores de exemplo"
      ],
      "metadata": {
        "id": "11iWaJfntPPo"
      }
    },
    {
      "cell_type": "code",
      "source": [
        "ACCESS_TOKEN = 'APP_USR-5500572046072825-092911-448787bf26cd8a408fe0949aa786dc7d-478295390'\n",
        "SITE_ID = 'MLA'  # ou o site correspondente que você deseja usar\n",
        "CATEGORY_ID = 'MLA1055'  # ID da categoria que você deseja buscar\n",
        "\n",
        "# URL da API\n",
        "url = f'https://api.mercadolibre.com/sites/{SITE_ID}/search?category={CATEGORY_ID}'\n",
        "\n",
        "# Cabeçalhos da requisição\n",
        "headers = {\n",
        "    'Authorization': f'Bearer {ACCESS_TOKEN}'\n",
        "}\n",
        "\n",
        "# Fazer a requisição GET\n",
        "response = requests.get(url, headers=headers)\n",
        "\n",
        "# Verificar o status da resposta\n",
        "if response.status_code == 200:\n",
        "    data = response.json()\n",
        "\n",
        "    # Filtrar resultados e imprimir nickname do vendedor\n",
        "    for item in data['results']:\n",
        "        # Verifica se o item possui seller e nickname\n",
        "        if 'seller' in item and 'nickname' in item['seller']:\n",
        "            nickname = item['seller']['nickname']\n",
        "            title = item['title']\n",
        "            price = item['price']\n",
        "            permalink = item['permalink']\n",
        "\n",
        "            print(f'Título: {title}')\n",
        "            print(f'Preço: {price}')\n",
        "            print(f'Vendedor (Nickname): {nickname}')\n",
        "            print(f'Link: {permalink}')\n",
        "            print('-' * 40)\n",
        "else:\n",
        "    print(f'Erro na requisição: {response.status_code}')\n"
      ],
      "metadata": {
        "id": "XWRC1F92q_i6"
      },
      "execution_count": null,
      "outputs": []
    }
  ]
}