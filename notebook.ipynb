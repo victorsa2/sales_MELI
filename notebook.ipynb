{
  "nbformat": 4,
  "nbformat_minor": 0,
  "metadata": {
    "colab": {
      "provenance": [],
      "collapsed_sections": [
        "zUuX6K5kr41I"
      ],
      "authorship_tag": "ABX9TyMmt4x3gqhyXMoDXJ+P6CSa",
      "include_colab_link": true
    },
    "kernelspec": {
      "name": "python3",
      "display_name": "Python 3"
    },
    "language_info": {
      "name": "python"
    }
  },
  "cells": [
    {
      "cell_type": "markdown",
      "metadata": {
        "id": "view-in-github",
        "colab_type": "text"
      },
      "source": [
        "<a href=\"https://colab.research.google.com/github/victorsa2/sales_meli/blob/main/notebook.ipynb\" target=\"_parent\"><img src=\"https://colab.research.google.com/assets/colab-badge.svg\" alt=\"Open In Colab\"/></a>"
      ]
    },
    {
      "cell_type": "markdown",
      "source": [
        "## Preparando o Ambiente no Github"
      ],
      "metadata": {
        "id": "zUuX6K5kr41I"
      }
    },
    {
      "cell_type": "code",
      "source": [
        "!git clone https://github.com/victorsa2/sales_meli.git"
      ],
      "metadata": {
        "id": "QWE6RToSjZeM",
        "colab": {
          "base_uri": "https://localhost:8080/"
        },
        "outputId": "948464d2-0afc-4106-acc4-dc1038fad08e"
      },
      "execution_count": null,
      "outputs": [
        {
          "output_type": "stream",
          "name": "stdout",
          "text": [
            "Cloning into 'sales_meli'...\n",
            "remote: Enumerating objects: 3, done.\u001b[K\n",
            "remote: Counting objects: 100% (3/3), done.\u001b[K\n",
            "remote: Total 3 (delta 0), reused 0 (delta 0), pack-reused 0 (from 0)\u001b[K\n",
            "Receiving objects: 100% (3/3), done.\n"
          ]
        }
      ]
    },
    {
      "cell_type": "markdown",
      "source": [
        "## Subindo o arquivo .env com as variáveis no drive"
      ],
      "metadata": {
        "id": "TZvJyw69r_rO"
      }
    },
    {
      "cell_type": "code",
      "source": [
        "from google.colab import drive\n",
        "drive.mount('/content/drive')"
      ],
      "metadata": {
        "colab": {
          "base_uri": "https://localhost:8080/"
        },
        "id": "OpDWnUGyogyM",
        "outputId": "45920d95-ebaa-49e8-9d3c-652922090d09"
      },
      "execution_count": 22,
      "outputs": [
        {
          "output_type": "stream",
          "name": "stdout",
          "text": [
            "Drive already mounted at /content/drive; to attempt to forcibly remount, call drive.mount(\"/content/drive\", force_remount=True).\n"
          ]
        }
      ]
    },
    {
      "cell_type": "code",
      "source": [
        "from google.colab import files\n",
        "uploaded = files.upload()"
      ],
      "metadata": {
        "colab": {
          "base_uri": "https://localhost:8080/",
          "height": 73
        },
        "id": "Je9yl0duokC6",
        "outputId": "746488ef-6212-4b53-e87a-c00c4d9a96f1"
      },
      "execution_count": 23,
      "outputs": [
        {
          "output_type": "display_data",
          "data": {
            "text/plain": [
              "<IPython.core.display.HTML object>"
            ],
            "text/html": [
              "\n",
              "     <input type=\"file\" id=\"files-80f712d5-4710-4f26-a6cb-4348a581c523\" name=\"files[]\" multiple disabled\n",
              "        style=\"border:none\" />\n",
              "     <output id=\"result-80f712d5-4710-4f26-a6cb-4348a581c523\">\n",
              "      Upload widget is only available when the cell has been executed in the\n",
              "      current browser session. Please rerun this cell to enable.\n",
              "      </output>\n",
              "      <script>// Copyright 2017 Google LLC\n",
              "//\n",
              "// Licensed under the Apache License, Version 2.0 (the \"License\");\n",
              "// you may not use this file except in compliance with the License.\n",
              "// You may obtain a copy of the License at\n",
              "//\n",
              "//      http://www.apache.org/licenses/LICENSE-2.0\n",
              "//\n",
              "// Unless required by applicable law or agreed to in writing, software\n",
              "// distributed under the License is distributed on an \"AS IS\" BASIS,\n",
              "// WITHOUT WARRANTIES OR CONDITIONS OF ANY KIND, either express or implied.\n",
              "// See the License for the specific language governing permissions and\n",
              "// limitations under the License.\n",
              "\n",
              "/**\n",
              " * @fileoverview Helpers for google.colab Python module.\n",
              " */\n",
              "(function(scope) {\n",
              "function span(text, styleAttributes = {}) {\n",
              "  const element = document.createElement('span');\n",
              "  element.textContent = text;\n",
              "  for (const key of Object.keys(styleAttributes)) {\n",
              "    element.style[key] = styleAttributes[key];\n",
              "  }\n",
              "  return element;\n",
              "}\n",
              "\n",
              "// Max number of bytes which will be uploaded at a time.\n",
              "const MAX_PAYLOAD_SIZE = 100 * 1024;\n",
              "\n",
              "function _uploadFiles(inputId, outputId) {\n",
              "  const steps = uploadFilesStep(inputId, outputId);\n",
              "  const outputElement = document.getElementById(outputId);\n",
              "  // Cache steps on the outputElement to make it available for the next call\n",
              "  // to uploadFilesContinue from Python.\n",
              "  outputElement.steps = steps;\n",
              "\n",
              "  return _uploadFilesContinue(outputId);\n",
              "}\n",
              "\n",
              "// This is roughly an async generator (not supported in the browser yet),\n",
              "// where there are multiple asynchronous steps and the Python side is going\n",
              "// to poll for completion of each step.\n",
              "// This uses a Promise to block the python side on completion of each step,\n",
              "// then passes the result of the previous step as the input to the next step.\n",
              "function _uploadFilesContinue(outputId) {\n",
              "  const outputElement = document.getElementById(outputId);\n",
              "  const steps = outputElement.steps;\n",
              "\n",
              "  const next = steps.next(outputElement.lastPromiseValue);\n",
              "  return Promise.resolve(next.value.promise).then((value) => {\n",
              "    // Cache the last promise value to make it available to the next\n",
              "    // step of the generator.\n",
              "    outputElement.lastPromiseValue = value;\n",
              "    return next.value.response;\n",
              "  });\n",
              "}\n",
              "\n",
              "/**\n",
              " * Generator function which is called between each async step of the upload\n",
              " * process.\n",
              " * @param {string} inputId Element ID of the input file picker element.\n",
              " * @param {string} outputId Element ID of the output display.\n",
              " * @return {!Iterable<!Object>} Iterable of next steps.\n",
              " */\n",
              "function* uploadFilesStep(inputId, outputId) {\n",
              "  const inputElement = document.getElementById(inputId);\n",
              "  inputElement.disabled = false;\n",
              "\n",
              "  const outputElement = document.getElementById(outputId);\n",
              "  outputElement.innerHTML = '';\n",
              "\n",
              "  const pickedPromise = new Promise((resolve) => {\n",
              "    inputElement.addEventListener('change', (e) => {\n",
              "      resolve(e.target.files);\n",
              "    });\n",
              "  });\n",
              "\n",
              "  const cancel = document.createElement('button');\n",
              "  inputElement.parentElement.appendChild(cancel);\n",
              "  cancel.textContent = 'Cancel upload';\n",
              "  const cancelPromise = new Promise((resolve) => {\n",
              "    cancel.onclick = () => {\n",
              "      resolve(null);\n",
              "    };\n",
              "  });\n",
              "\n",
              "  // Wait for the user to pick the files.\n",
              "  const files = yield {\n",
              "    promise: Promise.race([pickedPromise, cancelPromise]),\n",
              "    response: {\n",
              "      action: 'starting',\n",
              "    }\n",
              "  };\n",
              "\n",
              "  cancel.remove();\n",
              "\n",
              "  // Disable the input element since further picks are not allowed.\n",
              "  inputElement.disabled = true;\n",
              "\n",
              "  if (!files) {\n",
              "    return {\n",
              "      response: {\n",
              "        action: 'complete',\n",
              "      }\n",
              "    };\n",
              "  }\n",
              "\n",
              "  for (const file of files) {\n",
              "    const li = document.createElement('li');\n",
              "    li.append(span(file.name, {fontWeight: 'bold'}));\n",
              "    li.append(span(\n",
              "        `(${file.type || 'n/a'}) - ${file.size} bytes, ` +\n",
              "        `last modified: ${\n",
              "            file.lastModifiedDate ? file.lastModifiedDate.toLocaleDateString() :\n",
              "                                    'n/a'} - `));\n",
              "    const percent = span('0% done');\n",
              "    li.appendChild(percent);\n",
              "\n",
              "    outputElement.appendChild(li);\n",
              "\n",
              "    const fileDataPromise = new Promise((resolve) => {\n",
              "      const reader = new FileReader();\n",
              "      reader.onload = (e) => {\n",
              "        resolve(e.target.result);\n",
              "      };\n",
              "      reader.readAsArrayBuffer(file);\n",
              "    });\n",
              "    // Wait for the data to be ready.\n",
              "    let fileData = yield {\n",
              "      promise: fileDataPromise,\n",
              "      response: {\n",
              "        action: 'continue',\n",
              "      }\n",
              "    };\n",
              "\n",
              "    // Use a chunked sending to avoid message size limits. See b/62115660.\n",
              "    let position = 0;\n",
              "    do {\n",
              "      const length = Math.min(fileData.byteLength - position, MAX_PAYLOAD_SIZE);\n",
              "      const chunk = new Uint8Array(fileData, position, length);\n",
              "      position += length;\n",
              "\n",
              "      const base64 = btoa(String.fromCharCode.apply(null, chunk));\n",
              "      yield {\n",
              "        response: {\n",
              "          action: 'append',\n",
              "          file: file.name,\n",
              "          data: base64,\n",
              "        },\n",
              "      };\n",
              "\n",
              "      let percentDone = fileData.byteLength === 0 ?\n",
              "          100 :\n",
              "          Math.round((position / fileData.byteLength) * 100);\n",
              "      percent.textContent = `${percentDone}% done`;\n",
              "\n",
              "    } while (position < fileData.byteLength);\n",
              "  }\n",
              "\n",
              "  // All done.\n",
              "  yield {\n",
              "    response: {\n",
              "      action: 'complete',\n",
              "    }\n",
              "  };\n",
              "}\n",
              "\n",
              "scope.google = scope.google || {};\n",
              "scope.google.colab = scope.google.colab || {};\n",
              "scope.google.colab._files = {\n",
              "  _uploadFiles,\n",
              "  _uploadFilesContinue,\n",
              "};\n",
              "})(self);\n",
              "</script> "
            ]
          },
          "metadata": {}
        },
        {
          "output_type": "stream",
          "name": "stdout",
          "text": [
            "Saving .env to .env (1)\n"
          ]
        }
      ]
    },
    {
      "cell_type": "markdown",
      "source": [
        "##Instalando Dependencias não disponíveis no colab"
      ],
      "metadata": {
        "id": "JJCtT2ggsHM4"
      }
    },
    {
      "cell_type": "code",
      "source": [
        "pip install python-dotenv"
      ],
      "metadata": {
        "colab": {
          "base_uri": "https://localhost:8080/"
        },
        "id": "B8G8hE_SpV0m",
        "outputId": "32890a8e-954a-4d2c-ffba-370c98643f32"
      },
      "execution_count": 24,
      "outputs": [
        {
          "output_type": "stream",
          "name": "stdout",
          "text": [
            "Requirement already satisfied: python-dotenv in /usr/local/lib/python3.10/dist-packages (1.0.1)\n"
          ]
        }
      ]
    },
    {
      "cell_type": "code",
      "source": [
        "import requests\n",
        "import webbrowser\n",
        "from dotenv import load_dotenv\n",
        "import os"
      ],
      "metadata": {
        "id": "OsnE34PgtHye"
      },
      "execution_count": 25,
      "outputs": []
    },
    {
      "cell_type": "markdown",
      "source": [
        "##Consultando API do Mercado Livre"
      ],
      "metadata": {
        "id": "AsdQX_tqsR0F"
      }
    },
    {
      "cell_type": "markdown",
      "source": [
        "#Obter Access Token e User ID"
      ],
      "metadata": {
        "id": "WP5grhlbrIDe"
      }
    },
    {
      "cell_type": "code",
      "source": [
        "load_dotenv('/content/.env')\n",
        "\n",
        "APP_ID = os.getenv(\"APP_ID\")\n",
        "APP_SECRET = os.getenv(\"APP_SECRET\")\n",
        "REDIRECT_URI = os.getenv(\"REDIRECT_URI\")\n",
        "\n",
        "def get_access_token_and_user_id():\n",
        "\n",
        "    auth_url = f'https://auth.mercadolivre.com.br/authorization?response_type=code&client_id={APP_ID}&redirect_uri={REDIRECT_URI}'\n",
        "    return auth_url\n",
        "\n",
        "def request_token(authorization_code):\n",
        "    token_url = 'https://api.mercadolibre.com/oauth/token'\n",
        "    payload = {\n",
        "        'grant_type': 'authorization_code',\n",
        "        'client_id': os.getenv(\"APP_ID\"),\n",
        "        'client_secret': os.getenv(\"APP_SECRET\"),\n",
        "        'code': authorization_code,\n",
        "        'redirect_uri': os.getenv(\"REDIRECT_URI\")\n",
        "    }\n",
        "\n",
        "    response = requests.post(token_url, data=payload)\n",
        "    token_data = response.json()\n",
        "\n",
        "    access_token = token_data['access_token']\n",
        "    user_id = token_data['user_id']\n",
        "\n",
        "    return access_token, user_id\n",
        "\n",
        "if __name__ == \"__main__\":\n",
        "    auth_url = get_access_token_and_user_id()\n",
        "    print(\"Abra o seguinte URL no seu navegador para obter o código de autorização:\")\n",
        "    print(auth_url)\n",
        "\n",
        "    authorization_code = input(\"Insira o código de autorização: \")\n",
        "    access_token, user_id = request_token(authorization_code)\n"
      ],
      "metadata": {
        "colab": {
          "base_uri": "https://localhost:8080/"
        },
        "id": "CXXK36aEpXxZ",
        "outputId": "b683ccdc-6658-4e38-b39b-a5221aabe6de"
      },
      "execution_count": 29,
      "outputs": [
        {
          "name": "stdout",
          "output_type": "stream",
          "text": [
            "Abra o seguinte URL no seu navegador para obter o código de autorização:\n",
            "https://auth.mercadolivre.com.br/authorization?response_type=code&client_id=5500572046072825&redirect_uri=https://victorsa.netlify.app\n",
            "Insira o código de autorização: TG-66fae1297b02b00001f07138-478295390\n"
          ]
        }
      ]
    },
    {
      "cell_type": "markdown",
      "source": [
        "#Obter dimensão de Categorias"
      ],
      "metadata": {
        "id": "pk4OGC2mjV6b"
      }
    },
    {
      "cell_type": "code",
      "source": [
        "import requests\n",
        "import pandas as pd\n",
        "\n",
        "def fetch_categories():\n",
        "    url = \"https://api.mercadolibre.com/sites/MLB/categories\"\n",
        "    response = requests.get(url)\n",
        "\n",
        "    if response.status_code == 200:\n",
        "        return response.json()\n",
        "    else:\n",
        "        print(f\"Erro ao obter categorias: {response.status_code}\")\n",
        "        return []\n",
        "\n",
        "categories_data = fetch_categories()\n",
        "categories_list = []\n",
        "\n",
        "for category in categories_data:\n",
        "    categories_list.append({\n",
        "        'id_category': category['id'],\n",
        "        'name': category['name'],\n",
        "    })\n",
        "\n",
        "dim_Category = pd.DataFrame(categories_list)\n",
        "dim_Category.to_csv('teste.csv')\n",
        "\n",
        "print(\"Dimensão Categorias:\")\n",
        "print(dim_Category.head())"
      ],
      "metadata": {
        "colab": {
          "base_uri": "https://localhost:8080/"
        },
        "id": "DEBGe4bhjVHA",
        "outputId": "139cd157-d393-43ac-d3c0-960d2de302ed"
      },
      "execution_count": 30,
      "outputs": [
        {
          "output_type": "stream",
          "name": "stdout",
          "text": [
            "Dimensão Categorias:\n",
            "  id_category                      name\n",
            "0     MLB5672  Acessórios para Veículos\n",
            "1   MLB271599                      Agro\n",
            "2     MLB1403       Alimentos e Bebidas\n",
            "3     MLB1071                   Animais\n",
            "4     MLB1367   Antiguidades e Coleções\n"
          ]
        }
      ]
    },
    {
      "cell_type": "markdown",
      "source": [
        "# Consumindo API por produtos para conseguir alguns vendedores de exemplo, pesquisando por todas as categorias do Mercado Livre.\n"
      ],
      "metadata": {
        "id": "11iWaJfntPPo"
      }
    },
    {
      "cell_type": "code",
      "source": [
        "def fetch_categories():\n",
        "    url = \"https://api.mercadolibre.com/sites/MLB/categories\"\n",
        "    try:\n",
        "        response = requests.get(url)\n",
        "        response.raise_for_status()\n",
        "        return response.json()\n",
        "    except requests.exceptions.RequestException as e:\n",
        "        print(f\"Erro ao obter categorias: {e}\")\n",
        "        return []\n",
        "\n",
        "def fetch_sales_in_category(category_id, access_token, site_id):\n",
        "    url = f'https://api.mercadolibre.com/sites/{site_id}/search?category={category_id}'\n",
        "    headers = {'Authorization': f'Bearer {access_token}'}\n",
        "\n",
        "    try:\n",
        "        response = requests.get(url, headers=headers)\n",
        "        response.raise_for_status()\n",
        "        return response.json()['results']\n",
        "    except requests.exceptions.RequestException as e:\n",
        "        print(f\"Erro ao obter vendas na categoria {category_id}: {e}\")\n",
        "        return []\n",
        "\n",
        "ACCESS_TOKEN = access_token\n",
        "SITE_ID = 'MLB'\n",
        "\n",
        "sales_list = []\n",
        "categories_data = fetch_categories()\n",
        "\n",
        "for category in categories_data:\n",
        "    category_id = category['id']\n",
        "    print(f\"\\nBuscando vendas na categoria: {category['name']} (ID: {category_id})\")\n",
        "\n",
        "    sales_data = fetch_sales_in_category(category_id, ACCESS_TOKEN, SITE_ID)\n",
        "\n",
        "    if sales_data:\n",
        "        for item in sales_data:\n",
        "            if 'seller' in item and 'nickname' in item['seller']:\n",
        "                sales_list.append({\n",
        "                    'seller_id': item['seller']['id'],\n",
        "                    'seller_nickname': item['seller']['nickname'],\n",
        "                    'category_id': category['id'],\n",
        "                    'category': category['name'],\n",
        "                    'item_id': item['id'],\n",
        "                    'item_name': item['title'],\n",
        "                    'currency': item['currency_id'],\n",
        "                    'price': item['price']\n",
        "                })\n",
        "    else:\n",
        "        print(\"Nenhum resultado encontrado para esta categoria.\")\n",
        "\n",
        "df_sales = pd.DataFrame(sales_list)\n",
        "df_sales.to_csv('produtos.csv',encoding='utf-8-sig')\n",
        "\n",
        "print(df_sales)"
      ],
      "metadata": {
        "colab": {
          "base_uri": "https://localhost:8080/"
        },
        "id": "BG9onCLRoLHA",
        "outputId": "2ffd19e9-e898-43e4-99f2-cb7e6db6c702"
      },
      "execution_count": 48,
      "outputs": [
        {
          "output_type": "stream",
          "name": "stdout",
          "text": [
            "\n",
            "Buscando vendas na categoria: Acessórios para Veículos (ID: MLB5672)\n",
            "\n",
            "Buscando vendas na categoria: Agro (ID: MLB271599)\n",
            "\n",
            "Buscando vendas na categoria: Alimentos e Bebidas (ID: MLB1403)\n",
            "\n",
            "Buscando vendas na categoria: Animais (ID: MLB1071)\n",
            "\n",
            "Buscando vendas na categoria: Antiguidades e Coleções (ID: MLB1367)\n",
            "\n",
            "Buscando vendas na categoria: Arte, Papelaria e Armarinho (ID: MLB1368)\n",
            "\n",
            "Buscando vendas na categoria: Bebês (ID: MLB1384)\n",
            "\n",
            "Buscando vendas na categoria: Beleza e Cuidado Pessoal (ID: MLB1246)\n",
            "\n",
            "Buscando vendas na categoria: Brinquedos e Hobbies (ID: MLB1132)\n",
            "\n",
            "Buscando vendas na categoria: Calçados, Roupas e Bolsas (ID: MLB1430)\n",
            "\n",
            "Buscando vendas na categoria: Câmeras e Acessórios (ID: MLB1039)\n",
            "\n",
            "Buscando vendas na categoria: Carros, Motos e Outros (ID: MLB1743)\n",
            "\n",
            "Buscando vendas na categoria: Casa, Móveis e Decoração (ID: MLB1574)\n",
            "\n",
            "Buscando vendas na categoria: Celulares e Telefones (ID: MLB1051)\n",
            "\n",
            "Buscando vendas na categoria: Construção (ID: MLB1500)\n",
            "\n",
            "Buscando vendas na categoria: Eletrodomésticos (ID: MLB5726)\n",
            "\n",
            "Buscando vendas na categoria: Eletrônicos, Áudio e Vídeo (ID: MLB1000)\n",
            "\n",
            "Buscando vendas na categoria: Esportes e Fitness (ID: MLB1276)\n",
            "\n",
            "Buscando vendas na categoria: Ferramentas (ID: MLB263532)\n",
            "\n",
            "Buscando vendas na categoria: Festas e Lembrancinhas (ID: MLB12404)\n",
            "\n",
            "Buscando vendas na categoria: Games (ID: MLB1144)\n",
            "\n",
            "Buscando vendas na categoria: Imóveis (ID: MLB1459)\n",
            "\n",
            "Buscando vendas na categoria: Indústria e Comércio (ID: MLB1499)\n",
            "\n",
            "Buscando vendas na categoria: Informática (ID: MLB1648)\n",
            "\n",
            "Buscando vendas na categoria: Ingressos (ID: MLB218519)\n",
            "\n",
            "Buscando vendas na categoria: Instrumentos Musicais (ID: MLB1182)\n",
            "\n",
            "Buscando vendas na categoria: Joias e Relógios (ID: MLB3937)\n",
            "\n",
            "Buscando vendas na categoria: Livros, Revistas e Comics (ID: MLB1196)\n",
            "\n",
            "Buscando vendas na categoria: Música, Filmes e Seriados (ID: MLB1168)\n",
            "\n",
            "Buscando vendas na categoria: Saúde (ID: MLB264586)\n",
            "\n",
            "Buscando vendas na categoria: Serviços (ID: MLB1540)\n",
            "\n",
            "Buscando vendas na categoria: Mais Categorias (ID: MLB1953)\n",
            "       seller_id           seller_nickname category_id  \\\n",
            "0      224160443            MAF UTILIDADES     MLB5672   \n",
            "1      444816473                   AUTO TR     MLB5672   \n",
            "2     1165626720                     WEMG_     MLB5672   \n",
            "3     1148569370              MEGAMOTO.COM     MLB5672   \n",
            "4     1257560156            IMPORTSCESTARO     MLB5672   \n",
            "...          ...                       ...         ...   \n",
            "1579  1279393053            ZOOM_COMERCIAL     MLB1953   \n",
            "1580   305977176              ATELIÊ LUARA     MLB1953   \n",
            "1581   619512171        DRACAR SÃO_GONÇALO     MLB1953   \n",
            "1582   710361722  EQUIPA_ART_TATTOO_SUPPLY     MLB1953   \n",
            "1583    25398190      AGROPECUÁRIA_RECANTO     MLB1953   \n",
            "\n",
            "                      category        item_id  \\\n",
            "0     Acessórios para Veículos  MLB4296308798   \n",
            "1     Acessórios para Veículos  MLB3698110641   \n",
            "2     Acessórios para Veículos  MLB3494040092   \n",
            "3     Acessórios para Veículos  MLB3721274157   \n",
            "4     Acessórios para Veículos  MLB3533136913   \n",
            "...                        ...            ...   \n",
            "1579           Mais Categorias  MLB3487706013   \n",
            "1580           Mais Categorias  MLB3832371460   \n",
            "1581           Mais Categorias  MLB4859360092   \n",
            "1582           Mais Categorias  MLB3516664267   \n",
            "1583           Mais Categorias  MLB4200245598   \n",
            "\n",
            "                                              item_name currency    price  \n",
            "0     Kit 10 Panos Microfibra Flanela 35*50cm Power ...      BRL    41.00  \n",
            "1     Mangueira Filtro Ar Tbi Honda Civic 2012 2013 ...      BRL    82.50  \n",
            "2     Modulo Taramps Ts400x4 400w 2 Ohms Rca Ts 400x...      BRL   186.66  \n",
            "3     Par Pneu Bros 150 Xre 190 90/90-19 + 110/90-17...      BRL   575.00  \n",
            "4     Módulo Injeção Programável M250 P/ Motos Honda...      BRL  1350.00  \n",
            "...                                                 ...      ...      ...  \n",
            "1579  Caixa Seda Zomo Natural Perfect Brown 25 Livre...      BRL    28.57  \n",
            "1580  Incenso Senko Horyuko Japonês Budista 500 Bast...      BRL    37.99  \n",
            "1581          Cabo Rca Para Máquina De Tattoo Cor Preto      BRL    31.00  \n",
            "1582  Manteiga Para Tatto Cat Slobber Hortelã 250g E...      BRL    69.75  \n",
            "1583                Cachimbo De Madeira - Pequeno Curvo      BRL    18.70  \n",
            "\n",
            "[1584 rows x 8 columns]\n"
          ]
        }
      ]
    },
    {
      "cell_type": "code",
      "source": [],
      "metadata": {
        "id": "bWg4SLxt_AzT"
      },
      "execution_count": null,
      "outputs": []
    }
  ]
}