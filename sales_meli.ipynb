{
  "nbformat": 4,
  "nbformat_minor": 0,
  "metadata": {
    "colab": {
      "provenance": [],
      "collapsed_sections": [
        "11iWaJfntPPo"
      ],
      "authorship_tag": "ABX9TyOdZOOHtlh8TOKdY4/ivqW6",
      "include_colab_link": true
    },
    "kernelspec": {
      "name": "python3",
      "display_name": "Python 3"
    },
    "language_info": {
      "name": "python"
    }
  },
  "cells": [
    {
      "cell_type": "markdown",
      "metadata": {
        "id": "view-in-github",
        "colab_type": "text"
      },
      "source": [
        "<a href=\"https://colab.research.google.com/github/victorsa2/sales_meli/blob/main/sales_meli.ipynb\" target=\"_parent\"><img src=\"https://colab.research.google.com/assets/colab-badge.svg\" alt=\"Open In Colab\"/></a>"
      ]
    },
    {
      "cell_type": "markdown",
      "source": [
        "# Exercício 1"
      ],
      "metadata": {
        "id": "YbOuPliF5_Vx"
      }
    },
    {
      "cell_type": "markdown",
      "source": [
        "## Preparando o Ambiente no Github"
      ],
      "metadata": {
        "id": "zUuX6K5kr41I"
      }
    },
    {
      "cell_type": "code",
      "source": [
        "!git clone https://github.com/victorsa2/sales_meli.git"
      ],
      "metadata": {
        "id": "QWE6RToSjZeM",
        "colab": {
          "base_uri": "https://localhost:8080/"
        },
        "outputId": "654334d2-e6c4-4376-f91e-1350524bb977"
      },
      "execution_count": null,
      "outputs": [
        {
          "output_type": "stream",
          "name": "stdout",
          "text": [
            "Cloning into 'sales_meli'...\n",
            "remote: Enumerating objects: 80, done.\u001b[K\n",
            "remote: Counting objects: 100% (80/80), done.\u001b[K\n",
            "remote: Compressing objects: 100% (75/75), done.\u001b[K\n",
            "remote: Total 80 (delta 33), reused 0 (delta 0), pack-reused 0 (from 0)\u001b[K\n",
            "Receiving objects: 100% (80/80), 467.51 KiB | 5.57 MiB/s, done.\n",
            "Resolving deltas: 100% (33/33), done.\n"
          ]
        }
      ]
    },
    {
      "cell_type": "markdown",
      "source": [
        "## Subindo o arquivo .env com as variáveis no drive"
      ],
      "metadata": {
        "id": "TZvJyw69r_rO"
      }
    },
    {
      "cell_type": "code",
      "source": [
        "from google.colab import drive\n",
        "drive.mount('/content/drive')"
      ],
      "metadata": {
        "colab": {
          "base_uri": "https://localhost:8080/"
        },
        "id": "OpDWnUGyogyM",
        "outputId": "9e2d0d3b-dd6b-454a-8b51-06fa3ab746ce"
      },
      "execution_count": null,
      "outputs": [
        {
          "output_type": "stream",
          "name": "stdout",
          "text": [
            "Mounted at /content/drive\n"
          ]
        }
      ]
    },
    {
      "cell_type": "code",
      "source": [
        "from google.colab import files\n",
        "uploaded = files.upload()"
      ],
      "metadata": {
        "colab": {
          "base_uri": "https://localhost:8080/",
          "height": 73
        },
        "id": "Je9yl0duokC6",
        "outputId": "966794c8-71bc-42ec-ac68-66e1610f7858"
      },
      "execution_count": null,
      "outputs": [
        {
          "output_type": "display_data",
          "data": {
            "text/plain": [
              "<IPython.core.display.HTML object>"
            ],
            "text/html": [
              "\n",
              "     <input type=\"file\" id=\"files-51bd89ba-6476-49cc-adfa-84990a1f4f9f\" name=\"files[]\" multiple disabled\n",
              "        style=\"border:none\" />\n",
              "     <output id=\"result-51bd89ba-6476-49cc-adfa-84990a1f4f9f\">\n",
              "      Upload widget is only available when the cell has been executed in the\n",
              "      current browser session. Please rerun this cell to enable.\n",
              "      </output>\n",
              "      <script>// Copyright 2017 Google LLC\n",
              "//\n",
              "// Licensed under the Apache License, Version 2.0 (the \"License\");\n",
              "// you may not use this file except in compliance with the License.\n",
              "// You may obtain a copy of the License at\n",
              "//\n",
              "//      http://www.apache.org/licenses/LICENSE-2.0\n",
              "//\n",
              "// Unless required by applicable law or agreed to in writing, software\n",
              "// distributed under the License is distributed on an \"AS IS\" BASIS,\n",
              "// WITHOUT WARRANTIES OR CONDITIONS OF ANY KIND, either express or implied.\n",
              "// See the License for the specific language governing permissions and\n",
              "// limitations under the License.\n",
              "\n",
              "/**\n",
              " * @fileoverview Helpers for google.colab Python module.\n",
              " */\n",
              "(function(scope) {\n",
              "function span(text, styleAttributes = {}) {\n",
              "  const element = document.createElement('span');\n",
              "  element.textContent = text;\n",
              "  for (const key of Object.keys(styleAttributes)) {\n",
              "    element.style[key] = styleAttributes[key];\n",
              "  }\n",
              "  return element;\n",
              "}\n",
              "\n",
              "// Max number of bytes which will be uploaded at a time.\n",
              "const MAX_PAYLOAD_SIZE = 100 * 1024;\n",
              "\n",
              "function _uploadFiles(inputId, outputId) {\n",
              "  const steps = uploadFilesStep(inputId, outputId);\n",
              "  const outputElement = document.getElementById(outputId);\n",
              "  // Cache steps on the outputElement to make it available for the next call\n",
              "  // to uploadFilesContinue from Python.\n",
              "  outputElement.steps = steps;\n",
              "\n",
              "  return _uploadFilesContinue(outputId);\n",
              "}\n",
              "\n",
              "// This is roughly an async generator (not supported in the browser yet),\n",
              "// where there are multiple asynchronous steps and the Python side is going\n",
              "// to poll for completion of each step.\n",
              "// This uses a Promise to block the python side on completion of each step,\n",
              "// then passes the result of the previous step as the input to the next step.\n",
              "function _uploadFilesContinue(outputId) {\n",
              "  const outputElement = document.getElementById(outputId);\n",
              "  const steps = outputElement.steps;\n",
              "\n",
              "  const next = steps.next(outputElement.lastPromiseValue);\n",
              "  return Promise.resolve(next.value.promise).then((value) => {\n",
              "    // Cache the last promise value to make it available to the next\n",
              "    // step of the generator.\n",
              "    outputElement.lastPromiseValue = value;\n",
              "    return next.value.response;\n",
              "  });\n",
              "}\n",
              "\n",
              "/**\n",
              " * Generator function which is called between each async step of the upload\n",
              " * process.\n",
              " * @param {string} inputId Element ID of the input file picker element.\n",
              " * @param {string} outputId Element ID of the output display.\n",
              " * @return {!Iterable<!Object>} Iterable of next steps.\n",
              " */\n",
              "function* uploadFilesStep(inputId, outputId) {\n",
              "  const inputElement = document.getElementById(inputId);\n",
              "  inputElement.disabled = false;\n",
              "\n",
              "  const outputElement = document.getElementById(outputId);\n",
              "  outputElement.innerHTML = '';\n",
              "\n",
              "  const pickedPromise = new Promise((resolve) => {\n",
              "    inputElement.addEventListener('change', (e) => {\n",
              "      resolve(e.target.files);\n",
              "    });\n",
              "  });\n",
              "\n",
              "  const cancel = document.createElement('button');\n",
              "  inputElement.parentElement.appendChild(cancel);\n",
              "  cancel.textContent = 'Cancel upload';\n",
              "  const cancelPromise = new Promise((resolve) => {\n",
              "    cancel.onclick = () => {\n",
              "      resolve(null);\n",
              "    };\n",
              "  });\n",
              "\n",
              "  // Wait for the user to pick the files.\n",
              "  const files = yield {\n",
              "    promise: Promise.race([pickedPromise, cancelPromise]),\n",
              "    response: {\n",
              "      action: 'starting',\n",
              "    }\n",
              "  };\n",
              "\n",
              "  cancel.remove();\n",
              "\n",
              "  // Disable the input element since further picks are not allowed.\n",
              "  inputElement.disabled = true;\n",
              "\n",
              "  if (!files) {\n",
              "    return {\n",
              "      response: {\n",
              "        action: 'complete',\n",
              "      }\n",
              "    };\n",
              "  }\n",
              "\n",
              "  for (const file of files) {\n",
              "    const li = document.createElement('li');\n",
              "    li.append(span(file.name, {fontWeight: 'bold'}));\n",
              "    li.append(span(\n",
              "        `(${file.type || 'n/a'}) - ${file.size} bytes, ` +\n",
              "        `last modified: ${\n",
              "            file.lastModifiedDate ? file.lastModifiedDate.toLocaleDateString() :\n",
              "                                    'n/a'} - `));\n",
              "    const percent = span('0% done');\n",
              "    li.appendChild(percent);\n",
              "\n",
              "    outputElement.appendChild(li);\n",
              "\n",
              "    const fileDataPromise = new Promise((resolve) => {\n",
              "      const reader = new FileReader();\n",
              "      reader.onload = (e) => {\n",
              "        resolve(e.target.result);\n",
              "      };\n",
              "      reader.readAsArrayBuffer(file);\n",
              "    });\n",
              "    // Wait for the data to be ready.\n",
              "    let fileData = yield {\n",
              "      promise: fileDataPromise,\n",
              "      response: {\n",
              "        action: 'continue',\n",
              "      }\n",
              "    };\n",
              "\n",
              "    // Use a chunked sending to avoid message size limits. See b/62115660.\n",
              "    let position = 0;\n",
              "    do {\n",
              "      const length = Math.min(fileData.byteLength - position, MAX_PAYLOAD_SIZE);\n",
              "      const chunk = new Uint8Array(fileData, position, length);\n",
              "      position += length;\n",
              "\n",
              "      const base64 = btoa(String.fromCharCode.apply(null, chunk));\n",
              "      yield {\n",
              "        response: {\n",
              "          action: 'append',\n",
              "          file: file.name,\n",
              "          data: base64,\n",
              "        },\n",
              "      };\n",
              "\n",
              "      let percentDone = fileData.byteLength === 0 ?\n",
              "          100 :\n",
              "          Math.round((position / fileData.byteLength) * 100);\n",
              "      percent.textContent = `${percentDone}% done`;\n",
              "\n",
              "    } while (position < fileData.byteLength);\n",
              "  }\n",
              "\n",
              "  // All done.\n",
              "  yield {\n",
              "    response: {\n",
              "      action: 'complete',\n",
              "    }\n",
              "  };\n",
              "}\n",
              "\n",
              "scope.google = scope.google || {};\n",
              "scope.google.colab = scope.google.colab || {};\n",
              "scope.google.colab._files = {\n",
              "  _uploadFiles,\n",
              "  _uploadFilesContinue,\n",
              "};\n",
              "})(self);\n",
              "</script> "
            ]
          },
          "metadata": {}
        },
        {
          "output_type": "stream",
          "name": "stdout",
          "text": [
            "Saving .env to .env\n"
          ]
        }
      ]
    },
    {
      "cell_type": "markdown",
      "source": [
        "##Instalando Dependencias não disponíveis no colab"
      ],
      "metadata": {
        "id": "JJCtT2ggsHM4"
      }
    },
    {
      "cell_type": "code",
      "source": [
        "pip install python-dotenv"
      ],
      "metadata": {
        "colab": {
          "base_uri": "https://localhost:8080/"
        },
        "id": "B8G8hE_SpV0m",
        "outputId": "2c4882e7-daef-40ca-e4df-0952e2ac2291"
      },
      "execution_count": null,
      "outputs": [
        {
          "output_type": "stream",
          "name": "stdout",
          "text": [
            "Collecting python-dotenv\n",
            "  Downloading python_dotenv-1.0.1-py3-none-any.whl.metadata (23 kB)\n",
            "Downloading python_dotenv-1.0.1-py3-none-any.whl (19 kB)\n",
            "Installing collected packages: python-dotenv\n",
            "Successfully installed python-dotenv-1.0.1\n"
          ]
        }
      ]
    },
    {
      "cell_type": "code",
      "source": [
        "import requests\n",
        "import webbrowser\n",
        "from dotenv import load_dotenv\n",
        "import os"
      ],
      "metadata": {
        "id": "OsnE34PgtHye"
      },
      "execution_count": null,
      "outputs": []
    },
    {
      "cell_type": "markdown",
      "source": [
        "##Consultando API do Mercado Livre"
      ],
      "metadata": {
        "id": "AsdQX_tqsR0F"
      }
    },
    {
      "cell_type": "markdown",
      "source": [
        "##Obter Access Token e User ID"
      ],
      "metadata": {
        "id": "WP5grhlbrIDe"
      }
    },
    {
      "cell_type": "code",
      "source": [
        "load_dotenv('/content/.env')\n",
        "\n",
        "APP_ID = os.getenv(\"APP_ID\")\n",
        "APP_SECRET = os.getenv(\"APP_SECRET\")\n",
        "REDIRECT_URI = os.getenv(\"REDIRECT_URI\")\n",
        "\n",
        "def get_access_token_and_user_id():\n",
        "\n",
        "    auth_url = f'https://auth.mercadolivre.com.br/authorization?response_type=code&client_id={APP_ID}&redirect_uri={REDIRECT_URI}'\n",
        "    return auth_url\n",
        "\n",
        "def request_token(authorization_code):\n",
        "    token_url = 'https://api.mercadolibre.com/oauth/token'\n",
        "    payload = {\n",
        "        'grant_type': 'authorization_code',\n",
        "        'client_id': os.getenv(\"APP_ID\"),\n",
        "        'client_secret': os.getenv(\"APP_SECRET\"),\n",
        "        'code': authorization_code,\n",
        "        'redirect_uri': os.getenv(\"REDIRECT_URI\")\n",
        "    }\n",
        "\n",
        "    response = requests.post(token_url, data=payload)\n",
        "    token_data = response.json()\n",
        "\n",
        "    access_token = token_data['access_token']\n",
        "    user_id = token_data['user_id']\n",
        "\n",
        "    return access_token, user_id\n",
        "\n",
        "if __name__ == \"__main__\":\n",
        "    auth_url = get_access_token_and_user_id()\n",
        "    print(\"Abra o seguinte URL no seu navegador para obter o código de autorização:\")\n",
        "    print(auth_url)\n",
        "\n",
        "    authorization_code = input(\"Insira o código de autorização: \")\n",
        "    access_token, user_id = request_token(authorization_code)\n"
      ],
      "metadata": {
        "colab": {
          "base_uri": "https://localhost:8080/"
        },
        "id": "CXXK36aEpXxZ",
        "outputId": "4dba8d43-cc18-461c-fafa-6a805f5ab811"
      },
      "execution_count": null,
      "outputs": [
        {
          "name": "stdout",
          "output_type": "stream",
          "text": [
            "Abra o seguinte URL no seu navegador para obter o código de autorização:\n",
            "https://auth.mercadolivre.com.br/authorization?response_type=code&client_id=5500572046072825&redirect_uri=https://victorsa.netlify.app\n",
            "Insira o código de autorização: TG-66fc77ceadd72400012c00ad-478295390\n"
          ]
        }
      ]
    },
    {
      "cell_type": "markdown",
      "source": [
        "##Obter dimensão de Categorias"
      ],
      "metadata": {
        "id": "pk4OGC2mjV6b"
      }
    },
    {
      "cell_type": "code",
      "source": [
        "import requests\n",
        "import pandas as pd\n",
        "\n",
        "def fetch_categories():\n",
        "    url = \"https://api.mercadolibre.com/sites/MLB/categories\"\n",
        "    response = requests.get(url)\n",
        "\n",
        "    if response.status_code == 200:\n",
        "        return response.json()\n",
        "    else:\n",
        "        print(f\"Erro ao obter categorias: {response.status_code}\")\n",
        "        return []\n",
        "\n",
        "categories_data = fetch_categories()\n",
        "categories_list = []\n",
        "\n",
        "for category in categories_data:\n",
        "    categories_list.append({\n",
        "        'id_category': category['id'],\n",
        "        'name': category['name'],\n",
        "    })\n",
        "\n",
        "dim_Category = pd.DataFrame(categories_list)\n",
        "dim_Category.to_csv('category.csv',encoding='utf-8-sig')\n",
        "\n",
        "print(\"Dimensão Categorias:\")\n",
        "print(dim_Category.head())"
      ],
      "metadata": {
        "id": "DEBGe4bhjVHA",
        "colab": {
          "base_uri": "https://localhost:8080/"
        },
        "outputId": "b58c9fb8-012a-4691-be6f-4e0d08111071"
      },
      "execution_count": null,
      "outputs": [
        {
          "output_type": "stream",
          "name": "stdout",
          "text": [
            "Dimensão Categorias:\n",
            "  id_category                      name\n",
            "0     MLB5672  Acessórios para Veículos\n",
            "1   MLB271599                      Agro\n",
            "2     MLB1403       Alimentos e Bebidas\n",
            "3     MLB1071                   Animais\n",
            "4     MLB1367   Antiguidades e Coleções\n"
          ]
        }
      ]
    },
    {
      "cell_type": "markdown",
      "source": [
        "## Consumindo API por produtos para conseguir alguns vendedores de exemplo, pesquisando por todas as categorias do Mercado Livre.\n"
      ],
      "metadata": {
        "id": "11iWaJfntPPo"
      }
    },
    {
      "cell_type": "code",
      "source": [
        "def fetch_categories():\n",
        "    url = \"https://api.mercadolibre.com/sites/MLB/categories\"\n",
        "    try:\n",
        "        response = requests.get(url)\n",
        "        response.raise_for_status()\n",
        "        return response.json()\n",
        "    except requests.exceptions.RequestException as e:\n",
        "        print(f\"Erro ao obter categorias: {e}\")\n",
        "        return []\n",
        "\n",
        "def fetch_sales_in_category(category_id, access_token, site_id):\n",
        "    url = f'https://api.mercadolibre.com/sites/{site_id}/search?category={category_id}'\n",
        "    headers = {'Authorization': f'Bearer {access_token}'}\n",
        "\n",
        "    try:\n",
        "        response = requests.get(url, headers=headers)\n",
        "        response.raise_for_status()\n",
        "        return response.json()['results']\n",
        "    except requests.exceptions.RequestException as e:\n",
        "        print(f\"Erro ao obter vendas na categoria {category_id}: {e}\")\n",
        "        return []\n",
        "\n",
        "ACCESS_TOKEN = access_token\n",
        "SITE_ID = 'MLB'\n",
        "\n",
        "sales_list = []\n",
        "categories_data = fetch_categories()\n",
        "\n",
        "for category in categories_data:\n",
        "    category_id = category['id']\n",
        "    print(f\"\\nBuscando vendas na categoria: {category['name']} (ID: {category_id})\")\n",
        "\n",
        "    sales_data = fetch_sales_in_category(category_id, ACCESS_TOKEN, SITE_ID)\n",
        "\n",
        "    if sales_data:\n",
        "        for item in sales_data:\n",
        "            if 'seller' in item and 'nickname' in item['seller']:\n",
        "                sales_list.append({\n",
        "                    'seller_id': item['seller']['id'],\n",
        "                    'seller_nickname': item['seller']['nickname'],\n",
        "                    'category_id': category['id'],\n",
        "                    'category': category['name'],\n",
        "                    'item_id': item['id'],\n",
        "                    'item_name': item['title'],\n",
        "                    'currency': item['currency_id'],\n",
        "                    'price': item['price']\n",
        "                })\n",
        "    else:\n",
        "        print(\"Nenhum resultado encontrado para esta categoria.\")\n",
        "\n",
        "df_sales = pd.DataFrame(sales_list)\n",
        "df_sales.to_csv('products.csv',encoding='utf-8-sig')\n",
        "\n",
        "print(df_sales)"
      ],
      "metadata": {
        "id": "BG9onCLRoLHA",
        "colab": {
          "base_uri": "https://localhost:8080/"
        },
        "outputId": "40482332-a527-4d90-8adf-d096302222dc"
      },
      "execution_count": null,
      "outputs": [
        {
          "output_type": "stream",
          "name": "stdout",
          "text": [
            "\n",
            "Buscando vendas na categoria: Acessórios para Veículos (ID: MLB5672)\n",
            "\n",
            "Buscando vendas na categoria: Agro (ID: MLB271599)\n",
            "\n",
            "Buscando vendas na categoria: Alimentos e Bebidas (ID: MLB1403)\n",
            "\n",
            "Buscando vendas na categoria: Animais (ID: MLB1071)\n",
            "\n",
            "Buscando vendas na categoria: Antiguidades e Coleções (ID: MLB1367)\n",
            "\n",
            "Buscando vendas na categoria: Arte, Papelaria e Armarinho (ID: MLB1368)\n",
            "\n",
            "Buscando vendas na categoria: Bebês (ID: MLB1384)\n",
            "\n",
            "Buscando vendas na categoria: Beleza e Cuidado Pessoal (ID: MLB1246)\n",
            "\n",
            "Buscando vendas na categoria: Brinquedos e Hobbies (ID: MLB1132)\n",
            "\n",
            "Buscando vendas na categoria: Calçados, Roupas e Bolsas (ID: MLB1430)\n",
            "\n",
            "Buscando vendas na categoria: Câmeras e Acessórios (ID: MLB1039)\n",
            "\n",
            "Buscando vendas na categoria: Carros, Motos e Outros (ID: MLB1743)\n",
            "\n",
            "Buscando vendas na categoria: Casa, Móveis e Decoração (ID: MLB1574)\n",
            "\n",
            "Buscando vendas na categoria: Celulares e Telefones (ID: MLB1051)\n",
            "\n",
            "Buscando vendas na categoria: Construção (ID: MLB1500)\n",
            "\n",
            "Buscando vendas na categoria: Eletrodomésticos (ID: MLB5726)\n",
            "\n",
            "Buscando vendas na categoria: Eletrônicos, Áudio e Vídeo (ID: MLB1000)\n",
            "\n",
            "Buscando vendas na categoria: Esportes e Fitness (ID: MLB1276)\n",
            "\n",
            "Buscando vendas na categoria: Ferramentas (ID: MLB263532)\n",
            "\n",
            "Buscando vendas na categoria: Festas e Lembrancinhas (ID: MLB12404)\n",
            "\n",
            "Buscando vendas na categoria: Games (ID: MLB1144)\n",
            "\n",
            "Buscando vendas na categoria: Imóveis (ID: MLB1459)\n",
            "Nenhum resultado encontrado para esta categoria.\n",
            "\n",
            "Buscando vendas na categoria: Indústria e Comércio (ID: MLB1499)\n",
            "\n",
            "Buscando vendas na categoria: Informática (ID: MLB1648)\n",
            "\n",
            "Buscando vendas na categoria: Ingressos (ID: MLB218519)\n",
            "\n",
            "Buscando vendas na categoria: Instrumentos Musicais (ID: MLB1182)\n",
            "\n",
            "Buscando vendas na categoria: Joias e Relógios (ID: MLB3937)\n",
            "\n",
            "Buscando vendas na categoria: Livros, Revistas e Comics (ID: MLB1196)\n",
            "\n",
            "Buscando vendas na categoria: Música, Filmes e Seriados (ID: MLB1168)\n",
            "\n",
            "Buscando vendas na categoria: Saúde (ID: MLB264586)\n",
            "\n",
            "Buscando vendas na categoria: Serviços (ID: MLB1540)\n",
            "\n",
            "Buscando vendas na categoria: Mais Categorias (ID: MLB1953)\n",
            "       seller_id      seller_nickname category_id                  category  \\\n",
            "0      224160443       MAF UTILIDADES     MLB5672  Acessórios para Veículos   \n",
            "1      444816473              AUTO TR     MLB5672  Acessórios para Veículos   \n",
            "2     1165626720                WEMG_     MLB5672  Acessórios para Veículos   \n",
            "3     1148569370         MEGAMOTO.COM     MLB5672  Acessórios para Veículos   \n",
            "4     1257560156       IMPORTSCESTARO     MLB5672  Acessórios para Veículos   \n",
            "...          ...                  ...         ...                       ...   \n",
            "1484   194177382    COOPER UTILIDADES     MLB1953           Mais Categorias   \n",
            "1485   697283285  ELECTRICINK_FABRICA     MLB1953           Mais Categorias   \n",
            "1486   260271295     IMPÉRIO-DO-COBRE     MLB1953           Mais Categorias   \n",
            "1487   527962020    FARMINKTATTOOSHOP     MLB1953           Mais Categorias   \n",
            "1488   170347674   MNUNESDISTRIBUICAO     MLB1953           Mais Categorias   \n",
            "\n",
            "            item_id                                          item_name  \\\n",
            "0     MLB4296308798  Kit 10 Panos Microfibra Flanela 35*50cm Power ...   \n",
            "1     MLB3698110641  Mangueira Filtro Ar Tbi Honda Civic 2012 2013 ...   \n",
            "2     MLB3494040092  Modulo Taramps Ts400x4 400w 2 Ohms Rca Ts 400x...   \n",
            "3     MLB3721274157  Par Pneu Bros 150 Xre 190 90/90-19 + 110/90-17...   \n",
            "4     MLB3533136913  Módulo Injeção Programável M250 P/ Motos Honda...   \n",
            "...             ...                                                ...   \n",
            "1484  MLB2924403274    Kit 3 Pack De Seda King Blunt Mix Novos Sabores   \n",
            "1485  MLB4240625908  Espuma Electric Ink Clean Up Refil 1l - Limpez...   \n",
            "1486  MLB3472235847  Pêndulo Testemunho De Madeira Radiestesia Sem ...   \n",
            "1487  MLB3496741049  Tattoo Transfer Spray 120ml Amazon Decalque Pa...   \n",
            "1488  MLB4047277618  Dichavador Triturador Bem Bolado Polipropileno...   \n",
            "\n",
            "     currency    price  \n",
            "0         BRL    41.00  \n",
            "1         BRL    82.50  \n",
            "2         BRL   184.23  \n",
            "3         BRL   575.00  \n",
            "4         BRL  1350.00  \n",
            "...       ...      ...  \n",
            "1484      BRL    24.70  \n",
            "1485      BRL    35.00  \n",
            "1486      BRL    15.20  \n",
            "1487      BRL    20.80  \n",
            "1488      BRL    21.82  \n",
            "\n",
            "[1489 rows x 8 columns]\n"
          ]
        }
      ]
    },
    {
      "cell_type": "markdown",
      "source": [
        "## Exploração e Tratamento"
      ],
      "metadata": {
        "id": "RmDl6McxtuZb"
      }
    },
    {
      "cell_type": "markdown",
      "source": [
        "Adicionando o arquivo gerado pelo GPT no ambiente do colab"
      ],
      "metadata": {
        "id": "eWFgzTFKUd2D"
      }
    },
    {
      "cell_type": "code",
      "source": [
        "import pandas as pd\n",
        "\n",
        "path_category = '/content/category.csv'\n",
        "path_products = '/content/products.csv'\n",
        "\n",
        "df_category = pd.read_csv(path_category, sep=',')\n",
        "df_products = pd.read_csv(path_products, sep=',')\n",
        "\n",
        "print('Informações dataframe Category:\\n')\n",
        "shape_category = df_category.info()\n",
        "\n",
        "print('\\nInformações dataframe Products:\\n')\n",
        "shape_products = df_products.info()"
      ],
      "metadata": {
        "id": "notkPpLrty9s",
        "colab": {
          "base_uri": "https://localhost:8080/"
        },
        "outputId": "838332df-e036-488c-926a-4df4683ac163"
      },
      "execution_count": null,
      "outputs": [
        {
          "output_type": "stream",
          "name": "stdout",
          "text": [
            "Informações dataframe Category:\n",
            "\n",
            "<class 'pandas.core.frame.DataFrame'>\n",
            "RangeIndex: 32 entries, 0 to 31\n",
            "Data columns (total 3 columns):\n",
            " #   Column       Non-Null Count  Dtype \n",
            "---  ------       --------------  ----- \n",
            " 0   Unnamed: 0   32 non-null     int64 \n",
            " 1   id_category  32 non-null     object\n",
            " 2   name         32 non-null     object\n",
            "dtypes: int64(1), object(2)\n",
            "memory usage: 896.0+ bytes\n",
            "\n",
            "Informações dataframe Products:\n",
            "\n",
            "<class 'pandas.core.frame.DataFrame'>\n",
            "RangeIndex: 1489 entries, 0 to 1488\n",
            "Data columns (total 9 columns):\n",
            " #   Column           Non-Null Count  Dtype  \n",
            "---  ------           --------------  -----  \n",
            " 0   Unnamed: 0       1489 non-null   int64  \n",
            " 1   seller_id        1489 non-null   int64  \n",
            " 2   seller_nickname  1489 non-null   object \n",
            " 3   category_id      1489 non-null   object \n",
            " 4   category         1489 non-null   object \n",
            " 5   item_id          1489 non-null   object \n",
            " 6   item_name        1489 non-null   object \n",
            " 7   currency         1456 non-null   object \n",
            " 8   price            1456 non-null   float64\n",
            "dtypes: float64(1), int64(2), object(6)\n",
            "memory usage: 104.8+ KB\n"
          ]
        }
      ]
    },
    {
      "cell_type": "code",
      "source": [
        "category_null = df_category.isnull().sum() > 0\n",
        "print('Verificando nulos no dataframe Category:\\n')\n",
        "print(category_null)\n",
        "\n",
        "products_null = df_products.isnull().sum() > 0\n",
        "print('Verificando nulos no dataframe Products:\\n')\n",
        "print(products_null)"
      ],
      "metadata": {
        "id": "RvUU1UijzNl_",
        "colab": {
          "base_uri": "https://localhost:8080/"
        },
        "outputId": "fb176c47-ccbe-44a2-887f-e4613c289b9a"
      },
      "execution_count": null,
      "outputs": [
        {
          "output_type": "stream",
          "name": "stdout",
          "text": [
            "Verificando nulos no dataframe Category:\n",
            "\n",
            "Unnamed: 0     False\n",
            "id_category    False\n",
            "name           False\n",
            "dtype: bool\n",
            "Verificando nulos no dataframe Products:\n",
            "\n",
            "Unnamed: 0         False\n",
            "seller_id          False\n",
            "seller_nickname    False\n",
            "category_id        False\n",
            "category           False\n",
            "item_id            False\n",
            "item_name          False\n",
            "currency            True\n",
            "price               True\n",
            "dtype: bool\n"
          ]
        }
      ]
    },
    {
      "cell_type": "code",
      "source": [
        "df_price_null = df_products[df_products['price'].isnull()]\n",
        "print('Linhas com valores nulos na coluna price:\\n')\n",
        "print(df_price_null)"
      ],
      "metadata": {
        "id": "CL-EjRDMVeMG",
        "colab": {
          "base_uri": "https://localhost:8080/"
        },
        "outputId": "1390a16b-8e99-4099-bf26-39eb243f059f"
      },
      "execution_count": null,
      "outputs": [
        {
          "output_type": "stream",
          "name": "stdout",
          "text": [
            "Linhas com valores nulos na coluna price:\n",
            "\n",
            "      Unnamed: 0  seller_id            seller_nickname category_id  category  \\\n",
            "1396        1396  169213892            BRILHYSEMIJOIAS     MLB1540  Serviços   \n",
            "1397        1397  209363479                 SUN HAPPY.     MLB1540  Serviços   \n",
            "1398        1398   29094661                ALUGUEFLUKE     MLB1540  Serviços   \n",
            "1399        1399   89551550            ZERICARDOGUEDES     MLB1540  Serviços   \n",
            "1400        1400   42451372             RICARDOYOUSSEF     MLB1540  Serviços   \n",
            "1401        1401  104637759                DARLAN 1434     MLB1540  Serviços   \n",
            "1402        1402     519584                  GARIDA_ML     MLB1540  Serviços   \n",
            "1403        1403   56338640              SAMPA_MVENDAS     MLB1540  Serviços   \n",
            "1404        1404  177129516             FRETEPONTUALSP     MLB1540  Serviços   \n",
            "1406        1406  443589211           COMAHOCOMMATHOSP     MLB1540  Serviços   \n",
            "1407        1407   56338640              SAMPA_MVENDAS     MLB1540  Serviços   \n",
            "1410        1410   66735114               MIKELOCACOES     MLB1540  Serviços   \n",
            "1415        1415  193437930             MOACIRJANOVICH     MLB1540  Serviços   \n",
            "1416        1416  659640103  TOTALMETALCOMRCIODEMETAIS     MLB1540  Serviços   \n",
            "1417        1417  255007587             KAROLINEHARUMY     MLB1540  Serviços   \n",
            "1418        1418  169213892            BRILHYSEMIJOIAS     MLB1540  Serviços   \n",
            "1420        1420   24425961              CAR_ELIZIARIO     MLB1540  Serviços   \n",
            "1421        1421  243133986                FEGI8031843     MLB1540  Serviços   \n",
            "1422        1422   42451372             RICARDOYOUSSEF     MLB1540  Serviços   \n",
            "1423        1423  291857911                VAFR9032775     MLB1540  Serviços   \n",
            "1424        1424   72800199                  MVILACHAN     MLB1540  Serviços   \n",
            "1425        1425  191773726                  PD CABINE     MLB1540  Serviços   \n",
            "1426        1426   86892327                   CICERO67     MLB1540  Serviços   \n",
            "1428        1428   96612962                 GMPGUSTAVO     MLB1540  Serviços   \n",
            "1429        1429  151502566              AIRTONZSZEFER     MLB1540  Serviços   \n",
            "1430        1430  129171780           MANIA_DE_BRINCAR     MLB1540  Serviços   \n",
            "1431        1431   96792859                  MARUJO953     MLB1540  Serviços   \n",
            "1432        1432   72800199                  MVILACHAN     MLB1540  Serviços   \n",
            "1433        1433  200093921               MULTCARRETAS     MLB1540  Serviços   \n",
            "1434        1434   35082462                 TTLTRONICS     MLB1540  Serviços   \n",
            "1435        1435  538205854                    MEDCAMA     MLB1540  Serviços   \n",
            "1436        1436   42451372             RICARDOYOUSSEF     MLB1540  Serviços   \n",
            "1437        1437  328026389               LDBARTENDERS     MLB1540  Serviços   \n",
            "\n",
            "            item_id                                          item_name  \\\n",
            "1396  MLB3652390899  Mudanças,carretos,fretes,eventos Para Todo Bra...   \n",
            "1397  MLB3770971921  Aluguel Videokê Karaokê São Paulo E Guarulhos ...   \n",
            "1398  MLB5000037858  Certificação De Rede Fluke Calibrado Dsx-5000 ...   \n",
            "1399  MLB4996089856                        Locação Cesto Aéreo Isolado   \n",
            "1400  MLB3809151133  Cama Maca Aluguel Quick Massagem Shiatsu Pós C...   \n",
            "1401  MLB4971443704                                 Montador De Móveis   \n",
            "1402  MLB5036492870  Som E Luz Pequenos Eventos/festas/bandas/ Corp...   \n",
            "1403  MLB4959738878       Montador De Móveis Zona Sul E Toda São Paulo   \n",
            "1404  MLB3833692455  Frete Carreto Mudança Zona Centro Norte Sul Le...   \n",
            "1406  MLB3787775749  Cama Hospitalar - R$ 14,00/dia  - Locação Míni...   \n",
            "1407  MLB5077354170  Montador De Móveis Zona Norte, Zona Leste E Gu...   \n",
            "1410  MLB3822854695  Locação Ombrelones Mesas E Cadeiras De Madeira...   \n",
            "1415  MLB4772039790  Aluguel Vans E Microônibus-aeroportos,festas,v...   \n",
            "1416  MLB4983150986  Corte De Metais No Plasma, Laser, Oxicorte E J...   \n",
            "1417  MLB3795647459  Cabine De Fotos, Totem Fotográfico, Plataforma...   \n",
            "1418  MLB4592735704  Mudanças, Carretos, Fretes, Eventos Todo Brasi...   \n",
            "1420  MLB3682225293  Locação De Caminhão Cabine Suplementar Aluguel...   \n",
            "1421  MLB3689122029  Fretes, Carretos, Mudanças, - Caminhão Baú, Ba...   \n",
            "1422  MLB3809105887  Locação Aluguel De Cadeiras E Poltronas De Mas...   \n",
            "1423  MLB4829139176  Espaço Tiarlinda Eventos. (festas E Eventos Mo...   \n",
            "1424  MLB3827613055  Conserto Do Modulo  Injeção Ecu Xt660 Ou Mt03 ...   \n",
            "1425  MLB5050182424  Cabine De Fotos, Totem De Fotos, Espelho Mágic...   \n",
            "1426  MLB4948162396      Fretes Carretos Mudanças E Transporte Demotos   \n",
            "1428  MLB4856587962  Gmp Retifica Peças Motor Popa Pistao Aneis Bie...   \n",
            "1429  MLB3673378471  Bobinadeira Cnc Reparo: Digmotor, Mega  Placas...   \n",
            "1430  MLB3845881999  Locação Pula Pula Cama Elástica Piscina Tobogã...   \n",
            "1431  MLB3769850639  Aluguel Barco Pesca Passeio Mergulho Em Ilha B...   \n",
            "1432  MLB3827523153  Conserto,cdi,módulo Xt660,modulo De Injeção De...   \n",
            "1433  MLB4610544266  Aluguel Carretinhas Reboque Locação Em Campina...   \n",
            "1434  MLB3696606671  Manutenção Placas Hdmi Receiver Onkyo,denon,ma...   \n",
            "1435  MLB4853655720     Cama Hospitalar Manual Aluguel R$120,00 Mensal   \n",
            "1436  MLB5051110336  Cadeira Massagem Quick Massagem Pós Cirúrgica ...   \n",
            "1437  MLB4796391322  Aluguel Bar Bolha P/eventos R$ 350,00 + Frete ...   \n",
            "\n",
            "     currency  price  \n",
            "1396      NaN    NaN  \n",
            "1397      NaN    NaN  \n",
            "1398      NaN    NaN  \n",
            "1399      NaN    NaN  \n",
            "1400      NaN    NaN  \n",
            "1401      NaN    NaN  \n",
            "1402      NaN    NaN  \n",
            "1403      NaN    NaN  \n",
            "1404      NaN    NaN  \n",
            "1406      NaN    NaN  \n",
            "1407      NaN    NaN  \n",
            "1410      NaN    NaN  \n",
            "1415      NaN    NaN  \n",
            "1416      NaN    NaN  \n",
            "1417      NaN    NaN  \n",
            "1418      NaN    NaN  \n",
            "1420      NaN    NaN  \n",
            "1421      NaN    NaN  \n",
            "1422      NaN    NaN  \n",
            "1423      NaN    NaN  \n",
            "1424      NaN    NaN  \n",
            "1425      NaN    NaN  \n",
            "1426      NaN    NaN  \n",
            "1428      NaN    NaN  \n",
            "1429      NaN    NaN  \n",
            "1430      NaN    NaN  \n",
            "1431      NaN    NaN  \n",
            "1432      NaN    NaN  \n",
            "1433      NaN    NaN  \n",
            "1434      NaN    NaN  \n",
            "1435      NaN    NaN  \n",
            "1436      NaN    NaN  \n",
            "1437      NaN    NaN  \n"
          ]
        }
      ]
    },
    {
      "cell_type": "markdown",
      "source": [
        "\n",
        "Retirando de todas as tabelas a categoria de \"Serviços\""
      ],
      "metadata": {
        "id": "apM9vBVkP7dq"
      }
    },
    {
      "cell_type": "code",
      "source": [
        "df_products = df_products[df_products['category'] != 'Serviços']\n",
        "df_category = df_category[df_category['name'] != 'Serviços']\n",
        "\n",
        "products_null = df_products.isnull().sum() > 0\n",
        "print('Verificando nulos no dataframe Products:\\n')\n",
        "print(products_null)"
      ],
      "metadata": {
        "id": "lUYWhIwWyGAK",
        "colab": {
          "base_uri": "https://localhost:8080/"
        },
        "outputId": "9e14c8b1-367a-451b-8583-c9ba8fc5e29d"
      },
      "execution_count": null,
      "outputs": [
        {
          "output_type": "stream",
          "name": "stdout",
          "text": [
            "Verificando nulos no dataframe Products:\n",
            "\n",
            "Unnamed: 0         False\n",
            "seller_id          False\n",
            "seller_nickname    False\n",
            "category_id        False\n",
            "category           False\n",
            "item_id            False\n",
            "item_name          False\n",
            "currency           False\n",
            "price              False\n",
            "dtype: bool\n"
          ]
        }
      ]
    },
    {
      "cell_type": "code",
      "source": [
        "df_category = df_category.drop(['Unnamed: 0'], axis=1)\n",
        "df_products = df_products.drop(['Unnamed: 0'], axis=1)\n",
        "\n",
        "print(df_category)\n",
        "print(df_products)"
      ],
      "metadata": {
        "id": "AZbhy5d8X1Yr",
        "colab": {
          "base_uri": "https://localhost:8080/"
        },
        "outputId": "6d69a70f-30f5-4a69-9d41-7f8083c4209b"
      },
      "execution_count": null,
      "outputs": [
        {
          "output_type": "stream",
          "name": "stdout",
          "text": [
            "   id_category                         name\n",
            "0      MLB5672     Acessórios para Veículos\n",
            "1    MLB271599                         Agro\n",
            "2      MLB1403          Alimentos e Bebidas\n",
            "3      MLB1071                      Animais\n",
            "4      MLB1367      Antiguidades e Coleções\n",
            "5      MLB1368  Arte, Papelaria e Armarinho\n",
            "6      MLB1384                        Bebês\n",
            "7      MLB1246     Beleza e Cuidado Pessoal\n",
            "8      MLB1132         Brinquedos e Hobbies\n",
            "9      MLB1430    Calçados, Roupas e Bolsas\n",
            "10     MLB1039         Câmeras e Acessórios\n",
            "11     MLB1743       Carros, Motos e Outros\n",
            "12     MLB1574     Casa, Móveis e Decoração\n",
            "13     MLB1051        Celulares e Telefones\n",
            "14     MLB1500                   Construção\n",
            "15     MLB5726             Eletrodomésticos\n",
            "16     MLB1000   Eletrônicos, Áudio e Vídeo\n",
            "17     MLB1276           Esportes e Fitness\n",
            "18   MLB263532                  Ferramentas\n",
            "19    MLB12404       Festas e Lembrancinhas\n",
            "20     MLB1144                        Games\n",
            "21     MLB1459                      Imóveis\n",
            "22     MLB1499         Indústria e Comércio\n",
            "23     MLB1648                  Informática\n",
            "24   MLB218519                    Ingressos\n",
            "25     MLB1182        Instrumentos Musicais\n",
            "26     MLB3937             Joias e Relógios\n",
            "27     MLB1196    Livros, Revistas e Comics\n",
            "28     MLB1168    Música, Filmes e Seriados\n",
            "29   MLB264586                        Saúde\n",
            "31     MLB1953              Mais Categorias\n",
            "       seller_id      seller_nickname category_id                  category  \\\n",
            "0      224160443       MAF UTILIDADES     MLB5672  Acessórios para Veículos   \n",
            "1      444816473              AUTO TR     MLB5672  Acessórios para Veículos   \n",
            "2     1165626720                WEMG_     MLB5672  Acessórios para Veículos   \n",
            "3     1148569370         MEGAMOTO.COM     MLB5672  Acessórios para Veículos   \n",
            "4     1257560156       IMPORTSCESTARO     MLB5672  Acessórios para Veículos   \n",
            "...          ...                  ...         ...                       ...   \n",
            "1484   194177382    COOPER UTILIDADES     MLB1953           Mais Categorias   \n",
            "1485   697283285  ELECTRICINK_FABRICA     MLB1953           Mais Categorias   \n",
            "1486   260271295     IMPÉRIO-DO-COBRE     MLB1953           Mais Categorias   \n",
            "1487   527962020    FARMINKTATTOOSHOP     MLB1953           Mais Categorias   \n",
            "1488   170347674   MNUNESDISTRIBUICAO     MLB1953           Mais Categorias   \n",
            "\n",
            "            item_id                                          item_name  \\\n",
            "0     MLB4296308798  Kit 10 Panos Microfibra Flanela 35*50cm Power ...   \n",
            "1     MLB3698110641  Mangueira Filtro Ar Tbi Honda Civic 2012 2013 ...   \n",
            "2     MLB3494040092  Modulo Taramps Ts400x4 400w 2 Ohms Rca Ts 400x...   \n",
            "3     MLB3721274157  Par Pneu Bros 150 Xre 190 90/90-19 + 110/90-17...   \n",
            "4     MLB3533136913  Módulo Injeção Programável M250 P/ Motos Honda...   \n",
            "...             ...                                                ...   \n",
            "1484  MLB2924403274    Kit 3 Pack De Seda King Blunt Mix Novos Sabores   \n",
            "1485  MLB4240625908  Espuma Electric Ink Clean Up Refil 1l - Limpez...   \n",
            "1486  MLB3472235847  Pêndulo Testemunho De Madeira Radiestesia Sem ...   \n",
            "1487  MLB3496741049  Tattoo Transfer Spray 120ml Amazon Decalque Pa...   \n",
            "1488  MLB4047277618  Dichavador Triturador Bem Bolado Polipropileno...   \n",
            "\n",
            "     currency    price  \n",
            "0         BRL    41.00  \n",
            "1         BRL    82.50  \n",
            "2         BRL   184.23  \n",
            "3         BRL   575.00  \n",
            "4         BRL  1350.00  \n",
            "...       ...      ...  \n",
            "1484      BRL    24.70  \n",
            "1485      BRL    35.00  \n",
            "1486      BRL    15.20  \n",
            "1487      BRL    20.80  \n",
            "1488      BRL    21.82  \n",
            "\n",
            "[1439 rows x 8 columns]\n"
          ]
        }
      ]
    },
    {
      "cell_type": "code",
      "source": [
        "df_products.to_csv('data_processed/products.csv',encoding='utf-8-sig')\n",
        "df_category.to_csv('data_processed/category.csv',encoding='utf-8-sig')"
      ],
      "metadata": {
        "id": "2cBJ_UoDQ0FV"
      },
      "execution_count": null,
      "outputs": []
    },
    {
      "cell_type": "markdown",
      "source": [
        "##Criação do Banco de Dados SQLite"
      ],
      "metadata": {
        "id": "euz6TdfzYz6U"
      }
    },
    {
      "cell_type": "code",
      "source": [
        "import sqlite3\n",
        "import pandas as pd\n",
        "\n",
        "conn_data = sqlite3.connect('db1.db')\n",
        "cursor_data = conn_data.cursor()"
      ],
      "metadata": {
        "id": "o3dbKYlOt_X_"
      },
      "execution_count": 128,
      "outputs": []
    },
    {
      "cell_type": "code",
      "source": [
        "# Criação da tabela Categoria\n",
        "\n",
        "from prettytable import PrettyTable\n",
        "\n",
        "table = PrettyTable([\"id_category\", \"name\"])\n",
        "\n",
        "cursor_data.execute('''\n",
        "    CREATE TABLE IF NOT EXISTS raw_category (\n",
        "        id_category TEXT PRIMARY KEY,\n",
        "        name TEXT NOT NULL\n",
        "    )\n",
        "''')\n",
        "\n",
        "df_category.to_sql('raw_category', conn_data, if_exists='replace', index=False)\n",
        "\n",
        "cursor_data.execute('SELECT * FROM raw_category')\n",
        "rows = cursor_data.fetchall()\n",
        "\n",
        "for row in rows:\n",
        "    table.add_row(row)\n",
        "\n",
        "print(table)\n"
      ],
      "metadata": {
        "id": "2OIewoZBuCeJ",
        "colab": {
          "base_uri": "https://localhost:8080/"
        },
        "outputId": "1bd8b7c5-f6a3-41b8-db87-50537b589587"
      },
      "execution_count": null,
      "outputs": [
        {
          "output_type": "stream",
          "name": "stdout",
          "text": [
            "+-------------+-----------------------------+\n",
            "| id_category |             name            |\n",
            "+-------------+-----------------------------+\n",
            "|   MLB5672   |   Acessórios para Veículos  |\n",
            "|  MLB271599  |             Agro            |\n",
            "|   MLB1403   |     Alimentos e Bebidas     |\n",
            "|   MLB1071   |           Animais           |\n",
            "|   MLB1367   |   Antiguidades e Coleções   |\n",
            "|   MLB1368   | Arte, Papelaria e Armarinho |\n",
            "|   MLB1384   |            Bebês            |\n",
            "|   MLB1246   |   Beleza e Cuidado Pessoal  |\n",
            "|   MLB1132   |     Brinquedos e Hobbies    |\n",
            "|   MLB1430   |  Calçados, Roupas e Bolsas  |\n",
            "|   MLB1039   |     Câmeras e Acessórios    |\n",
            "|   MLB1743   |    Carros, Motos e Outros   |\n",
            "|   MLB1574   |   Casa, Móveis e Decoração  |\n",
            "|   MLB1051   |    Celulares e Telefones    |\n",
            "|   MLB1500   |          Construção         |\n",
            "|   MLB5726   |       Eletrodomésticos      |\n",
            "|   MLB1000   |  Eletrônicos, Áudio e Vídeo |\n",
            "|   MLB1276   |      Esportes e Fitness     |\n",
            "|  MLB263532  |         Ferramentas         |\n",
            "|   MLB12404  |    Festas e Lembrancinhas   |\n",
            "|   MLB1144   |            Games            |\n",
            "|   MLB1459   |           Imóveis           |\n",
            "|   MLB1499   |     Indústria e Comércio    |\n",
            "|   MLB1648   |         Informática         |\n",
            "|  MLB218519  |          Ingressos          |\n",
            "|   MLB1182   |    Instrumentos Musicais    |\n",
            "|   MLB3937   |       Joias e Relógios      |\n",
            "|   MLB1196   |  Livros, Revistas e Comics  |\n",
            "|   MLB1168   |  Música, Filmes e Seriados  |\n",
            "|  MLB264586  |            Saúde            |\n",
            "|   MLB1953   |       Mais Categorias       |\n",
            "+-------------+-----------------------------+\n"
          ]
        }
      ]
    },
    {
      "cell_type": "code",
      "source": [
        "#Criando Tabela Produtos\n",
        "\n",
        "table = PrettyTable([\"seller_id\", \"seller_nickname\", \"category_id\", \"category\", \"item_id\", \"item_name\", \"currency\", \"price\"])\n",
        "\n",
        "cursor_data.execute('''\n",
        "  CREATE TABLE IF NOT EXISTS raw_product (\n",
        "      seller_id INTEGER PRIMARY KEY,\n",
        "      seller_nickname TEXT NOT NULL,\n",
        "      category_id TEXT NOT NULL,\n",
        "      category TEXT NOT NULL,\n",
        "      item_id TEXT NOT NULL,\n",
        "      item_name TEXT NOT NULL,\n",
        "      currency TEXT NOT NULL,\n",
        "      price REAL NOT NULL\n",
        "    )\n",
        "''')\n",
        "\n",
        "df_products.to_sql('raw_product', conn_data, if_exists='replace', index=False)\n",
        "\n",
        "cursor_data.execute('SELECT * FROM raw_product \\\n",
        "                    LIMIT 5')\n",
        "rows = cursor_data.fetchall()\n",
        "\n",
        "for row in rows:\n",
        "    table.add_row(row)\n",
        "\n",
        "print(table)"
      ],
      "metadata": {
        "id": "6kYMicpmXeUD",
        "colab": {
          "base_uri": "https://localhost:8080/"
        },
        "outputId": "00205303-a0d6-45d7-8e06-fb5576a36d0e"
      },
      "execution_count": null,
      "outputs": [
        {
          "output_type": "stream",
          "name": "stdout",
          "text": [
            "+------------+-----------------+-------------+--------------------------+---------------+-------------------------------------------------------------------------------------------------------------------------------------------------------------+----------+--------+\n",
            "| seller_id  | seller_nickname | category_id |         category         |    item_id    |                                                                          item_name                                                                          | currency | price  |\n",
            "+------------+-----------------+-------------+--------------------------+---------------+-------------------------------------------------------------------------------------------------------------------------------------------------------------+----------+--------+\n",
            "| 224160443  |  MAF UTILIDADES |   MLB5672   | Acessórios para Veículos | MLB4296308798 |                                               Kit 10 Panos Microfibra Flanela 35*50cm Power Clean Cor Sortido                                               |   BRL    |  41.0  |\n",
            "| 444816473  |     AUTO TR     |   MLB5672   | Acessórios para Veículos | MLB3698110641 |                                                 Mangueira Filtro Ar Tbi Honda Civic 2012 2013 2014 2015 1.8                                                 |   BRL    |  82.5  |\n",
            "| 1165626720 |      WEMG_      |   MLB5672   | Acessórios para Veículos | MLB3494040092 | Modulo Taramps Ts400x4 400w 2 Ohms Rca Ts 400x4 4 Canais 100w Amplificador 400rms T400 4 Canais Potencia Taramps Som Para Carro Moto Caminhonete Automotivo |   BRL    | 184.23 |\n",
            "| 1148569370 |   MEGAMOTO.COM  |   MLB5672   | Acessórios para Veículos | MLB3721274157 |                                                  Par Pneu Bros 150 Xre 190 90/90-19 + 110/90-17 Tr300 Vipal                                                 |   BRL    | 575.0  |\n",
            "| 1257560156 |  IMPORTSCESTARO |   MLB5672   | Acessórios para Veículos | MLB3533136913 |                                                 Módulo Injeção Programável M250 P/ Motos Honda Mono Cilindro                                                |   BRL    | 1350.0 |\n",
            "+------------+-----------------+-------------+--------------------------+---------------+-------------------------------------------------------------------------------------------------------------------------------------------------------------+----------+--------+\n"
          ]
        }
      ]
    },
    {
      "cell_type": "code",
      "source": [
        "cursor_data.execute('DROP TABLE IF EXISTS raw_vendas')"
      ],
      "metadata": {
        "colab": {
          "base_uri": "https://localhost:8080/"
        },
        "id": "m1wiUEDehpmC",
        "outputId": "e2c5b07a-25b8-40df-db80-82b6e30421c3"
      },
      "execution_count": null,
      "outputs": [
        {
          "output_type": "execute_result",
          "data": {
            "text/plain": [
              "<sqlite3.Cursor at 0x79afdf6947c0>"
            ]
          },
          "metadata": {},
          "execution_count": 120
        }
      ]
    },
    {
      "cell_type": "code",
      "source": [
        "# Criar tabela de vendas\n",
        "\n",
        "table = PrettyTable([\"seller_id\", \"data_created\", \"item_id\", \"quantity\", \"price\"])\n",
        "\n",
        "cursor_data.execute('''\n",
        "CREATE TABLE IF NOT EXISTS raw_vendas (\n",
        "    seller_id INTEGER PRIMARY KEY,\n",
        "    data_created INTEGER NOT NULL,\n",
        "    item_id INTEGER NOT NULL,\n",
        "    quantity INTEGER NOT NULL,\n",
        "    price REAL NOT NULL\n",
        ");\n",
        "''')\n",
        "\n",
        "vendas = pd.read_csv('/content/data_processed/sales_gpt.csv', sep=';')\n",
        "vendas.to_sql('raw_vendas', conn_data, if_exists='replace', index=False)\n",
        "\n",
        "cursor_data.execute('SELECT * FROM raw_vendas \\\n",
        "                    LIMIT 5')\n",
        "rows = cursor_data.fetchall()\n",
        "\n",
        "for row in rows:\n",
        "    table.add_row(row)\n",
        "\n",
        "print(table)"
      ],
      "metadata": {
        "id": "CY2_0Su1gEWE",
        "colab": {
          "base_uri": "https://localhost:8080/"
        },
        "outputId": "81495763-2815-4063-ab41-e273ffd567a9"
      },
      "execution_count": null,
      "outputs": [
        {
          "output_type": "stream",
          "name": "stdout",
          "text": [
            "+------------+----------------------------+---------------+----------+--------+\n",
            "| seller_id  |        data_created        |    item_id    | quantity | price  |\n",
            "+------------+----------------------------+---------------+----------+--------+\n",
            "| 224160443  | 2024-06-22 00:31:45.205367 | MLB4296308798 |    5     |  41.0  |\n",
            "| 444816473  | 2023-10-20 00:31:45.205433 | MLB3698110641 |    6     |  82.5  |\n",
            "| 1165626720 | 2024-01-06 00:31:45.205440 | MLB3494040092 |    7     | 184.23 |\n",
            "| 1148569370 | 2024-06-18 00:31:45.205448 | MLB3721274157 |    8     | 575.0  |\n",
            "| 183982918  | 2024-07-23 00:31:45.205456 | MLB1381132707 |    8     |  56.0  |\n",
            "+------------+----------------------------+---------------+----------+--------+\n"
          ]
        }
      ]
    },
    {
      "cell_type": "code",
      "source": [
        "\n",
        "cursor_data.execute('''\n",
        "    CREATE VIEW IF NOT EXISTS seller_dim AS\n",
        "    SELECT\n",
        "        ROW_NUMBER() OVER(ORDER BY seller_id) AS id_seller,\n",
        "        seller_id AS cod_seller,\n",
        "        seller_nickname AS seller_name\n",
        "    FROM (\n",
        "        SELECT DISTINCT seller_id, seller_nickname\n",
        "        FROM raw_product\n",
        "    ) AS unique_sellers\n",
        "''')\n",
        "\n",
        "cursor_data.execute('SELECT * FROM seller_dim \\\n",
        "                      LIMIT 5')\n",
        "\n",
        "seller_dim = cursor_data.fetchall()\n",
        "seller_table = PrettyTable()\n",
        "seller_table.field_names = [\"ID Seller\", \"Cod Seller\", \"Seller Name\"]\n",
        "\n",
        "for row in seller_dim:\n",
        "    seller_table.add_row(row)\n",
        "\n",
        "print(\"Seller Dimension:\")\n",
        "print(seller_table)"
      ],
      "metadata": {
        "id": "120T5GHNlvQm",
        "colab": {
          "base_uri": "https://localhost:8080/"
        },
        "outputId": "7c8371c3-ac42-4553-9d9d-0a18ba5b82b8"
      },
      "execution_count": null,
      "outputs": [
        {
          "output_type": "stream",
          "name": "stdout",
          "text": [
            "Seller Dimension:\n",
            "+-----------+------------+--------------------+\n",
            "| ID Seller | Cod Seller |    Seller Name     |\n",
            "+-----------+------------+--------------------+\n",
            "|     1     |   415018   |     CAPITANIO      |\n",
            "|     2     |   970598   | FUTURO_IMPORTADOS  |\n",
            "|     3     |  1520446   |     INDAAPARAS     |\n",
            "|     4     |  1650894   | LIVRARIA-BOA-NOITE |\n",
            "|     5     |  3920462   | SEBO_PE_NA_ESTRADA |\n",
            "+-----------+------------+--------------------+\n"
          ]
        }
      ]
    },
    {
      "cell_type": "code",
      "source": [
        "cursor_data.execute('''\n",
        "    CREATE VIEW IF NOT EXISTS item_dim AS\n",
        "    SELECT\n",
        "        ROW_NUMBER() OVER(ORDER BY item_id) AS id_item,\n",
        "        item_id AS cod_item,\n",
        "        item_name,\n",
        "        category_id AS cod_category,\n",
        "        category AS category_name\n",
        "    FROM (\n",
        "        SELECT DISTINCT item_id, item_name, category_id, category\n",
        "        FROM raw_product\n",
        "    ) AS unique_items\n",
        "''')\n",
        "\n",
        "cursor_data.execute('SELECT * FROM item_dim \\\n",
        "                    LIMIT 5')\n",
        "item_dim = cursor_data.fetchall()\n",
        "item_table = PrettyTable()\n",
        "item_table.field_names = [\"ID Item\", \"Item ID\", \"Item Name\", \"Category_id\", \"name\"]\n",
        "\n",
        "for row in item_dim:\n",
        "    item_table.add_row(row)\n",
        "\n",
        "print(\"\\nItem Dimension:\")\n",
        "print(item_table)"
      ],
      "metadata": {
        "colab": {
          "base_uri": "https://localhost:8080/"
        },
        "id": "-oPc7szCRz3A",
        "outputId": "9cf707bb-db98-4452-bd2b-0db48c1c1887"
      },
      "execution_count": null,
      "outputs": [
        {
          "output_type": "stream",
          "name": "stdout",
          "text": [
            "\n",
            "Item Dimension:\n",
            "+---------+---------------+--------------------------------------------------------------+-------------+-----------+\n",
            "| ID Item |    Item ID    |                          Item Name                           | Category_id |    name   |\n",
            "+---------+---------------+--------------------------------------------------------------+-------------+-----------+\n",
            "|    1    | MLB1028968851 |    2 Caixa Térmica D Isopor Capacidade 120 Litros C/dreno    |  MLB218519  | Ingressos |\n",
            "|    2    | MLB1030948809 | Caixa Térmica D Isopor Capacidade 165 Litros C/dreno Isoterm |  MLB218519  | Ingressos |\n",
            "|    3    | MLB1031202677 |      Copo 10ml Acrilico C/1000 Doce Ou Ceia, Degustação      |  MLB218519  | Ingressos |\n",
            "|    4    | MLB1033727890 | Taça De Champagne Em Acrilico Descartavel 150ml 150 Unidades |  MLB218519  | Ingressos |\n",
            "|    5    | MLB1044540635 |   Lona De Proteção Transparente 4x50 Metros Media - 1 Rolo   |  MLB218519  | Ingressos |\n",
            "+---------+---------------+--------------------------------------------------------------+-------------+-----------+\n"
          ]
        }
      ]
    },
    {
      "cell_type": "code",
      "source": [
        "cursor_data.execute('''\n",
        "    CREATE VIEW IF NOT EXISTS category_dim AS\n",
        "    SELECT\n",
        "        ROW_NUMBER() OVER(ORDER BY id_category) AS id_category,\n",
        "        id_category AS cod_category,\n",
        "        name AS category_name\n",
        "    FROM (\n",
        "        SELECT DISTINCT id_category, name\n",
        "        FROM raw_category\n",
        "    ) AS unique_sellers\n",
        "''')\n",
        "\n",
        "cursor_data.execute('SELECT * FROM category_dim')\n",
        "\n",
        "category_dim = cursor_data.fetchall()\n",
        "category_table = PrettyTable()\n",
        "category_table.field_names = [\"id_category\", \"cod_category\", \"category_name\"]\n",
        "\n",
        "for row in category_dim:\n",
        "    category_table.add_row(row)\n",
        "\n",
        "print(\"\\nItem Dimension:\")\n",
        "print(category_table)"
      ],
      "metadata": {
        "colab": {
          "base_uri": "https://localhost:8080/"
        },
        "id": "2kuxC7B_T1UE",
        "outputId": "627dc0ab-7e79-4f15-c34b-d707effbea28"
      },
      "execution_count": null,
      "outputs": [
        {
          "output_type": "stream",
          "name": "stdout",
          "text": [
            "\n",
            "Item Dimension:\n",
            "+-------------+--------------+-----------------------------+\n",
            "| id_category | cod_category |        category_name        |\n",
            "+-------------+--------------+-----------------------------+\n",
            "|      1      |   MLB1000    |  Eletrônicos, Áudio e Vídeo |\n",
            "|      2      |   MLB1039    |     Câmeras e Acessórios    |\n",
            "|      3      |   MLB1051    |    Celulares e Telefones    |\n",
            "|      4      |   MLB1071    |           Animais           |\n",
            "|      5      |   MLB1132    |     Brinquedos e Hobbies    |\n",
            "|      6      |   MLB1144    |            Games            |\n",
            "|      7      |   MLB1168    |  Música, Filmes e Seriados  |\n",
            "|      8      |   MLB1182    |    Instrumentos Musicais    |\n",
            "|      9      |   MLB1196    |  Livros, Revistas e Comics  |\n",
            "|      10     |   MLB12404   |    Festas e Lembrancinhas   |\n",
            "|      11     |   MLB1246    |   Beleza e Cuidado Pessoal  |\n",
            "|      12     |   MLB1276    |      Esportes e Fitness     |\n",
            "|      13     |   MLB1367    |   Antiguidades e Coleções   |\n",
            "|      14     |   MLB1368    | Arte, Papelaria e Armarinho |\n",
            "|      15     |   MLB1384    |            Bebês            |\n",
            "|      16     |   MLB1403    |     Alimentos e Bebidas     |\n",
            "|      17     |   MLB1430    |  Calçados, Roupas e Bolsas  |\n",
            "|      18     |   MLB1459    |           Imóveis           |\n",
            "|      19     |   MLB1499    |     Indústria e Comércio    |\n",
            "|      20     |   MLB1500    |          Construção         |\n",
            "|      21     |   MLB1574    |   Casa, Móveis e Decoração  |\n",
            "|      22     |   MLB1648    |         Informática         |\n",
            "|      23     |   MLB1743    |    Carros, Motos e Outros   |\n",
            "|      24     |   MLB1953    |       Mais Categorias       |\n",
            "|      25     |  MLB218519   |          Ingressos          |\n",
            "|      26     |  MLB263532   |         Ferramentas         |\n",
            "|      27     |  MLB264586   |            Saúde            |\n",
            "|      28     |  MLB271599   |             Agro            |\n",
            "|      29     |   MLB3937    |       Joias e Relógios      |\n",
            "|      30     |   MLB5672    |   Acessórios para Veículos  |\n",
            "|      31     |   MLB5726    |       Eletrodomésticos      |\n",
            "+-------------+--------------+-----------------------------+\n"
          ]
        }
      ]
    },
    {
      "cell_type": "code",
      "source": [
        "cursor_data.execute('DROP VIEW IF EXISTS FACT_SALES')\n"
      ],
      "metadata": {
        "colab": {
          "base_uri": "https://localhost:8080/"
        },
        "id": "SQTafrAnduvI",
        "outputId": "98be37ff-ee43-4d46-c68a-1fc828eac0f1"
      },
      "execution_count": null,
      "outputs": [
        {
          "output_type": "execute_result",
          "data": {
            "text/plain": [
              "<sqlite3.Cursor at 0x79afdf6947c0>"
            ]
          },
          "metadata": {},
          "execution_count": 125
        }
      ]
    },
    {
      "cell_type": "code",
      "source": [
        "cursor_data.execute('''\n",
        "    CREATE VIEW FACT_SALES AS\n",
        "        SELECT\n",
        "          seller_dim.id_seller AS KEY1_NR_SELLER,\n",
        "          item_dim.id_item AS KEY1_NR_ITEM,\n",
        "          raw_vendas.data_created,\n",
        "          raw_vendas.quantity,\n",
        "          raw_vendas.price,\n",
        "          raw_vendas.quantity * raw_vendas.price AS total_sold\n",
        "        FROM\n",
        "        raw_vendas\n",
        "        LEFT OUTER JOIN seller_dim ON raw_vendas.seller_id = seller_dim.cod_seller\n",
        "        LEFT OUTER JOIN item_dim ON raw_vendas.item_id = item_dim.cod_item\n",
        "\n",
        "''')\n",
        "\n",
        "cursor_data.execute('SELECT * FROM FACT_SALES \\\n",
        "                  LIMIT 5')\n",
        "fact_sales = cursor_data.fetchall()\n",
        "\n",
        "# Criar a tabela PrettyTable para exibir os resultados\n",
        "fact_sales_table = PrettyTable()\n",
        "fact_sales_table.field_names = [\"KEY1_NR_SELLER\", \"KEY1_NR_ITEM\", \"Data Created\", \"Quantity\", \"Price\", \"Total Sold\"]\n",
        "\n",
        "for row in fact_sales:\n",
        "    fact_sales_table.add_row(row)\n",
        "\n",
        "print(\"\\nFact Sales:\")\n",
        "print(fact_sales_table)"
      ],
      "metadata": {
        "colab": {
          "base_uri": "https://localhost:8080/"
        },
        "id": "Cq2zqPS6W9ds",
        "outputId": "37488308-9f06-456e-c17e-96283543bd44"
      },
      "execution_count": null,
      "outputs": [
        {
          "output_type": "stream",
          "name": "stdout",
          "text": [
            "\n",
            "Fact Sales:\n",
            "+----------------+--------------+----------------------------+----------+--------+------------+\n",
            "| KEY1_NR_SELLER | KEY1_NR_ITEM |        Data Created        | Quantity | Price  | Total Sold |\n",
            "+----------------+--------------+----------------------------+----------+--------+------------+\n",
            "|      280       |     984      | 2024-06-22 00:31:45.205367 |    5     |  41.0  |   205.0    |\n",
            "|      454       |     552      | 2023-10-20 00:31:45.205433 |    6     |  82.5  |   495.0    |\n",
            "|      783       |     336      | 2024-01-06 00:31:45.205440 |    7     | 184.23 |  1289.61   |\n",
            "|      775       |     578      | 2024-06-18 00:31:45.205448 |    8     | 575.0  |   4600.0   |\n",
            "|      218       |      37      | 2024-07-23 00:31:45.205456 |    8     |  56.0  |   448.0    |\n",
            "+----------------+--------------+----------------------------+----------+--------+------------+\n"
          ]
        }
      ]
    },
    {
      "cell_type": "code",
      "source": [
        "conn_data.commit()"
      ],
      "metadata": {
        "id": "fjju-otCdq6-"
      },
      "execution_count": null,
      "outputs": []
    },
    {
      "cell_type": "markdown",
      "source": [
        "#Finalização Exercício 1\n",
        "\n",
        "## Pergunta:\n",
        "\n",
        "1.   Como você nomearia cada tabela e porque?\n",
        "      - Para a organização dos dados, inicialmente, criei tabelas com o prefixo \"raw\", indicando que contêm dados brutos extraídos diretamente da API.\n",
        "\n",
        "      Em seguida, projetei um Data Warehouse para ser consumido no Tableau, onde desenvolvi views para as Dimensões e a Tabela Fato. O plano inicial consistia em criar dois bancos: um para os dados crus, contendo as dimensões em formato de view, e outro para armazenar as tabelas com os dados já processados. Essa estrutura permitiria realizar consultas de maneira mais eficiente, evitando joins entre views, que podem impactar a performance.\n",
        "\n",
        "      Contudo, devido ao pequeno volume de dados, decidi implementar tudo em um único banco de dados. As tabelas foram nomeadas para refletir suas funções e o tipo de dados que armazenam, facilitando a compreensão e manutenção do esquema.\n",
        "\n",
        "\n"
      ],
      "metadata": {
        "id": "lE-M7t8r31zb"
      }
    },
    {
      "cell_type": "markdown",
      "source": [
        "# Exercício 2"
      ],
      "metadata": {
        "id": "UP4pIdP97vS-"
      }
    },
    {
      "cell_type": "markdown",
      "source": [
        "## 1. No Colab Notebook, escreva consultas SQL para calcular: receita total, número de produtos vendidos e preço médio de venda por vendedor no banco de dados SQLite."
      ],
      "metadata": {
        "id": "-vHXMTp77x-e"
      }
    },
    {
      "cell_type": "code",
      "source": [],
      "metadata": {
        "id": "HVWpkv3w8GOj"
      },
      "execution_count": null,
      "outputs": []
    }
  ]
}