{
  "nbformat": 4,
  "nbformat_minor": 0,
  "metadata": {
    "colab": {
      "provenance": [],
      "collapsed_sections": [
        "zUuX6K5kr41I",
        "TZvJyw69r_rO",
        "JJCtT2ggsHM4",
        "WP5grhlbrIDe",
        "pk4OGC2mjV6b"
      ],
      "authorship_tag": "ABX9TyNcP3xlYLF/3oLz7NBMlzl6",
      "include_colab_link": true
    },
    "kernelspec": {
      "name": "python3",
      "display_name": "Python 3"
    },
    "language_info": {
      "name": "python"
    }
  },
  "cells": [
    {
      "cell_type": "markdown",
      "metadata": {
        "id": "view-in-github",
        "colab_type": "text"
      },
      "source": [
        "<a href=\"https://colab.research.google.com/github/victorsa2/sales_meli/blob/main/sales_meli.ipynb\" target=\"_parent\"><img src=\"https://colab.research.google.com/assets/colab-badge.svg\" alt=\"Open In Colab\"/></a>"
      ]
    },
    {
      "cell_type": "markdown",
      "source": [
        "## Preparando o Ambiente no Github"
      ],
      "metadata": {
        "id": "zUuX6K5kr41I"
      }
    },
    {
      "cell_type": "code",
      "source": [
        "!git clone https://github.com/victorsa2/sales_meli.git"
      ],
      "metadata": {
        "id": "QWE6RToSjZeM",
        "colab": {
          "base_uri": "https://localhost:8080/"
        },
        "outputId": "93a8cb83-cd8e-4c2d-cbdc-7ec46647eb54"
      },
      "execution_count": 2,
      "outputs": [
        {
          "output_type": "stream",
          "name": "stdout",
          "text": [
            "Cloning into 'sales_meli'...\n",
            "remote: Enumerating objects: 63, done.\u001b[K\n",
            "remote: Counting objects: 100% (63/63), done.\u001b[K\n",
            "remote: Compressing objects: 100% (58/58), done.\u001b[K\n",
            "remote: Total 63 (delta 23), reused 0 (delta 0), pack-reused 0 (from 0)\u001b[K\n",
            "Receiving objects: 100% (63/63), 281.09 KiB | 1.28 MiB/s, done.\n",
            "Resolving deltas: 100% (23/23), done.\n"
          ]
        }
      ]
    },
    {
      "cell_type": "markdown",
      "source": [
        "## Subindo o arquivo .env com as variáveis no drive"
      ],
      "metadata": {
        "id": "TZvJyw69r_rO"
      }
    },
    {
      "cell_type": "code",
      "source": [
        "from google.colab import drive\n",
        "drive.mount('/content/drive')"
      ],
      "metadata": {
        "colab": {
          "base_uri": "https://localhost:8080/"
        },
        "id": "OpDWnUGyogyM",
        "outputId": "f1716a6e-faeb-4644-bccd-f3ba59ff3bc4"
      },
      "execution_count": 3,
      "outputs": [
        {
          "output_type": "stream",
          "name": "stdout",
          "text": [
            "Mounted at /content/drive\n"
          ]
        }
      ]
    },
    {
      "cell_type": "code",
      "source": [
        "from google.colab import files\n",
        "uploaded = files.upload()"
      ],
      "metadata": {
        "colab": {
          "base_uri": "https://localhost:8080/",
          "height": 73
        },
        "id": "Je9yl0duokC6",
        "outputId": "43e092a9-1d8e-4bd8-977d-7f979d0fbcb1"
      },
      "execution_count": 4,
      "outputs": [
        {
          "output_type": "display_data",
          "data": {
            "text/plain": [
              "<IPython.core.display.HTML object>"
            ],
            "text/html": [
              "\n",
              "     <input type=\"file\" id=\"files-4c41e09d-8385-4486-bff7-6393a164752f\" name=\"files[]\" multiple disabled\n",
              "        style=\"border:none\" />\n",
              "     <output id=\"result-4c41e09d-8385-4486-bff7-6393a164752f\">\n",
              "      Upload widget is only available when the cell has been executed in the\n",
              "      current browser session. Please rerun this cell to enable.\n",
              "      </output>\n",
              "      <script>// Copyright 2017 Google LLC\n",
              "//\n",
              "// Licensed under the Apache License, Version 2.0 (the \"License\");\n",
              "// you may not use this file except in compliance with the License.\n",
              "// You may obtain a copy of the License at\n",
              "//\n",
              "//      http://www.apache.org/licenses/LICENSE-2.0\n",
              "//\n",
              "// Unless required by applicable law or agreed to in writing, software\n",
              "// distributed under the License is distributed on an \"AS IS\" BASIS,\n",
              "// WITHOUT WARRANTIES OR CONDITIONS OF ANY KIND, either express or implied.\n",
              "// See the License for the specific language governing permissions and\n",
              "// limitations under the License.\n",
              "\n",
              "/**\n",
              " * @fileoverview Helpers for google.colab Python module.\n",
              " */\n",
              "(function(scope) {\n",
              "function span(text, styleAttributes = {}) {\n",
              "  const element = document.createElement('span');\n",
              "  element.textContent = text;\n",
              "  for (const key of Object.keys(styleAttributes)) {\n",
              "    element.style[key] = styleAttributes[key];\n",
              "  }\n",
              "  return element;\n",
              "}\n",
              "\n",
              "// Max number of bytes which will be uploaded at a time.\n",
              "const MAX_PAYLOAD_SIZE = 100 * 1024;\n",
              "\n",
              "function _uploadFiles(inputId, outputId) {\n",
              "  const steps = uploadFilesStep(inputId, outputId);\n",
              "  const outputElement = document.getElementById(outputId);\n",
              "  // Cache steps on the outputElement to make it available for the next call\n",
              "  // to uploadFilesContinue from Python.\n",
              "  outputElement.steps = steps;\n",
              "\n",
              "  return _uploadFilesContinue(outputId);\n",
              "}\n",
              "\n",
              "// This is roughly an async generator (not supported in the browser yet),\n",
              "// where there are multiple asynchronous steps and the Python side is going\n",
              "// to poll for completion of each step.\n",
              "// This uses a Promise to block the python side on completion of each step,\n",
              "// then passes the result of the previous step as the input to the next step.\n",
              "function _uploadFilesContinue(outputId) {\n",
              "  const outputElement = document.getElementById(outputId);\n",
              "  const steps = outputElement.steps;\n",
              "\n",
              "  const next = steps.next(outputElement.lastPromiseValue);\n",
              "  return Promise.resolve(next.value.promise).then((value) => {\n",
              "    // Cache the last promise value to make it available to the next\n",
              "    // step of the generator.\n",
              "    outputElement.lastPromiseValue = value;\n",
              "    return next.value.response;\n",
              "  });\n",
              "}\n",
              "\n",
              "/**\n",
              " * Generator function which is called between each async step of the upload\n",
              " * process.\n",
              " * @param {string} inputId Element ID of the input file picker element.\n",
              " * @param {string} outputId Element ID of the output display.\n",
              " * @return {!Iterable<!Object>} Iterable of next steps.\n",
              " */\n",
              "function* uploadFilesStep(inputId, outputId) {\n",
              "  const inputElement = document.getElementById(inputId);\n",
              "  inputElement.disabled = false;\n",
              "\n",
              "  const outputElement = document.getElementById(outputId);\n",
              "  outputElement.innerHTML = '';\n",
              "\n",
              "  const pickedPromise = new Promise((resolve) => {\n",
              "    inputElement.addEventListener('change', (e) => {\n",
              "      resolve(e.target.files);\n",
              "    });\n",
              "  });\n",
              "\n",
              "  const cancel = document.createElement('button');\n",
              "  inputElement.parentElement.appendChild(cancel);\n",
              "  cancel.textContent = 'Cancel upload';\n",
              "  const cancelPromise = new Promise((resolve) => {\n",
              "    cancel.onclick = () => {\n",
              "      resolve(null);\n",
              "    };\n",
              "  });\n",
              "\n",
              "  // Wait for the user to pick the files.\n",
              "  const files = yield {\n",
              "    promise: Promise.race([pickedPromise, cancelPromise]),\n",
              "    response: {\n",
              "      action: 'starting',\n",
              "    }\n",
              "  };\n",
              "\n",
              "  cancel.remove();\n",
              "\n",
              "  // Disable the input element since further picks are not allowed.\n",
              "  inputElement.disabled = true;\n",
              "\n",
              "  if (!files) {\n",
              "    return {\n",
              "      response: {\n",
              "        action: 'complete',\n",
              "      }\n",
              "    };\n",
              "  }\n",
              "\n",
              "  for (const file of files) {\n",
              "    const li = document.createElement('li');\n",
              "    li.append(span(file.name, {fontWeight: 'bold'}));\n",
              "    li.append(span(\n",
              "        `(${file.type || 'n/a'}) - ${file.size} bytes, ` +\n",
              "        `last modified: ${\n",
              "            file.lastModifiedDate ? file.lastModifiedDate.toLocaleDateString() :\n",
              "                                    'n/a'} - `));\n",
              "    const percent = span('0% done');\n",
              "    li.appendChild(percent);\n",
              "\n",
              "    outputElement.appendChild(li);\n",
              "\n",
              "    const fileDataPromise = new Promise((resolve) => {\n",
              "      const reader = new FileReader();\n",
              "      reader.onload = (e) => {\n",
              "        resolve(e.target.result);\n",
              "      };\n",
              "      reader.readAsArrayBuffer(file);\n",
              "    });\n",
              "    // Wait for the data to be ready.\n",
              "    let fileData = yield {\n",
              "      promise: fileDataPromise,\n",
              "      response: {\n",
              "        action: 'continue',\n",
              "      }\n",
              "    };\n",
              "\n",
              "    // Use a chunked sending to avoid message size limits. See b/62115660.\n",
              "    let position = 0;\n",
              "    do {\n",
              "      const length = Math.min(fileData.byteLength - position, MAX_PAYLOAD_SIZE);\n",
              "      const chunk = new Uint8Array(fileData, position, length);\n",
              "      position += length;\n",
              "\n",
              "      const base64 = btoa(String.fromCharCode.apply(null, chunk));\n",
              "      yield {\n",
              "        response: {\n",
              "          action: 'append',\n",
              "          file: file.name,\n",
              "          data: base64,\n",
              "        },\n",
              "      };\n",
              "\n",
              "      let percentDone = fileData.byteLength === 0 ?\n",
              "          100 :\n",
              "          Math.round((position / fileData.byteLength) * 100);\n",
              "      percent.textContent = `${percentDone}% done`;\n",
              "\n",
              "    } while (position < fileData.byteLength);\n",
              "  }\n",
              "\n",
              "  // All done.\n",
              "  yield {\n",
              "    response: {\n",
              "      action: 'complete',\n",
              "    }\n",
              "  };\n",
              "}\n",
              "\n",
              "scope.google = scope.google || {};\n",
              "scope.google.colab = scope.google.colab || {};\n",
              "scope.google.colab._files = {\n",
              "  _uploadFiles,\n",
              "  _uploadFilesContinue,\n",
              "};\n",
              "})(self);\n",
              "</script> "
            ]
          },
          "metadata": {}
        },
        {
          "output_type": "stream",
          "name": "stdout",
          "text": [
            "Saving .env to .env\n"
          ]
        }
      ]
    },
    {
      "cell_type": "markdown",
      "source": [
        "##Instalando Dependencias não disponíveis no colab"
      ],
      "metadata": {
        "id": "JJCtT2ggsHM4"
      }
    },
    {
      "cell_type": "code",
      "source": [
        "pip install python-dotenv"
      ],
      "metadata": {
        "colab": {
          "base_uri": "https://localhost:8080/"
        },
        "id": "B8G8hE_SpV0m",
        "outputId": "da7a25c5-c0cf-47fb-baa9-d1d80ad492e6"
      },
      "execution_count": 5,
      "outputs": [
        {
          "output_type": "stream",
          "name": "stdout",
          "text": [
            "Collecting python-dotenv\n",
            "  Downloading python_dotenv-1.0.1-py3-none-any.whl.metadata (23 kB)\n",
            "Downloading python_dotenv-1.0.1-py3-none-any.whl (19 kB)\n",
            "Installing collected packages: python-dotenv\n",
            "Successfully installed python-dotenv-1.0.1\n"
          ]
        }
      ]
    },
    {
      "cell_type": "code",
      "source": [
        "import requests\n",
        "import webbrowser\n",
        "from dotenv import load_dotenv\n",
        "import os"
      ],
      "metadata": {
        "id": "OsnE34PgtHye"
      },
      "execution_count": 6,
      "outputs": []
    },
    {
      "cell_type": "markdown",
      "source": [
        "#Consultando API do Mercado Livre"
      ],
      "metadata": {
        "id": "AsdQX_tqsR0F"
      }
    },
    {
      "cell_type": "markdown",
      "source": [
        "##Obter Access Token e User ID"
      ],
      "metadata": {
        "id": "WP5grhlbrIDe"
      }
    },
    {
      "cell_type": "code",
      "source": [
        "load_dotenv('/content/.env')\n",
        "\n",
        "APP_ID = os.getenv(\"APP_ID\")\n",
        "APP_SECRET = os.getenv(\"APP_SECRET\")\n",
        "REDIRECT_URI = os.getenv(\"REDIRECT_URI\")\n",
        "\n",
        "def get_access_token_and_user_id():\n",
        "\n",
        "    auth_url = f'https://auth.mercadolivre.com.br/authorization?response_type=code&client_id={APP_ID}&redirect_uri={REDIRECT_URI}'\n",
        "    return auth_url\n",
        "\n",
        "def request_token(authorization_code):\n",
        "    token_url = 'https://api.mercadolibre.com/oauth/token'\n",
        "    payload = {\n",
        "        'grant_type': 'authorization_code',\n",
        "        'client_id': os.getenv(\"APP_ID\"),\n",
        "        'client_secret': os.getenv(\"APP_SECRET\"),\n",
        "        'code': authorization_code,\n",
        "        'redirect_uri': os.getenv(\"REDIRECT_URI\")\n",
        "    }\n",
        "\n",
        "    response = requests.post(token_url, data=payload)\n",
        "    token_data = response.json()\n",
        "\n",
        "    access_token = token_data['access_token']\n",
        "    user_id = token_data['user_id']\n",
        "\n",
        "    return access_token, user_id\n",
        "\n",
        "if __name__ == \"__main__\":\n",
        "    auth_url = get_access_token_and_user_id()\n",
        "    print(\"Abra o seguinte URL no seu navegador para obter o código de autorização:\")\n",
        "    print(auth_url)\n",
        "\n",
        "    authorization_code = input(\"Insira o código de autorização: \")\n",
        "    access_token, user_id = request_token(authorization_code)\n"
      ],
      "metadata": {
        "colab": {
          "base_uri": "https://localhost:8080/"
        },
        "id": "CXXK36aEpXxZ",
        "outputId": "f7a9b769-14e9-4985-889b-bb92ae386a25"
      },
      "execution_count": 7,
      "outputs": [
        {
          "name": "stdout",
          "output_type": "stream",
          "text": [
            "Abra o seguinte URL no seu navegador para obter o código de autorização:\n",
            "https://auth.mercadolivre.com.br/authorization?response_type=code&client_id=5500572046072825&redirect_uri=https://victorsa.netlify.app\n",
            "Insira o código de autorização: TG-66fbf733ed58330001ef1cb3-478295390\n"
          ]
        }
      ]
    },
    {
      "cell_type": "markdown",
      "source": [
        "##Obter dimensão de Categorias"
      ],
      "metadata": {
        "id": "pk4OGC2mjV6b"
      }
    },
    {
      "cell_type": "code",
      "source": [
        "import requests\n",
        "import pandas as pd\n",
        "\n",
        "def fetch_categories():\n",
        "    url = \"https://api.mercadolibre.com/sites/MLB/categories\"\n",
        "    response = requests.get(url)\n",
        "\n",
        "    if response.status_code == 200:\n",
        "        return response.json()\n",
        "    else:\n",
        "        print(f\"Erro ao obter categorias: {response.status_code}\")\n",
        "        return []\n",
        "\n",
        "categories_data = fetch_categories()\n",
        "categories_list = []\n",
        "\n",
        "for category in categories_data:\n",
        "    categories_list.append({\n",
        "        'id_category': category['id'],\n",
        "        'name': category['name'],\n",
        "    })\n",
        "\n",
        "dim_Category = pd.DataFrame(categories_list)\n",
        "dim_Category.to_csv('category.csv',encoding='utf-8-sig')\n",
        "\n",
        "print(\"Dimensão Categorias:\")\n",
        "print(dim_Category.head())"
      ],
      "metadata": {
        "colab": {
          "base_uri": "https://localhost:8080/"
        },
        "id": "DEBGe4bhjVHA",
        "outputId": "6b2cbddb-47ee-46a1-ba61-0d4fd84c403d"
      },
      "execution_count": 8,
      "outputs": [
        {
          "output_type": "stream",
          "name": "stdout",
          "text": [
            "Dimensão Categorias:\n",
            "  id_category                      name\n",
            "0     MLB5672  Acessórios para Veículos\n",
            "1   MLB271599                      Agro\n",
            "2     MLB1403       Alimentos e Bebidas\n",
            "3     MLB1071                   Animais\n",
            "4     MLB1367   Antiguidades e Coleções\n"
          ]
        }
      ]
    },
    {
      "cell_type": "markdown",
      "source": [
        "## Consumindo API por produtos para conseguir alguns vendedores de exemplo, pesquisando por todas as categorias do Mercado Livre.\n"
      ],
      "metadata": {
        "id": "11iWaJfntPPo"
      }
    },
    {
      "cell_type": "code",
      "source": [
        "def fetch_categories():\n",
        "    url = \"https://api.mercadolibre.com/sites/MLB/categories\"\n",
        "    try:\n",
        "        response = requests.get(url)\n",
        "        response.raise_for_status()\n",
        "        return response.json()\n",
        "    except requests.exceptions.RequestException as e:\n",
        "        print(f\"Erro ao obter categorias: {e}\")\n",
        "        return []\n",
        "\n",
        "def fetch_sales_in_category(category_id, access_token, site_id):\n",
        "    url = f'https://api.mercadolibre.com/sites/{site_id}/search?category={category_id}'\n",
        "    headers = {'Authorization': f'Bearer {access_token}'}\n",
        "\n",
        "    try:\n",
        "        response = requests.get(url, headers=headers)\n",
        "        response.raise_for_status()\n",
        "        return response.json()['results']\n",
        "    except requests.exceptions.RequestException as e:\n",
        "        print(f\"Erro ao obter vendas na categoria {category_id}: {e}\")\n",
        "        return []\n",
        "\n",
        "ACCESS_TOKEN = access_token\n",
        "SITE_ID = 'MLB'\n",
        "\n",
        "sales_list = []\n",
        "categories_data = fetch_categories()\n",
        "\n",
        "for category in categories_data:\n",
        "    category_id = category['id']\n",
        "    print(f\"\\nBuscando vendas na categoria: {category['name']} (ID: {category_id})\")\n",
        "\n",
        "    sales_data = fetch_sales_in_category(category_id, ACCESS_TOKEN, SITE_ID)\n",
        "\n",
        "    if sales_data:\n",
        "        for item in sales_data:\n",
        "            if 'seller' in item and 'nickname' in item['seller']:\n",
        "                sales_list.append({\n",
        "                    'seller_id': item['seller']['id'],\n",
        "                    'seller_nickname': item['seller']['nickname'],\n",
        "                    'category_id': category['id'],\n",
        "                    'category': category['name'],\n",
        "                    'item_id': item['id'],\n",
        "                    'item_name': item['title'],\n",
        "                    'currency': item['currency_id'],\n",
        "                    'price': item['price']\n",
        "                })\n",
        "    else:\n",
        "        print(\"Nenhum resultado encontrado para esta categoria.\")\n",
        "\n",
        "df_sales = pd.DataFrame(sales_list)\n",
        "df_sales.to_csv('products.csv',encoding='utf-8-sig')\n",
        "\n",
        "print(df_sales)"
      ],
      "metadata": {
        "colab": {
          "base_uri": "https://localhost:8080/"
        },
        "id": "BG9onCLRoLHA",
        "outputId": "722e05bf-0c21-4ece-d7e3-98b7dfd3a934"
      },
      "execution_count": 9,
      "outputs": [
        {
          "output_type": "stream",
          "name": "stdout",
          "text": [
            "\n",
            "Buscando vendas na categoria: Acessórios para Veículos (ID: MLB5672)\n",
            "\n",
            "Buscando vendas na categoria: Agro (ID: MLB271599)\n",
            "\n",
            "Buscando vendas na categoria: Alimentos e Bebidas (ID: MLB1403)\n",
            "\n",
            "Buscando vendas na categoria: Animais (ID: MLB1071)\n",
            "\n",
            "Buscando vendas na categoria: Antiguidades e Coleções (ID: MLB1367)\n",
            "\n",
            "Buscando vendas na categoria: Arte, Papelaria e Armarinho (ID: MLB1368)\n",
            "\n",
            "Buscando vendas na categoria: Bebês (ID: MLB1384)\n",
            "\n",
            "Buscando vendas na categoria: Beleza e Cuidado Pessoal (ID: MLB1246)\n",
            "\n",
            "Buscando vendas na categoria: Brinquedos e Hobbies (ID: MLB1132)\n",
            "\n",
            "Buscando vendas na categoria: Calçados, Roupas e Bolsas (ID: MLB1430)\n",
            "\n",
            "Buscando vendas na categoria: Câmeras e Acessórios (ID: MLB1039)\n",
            "\n",
            "Buscando vendas na categoria: Carros, Motos e Outros (ID: MLB1743)\n",
            "\n",
            "Buscando vendas na categoria: Casa, Móveis e Decoração (ID: MLB1574)\n",
            "\n",
            "Buscando vendas na categoria: Celulares e Telefones (ID: MLB1051)\n",
            "\n",
            "Buscando vendas na categoria: Construção (ID: MLB1500)\n",
            "\n",
            "Buscando vendas na categoria: Eletrodomésticos (ID: MLB5726)\n",
            "\n",
            "Buscando vendas na categoria: Eletrônicos, Áudio e Vídeo (ID: MLB1000)\n",
            "\n",
            "Buscando vendas na categoria: Esportes e Fitness (ID: MLB1276)\n",
            "\n",
            "Buscando vendas na categoria: Ferramentas (ID: MLB263532)\n",
            "\n",
            "Buscando vendas na categoria: Festas e Lembrancinhas (ID: MLB12404)\n",
            "\n",
            "Buscando vendas na categoria: Games (ID: MLB1144)\n",
            "\n",
            "Buscando vendas na categoria: Imóveis (ID: MLB1459)\n",
            "\n",
            "Buscando vendas na categoria: Indústria e Comércio (ID: MLB1499)\n",
            "\n",
            "Buscando vendas na categoria: Informática (ID: MLB1648)\n",
            "\n",
            "Buscando vendas na categoria: Ingressos (ID: MLB218519)\n",
            "\n",
            "Buscando vendas na categoria: Instrumentos Musicais (ID: MLB1182)\n",
            "\n",
            "Buscando vendas na categoria: Joias e Relógios (ID: MLB3937)\n",
            "\n",
            "Buscando vendas na categoria: Livros, Revistas e Comics (ID: MLB1196)\n",
            "\n",
            "Buscando vendas na categoria: Música, Filmes e Seriados (ID: MLB1168)\n",
            "\n",
            "Buscando vendas na categoria: Saúde (ID: MLB264586)\n",
            "\n",
            "Buscando vendas na categoria: Serviços (ID: MLB1540)\n",
            "\n",
            "Buscando vendas na categoria: Mais Categorias (ID: MLB1953)\n",
            "       seller_id    seller_nickname category_id                  category  \\\n",
            "0      224160443     MAF UTILIDADES     MLB5672  Acessórios para Veículos   \n",
            "1      444816473            AUTO TR     MLB5672  Acessórios para Veículos   \n",
            "2     1165626720              WEMG_     MLB5672  Acessórios para Veículos   \n",
            "3     1148569370       MEGAMOTO.COM     MLB5672  Acessórios para Veículos   \n",
            "4      183982918         IDEAL KITS     MLB5672  Acessórios para Veículos   \n",
            "...          ...                ...         ...                       ...   \n",
            "1577   194177382  COOPER UTILIDADES     MLB1953           Mais Categorias   \n",
            "1578   492637261             GOWEB_     MLB1953           Mais Categorias   \n",
            "1579   269850546          SEUPETWEB     MLB1953           Mais Categorias   \n",
            "1580   472677463   DUENDELUZ.COM.BR     MLB1953           Mais Categorias   \n",
            "1581    69863641           LOJA4200     MLB1953           Mais Categorias   \n",
            "\n",
            "            item_id                                          item_name  \\\n",
            "0     MLB4296308798  Kit 10 Panos Microfibra Flanela 35*50cm Power ...   \n",
            "1     MLB3698110641  Mangueira Filtro Ar Tbi Honda Civic 2012 2013 ...   \n",
            "2     MLB3494040092  Modulo Taramps Ts400x4 400w 2 Ohms Rca Ts 400x...   \n",
            "3     MLB3721274157  Par Pneu Bros 150 Xre 190 90/90-19 + 110/90-17...   \n",
            "4     MLB1381132707  Botão Interruptor Vidro Elétrico Sandero Duste...   \n",
            "...             ...                                                ...   \n",
            "1577  MLB3447007335  Kit Bolador + Filtro Aleda + Dichavador + Seda...   \n",
            "1578  MLB3816175247  Adaptador Placa Video Pci-express 1 X Slot 16x...   \n",
            "1579  MLB3614923243  Tropicalderm Tattoo Sealing Spray - 120ml Tatu...   \n",
            "1580  MLB2607326313  Palo Santo 100% Puro Natural Original Peru Mad...   \n",
            "1581  MLB3754082353   10 Dichavador Grande Ervas Fibra De Coco 3 Pa...   \n",
            "\n",
            "     currency   price  \n",
            "0         BRL   41.00  \n",
            "1         BRL   82.50  \n",
            "2         BRL  184.23  \n",
            "3         BRL  575.00  \n",
            "4         BRL   56.00  \n",
            "...       ...     ...  \n",
            "1577      BRL   35.15  \n",
            "1578      BRL   26.60  \n",
            "1579      BRL   56.83  \n",
            "1580      BRL   19.97  \n",
            "1581      BRL   23.89  \n",
            "\n",
            "[1582 rows x 8 columns]\n"
          ]
        }
      ]
    },
    {
      "cell_type": "markdown",
      "source": [
        "# Exploração e Tratamento"
      ],
      "metadata": {
        "id": "RmDl6McxtuZb"
      }
    },
    {
      "cell_type": "markdown",
      "source": [
        "Adicionando o arquivo gerado pelo GPT no ambiente do colab"
      ],
      "metadata": {
        "id": "eWFgzTFKUd2D"
      }
    },
    {
      "cell_type": "code",
      "source": [
        "import pandas as pd\n",
        "\n",
        "path_category = '/content/category.csv'\n",
        "path_products = '/content/products.csv'\n",
        "\n",
        "df_category = pd.read_csv(path_category, sep=',')\n",
        "df_products = pd.read_csv(path_products, sep=',')\n",
        "\n",
        "print('Informações dataframe Category:\\n')\n",
        "shape_category = df_category.info()\n",
        "\n",
        "print('\\nInformações dataframe Products:\\n')\n",
        "shape_products = df_products.info()"
      ],
      "metadata": {
        "colab": {
          "base_uri": "https://localhost:8080/"
        },
        "id": "notkPpLrty9s",
        "outputId": "157d9fa9-91aa-439c-db5f-0516b5f34bc2"
      },
      "execution_count": 30,
      "outputs": [
        {
          "output_type": "stream",
          "name": "stdout",
          "text": [
            "Informações dataframe Category:\n",
            "\n",
            "<class 'pandas.core.frame.DataFrame'>\n",
            "RangeIndex: 32 entries, 0 to 31\n",
            "Data columns (total 3 columns):\n",
            " #   Column       Non-Null Count  Dtype \n",
            "---  ------       --------------  ----- \n",
            " 0   Unnamed: 0   32 non-null     int64 \n",
            " 1   id_category  32 non-null     object\n",
            " 2   name         32 non-null     object\n",
            "dtypes: int64(1), object(2)\n",
            "memory usage: 896.0+ bytes\n",
            "\n",
            "Informações dataframe Products:\n",
            "\n",
            "<class 'pandas.core.frame.DataFrame'>\n",
            "RangeIndex: 1582 entries, 0 to 1581\n",
            "Data columns (total 9 columns):\n",
            " #   Column           Non-Null Count  Dtype  \n",
            "---  ------           --------------  -----  \n",
            " 0   Unnamed: 0       1582 non-null   int64  \n",
            " 1   seller_id        1582 non-null   int64  \n",
            " 2   seller_nickname  1582 non-null   object \n",
            " 3   category_id      1582 non-null   object \n",
            " 4   category         1582 non-null   object \n",
            " 5   item_id          1582 non-null   object \n",
            " 6   item_name        1582 non-null   object \n",
            " 7   currency         1549 non-null   object \n",
            " 8   price            1549 non-null   float64\n",
            "dtypes: float64(1), int64(2), object(6)\n",
            "memory usage: 111.4+ KB\n"
          ]
        }
      ]
    },
    {
      "cell_type": "code",
      "source": [
        "category_null = df_category.isnull().sum() > 0\n",
        "print('Verificando nulos no dataframe Category:\\n')\n",
        "print(category_null)\n",
        "\n",
        "products_null = df_products.isnull().sum() > 0\n",
        "print('Verificando nulos no dataframe Products:\\n')\n",
        "print(products_null)"
      ],
      "metadata": {
        "colab": {
          "base_uri": "https://localhost:8080/"
        },
        "id": "RvUU1UijzNl_",
        "outputId": "df56f81d-4d5d-45e3-803a-76a4f138b69a"
      },
      "execution_count": 33,
      "outputs": [
        {
          "output_type": "stream",
          "name": "stdout",
          "text": [
            "Verificando nulos no dataframe Category:\n",
            "\n",
            "Unnamed: 0     False\n",
            "id_category    False\n",
            "name           False\n",
            "dtype: bool\n",
            "Verificando nulos no dataframe Products:\n",
            "\n",
            "Unnamed: 0         False\n",
            "seller_id          False\n",
            "seller_nickname    False\n",
            "category_id        False\n",
            "category           False\n",
            "item_id            False\n",
            "item_name          False\n",
            "currency            True\n",
            "price               True\n",
            "dtype: bool\n"
          ]
        }
      ]
    },
    {
      "cell_type": "code",
      "source": [
        "df_price_null = df_products[df_products['price'].isnull()]\n",
        "print('Linhas com valores nulos na coluna price:\\n')\n",
        "print(df_price_null)"
      ],
      "metadata": {
        "colab": {
          "base_uri": "https://localhost:8080/"
        },
        "id": "CL-EjRDMVeMG",
        "outputId": "789cbdc0-724e-48d8-aaec-f87967c6a0fd"
      },
      "execution_count": 26,
      "outputs": [
        {
          "output_type": "stream",
          "name": "stdout",
          "text": [
            "Linhas com valores nulos na coluna price:\n",
            "\n",
            "      Unnamed: 0  seller_id            seller_nickname category_id  category  \\\n",
            "1489        1489  169213892            BRILHYSEMIJOIAS     MLB1540  Serviços   \n",
            "1490        1490  209363479                 SUN HAPPY.     MLB1540  Serviços   \n",
            "1491        1491   29094661                ALUGUEFLUKE     MLB1540  Serviços   \n",
            "1492        1492   89551550            ZERICARDOGUEDES     MLB1540  Serviços   \n",
            "1493        1493   42451372             RICARDOYOUSSEF     MLB1540  Serviços   \n",
            "1494        1494  104637759                DARLAN 1434     MLB1540  Serviços   \n",
            "1495        1495     519584                  GARIDA_ML     MLB1540  Serviços   \n",
            "1496        1496   56338640              SAMPA_MVENDAS     MLB1540  Serviços   \n",
            "1497        1497  177129516             FRETEPONTUALSP     MLB1540  Serviços   \n",
            "1499        1499  443589211           COMAHOCOMMATHOSP     MLB1540  Serviços   \n",
            "1500        1500   56338640              SAMPA_MVENDAS     MLB1540  Serviços   \n",
            "1503        1503   66735114               MIKELOCACOES     MLB1540  Serviços   \n",
            "1508        1508  193437930             MOACIRJANOVICH     MLB1540  Serviços   \n",
            "1509        1509  659640103  TOTALMETALCOMRCIODEMETAIS     MLB1540  Serviços   \n",
            "1510        1510  255007587             KAROLINEHARUMY     MLB1540  Serviços   \n",
            "1511        1511  169213892            BRILHYSEMIJOIAS     MLB1540  Serviços   \n",
            "1513        1513   24425961              CAR_ELIZIARIO     MLB1540  Serviços   \n",
            "1514        1514  243133986                FEGI8031843     MLB1540  Serviços   \n",
            "1515        1515   42451372             RICARDOYOUSSEF     MLB1540  Serviços   \n",
            "1516        1516  291857911                VAFR9032775     MLB1540  Serviços   \n",
            "1517        1517   72800199                  MVILACHAN     MLB1540  Serviços   \n",
            "1518        1518  191773726                  PD CABINE     MLB1540  Serviços   \n",
            "1519        1519   86892327                   CICERO67     MLB1540  Serviços   \n",
            "1521        1521   96612962                 GMPGUSTAVO     MLB1540  Serviços   \n",
            "1522        1522  151502566              AIRTONZSZEFER     MLB1540  Serviços   \n",
            "1523        1523  129171780           MANIA_DE_BRINCAR     MLB1540  Serviços   \n",
            "1524        1524   96792859                  MARUJO953     MLB1540  Serviços   \n",
            "1525        1525   72800199                  MVILACHAN     MLB1540  Serviços   \n",
            "1526        1526  200093921               MULTCARRETAS     MLB1540  Serviços   \n",
            "1527        1527   35082462                 TTLTRONICS     MLB1540  Serviços   \n",
            "1528        1528  538205854                    MEDCAMA     MLB1540  Serviços   \n",
            "1529        1529   42451372             RICARDOYOUSSEF     MLB1540  Serviços   \n",
            "1530        1530  328026389               LDBARTENDERS     MLB1540  Serviços   \n",
            "\n",
            "            item_id                                          item_name  \\\n",
            "1489  MLB3652390899  Mudanças,carretos,fretes,eventos Para Todo Bra...   \n",
            "1490  MLB3770971921  Aluguel Videokê Karaokê São Paulo E Guarulhos ...   \n",
            "1491  MLB5000037858  Certificação De Rede Fluke Calibrado Dsx-5000 ...   \n",
            "1492  MLB4996089856                        Locação Cesto Aéreo Isolado   \n",
            "1493  MLB3809151133  Cama Maca Aluguel Quick Massagem Shiatsu Pós C...   \n",
            "1494  MLB4971443704                                 Montador De Móveis   \n",
            "1495  MLB5036492870  Som E Luz Pequenos Eventos/festas/bandas/ Corp...   \n",
            "1496  MLB4959738878       Montador De Móveis Zona Sul E Toda São Paulo   \n",
            "1497  MLB3833692455  Frete Carreto Mudança Zona Centro Norte Sul Le...   \n",
            "1499  MLB3787775749  Cama Hospitalar - R$ 14,00/dia  - Locação Míni...   \n",
            "1500  MLB5077354170  Montador De Móveis Zona Norte, Zona Leste E Gu...   \n",
            "1503  MLB3822854695  Locação Ombrelones Mesas E Cadeiras De Madeira...   \n",
            "1508  MLB4772039790  Aluguel Vans E Microônibus-aeroportos,festas,v...   \n",
            "1509  MLB4983150986  Corte De Metais No Plasma, Laser, Oxicorte E J...   \n",
            "1510  MLB3795647459  Cabine De Fotos, Totem Fotográfico, Plataforma...   \n",
            "1511  MLB4592735704  Mudanças, Carretos, Fretes, Eventos Todo Brasi...   \n",
            "1513  MLB3682225293  Locação De Caminhão Cabine Suplementar Aluguel...   \n",
            "1514  MLB3689122029  Fretes, Carretos, Mudanças, - Caminhão Baú, Ba...   \n",
            "1515  MLB3809105887  Locação Aluguel De Cadeiras E Poltronas De Mas...   \n",
            "1516  MLB4829139176  Espaço Tiarlinda Eventos. (festas E Eventos Mo...   \n",
            "1517  MLB3827613055  Conserto Do Modulo  Injeção Ecu Xt660 Ou Mt03 ...   \n",
            "1518  MLB5050182424  Cabine De Fotos, Totem De Fotos, Espelho Mágic...   \n",
            "1519  MLB4948162396      Fretes Carretos Mudanças E Transporte Demotos   \n",
            "1521  MLB4856587962  Gmp Retifica Peças Motor Popa Pistao Aneis Bie...   \n",
            "1522  MLB3673378471  Bobinadeira Cnc Reparo: Digmotor, Mega  Placas...   \n",
            "1523  MLB3845881999  Locação Pula Pula Cama Elástica Piscina Tobogã...   \n",
            "1524  MLB3769850639  Aluguel Barco Pesca Passeio Mergulho Em Ilha B...   \n",
            "1525  MLB3827523153  Conserto,cdi,módulo Xt660,modulo De Injeção De...   \n",
            "1526  MLB4610544266  Aluguel Carretinhas Reboque Locação Em Campina...   \n",
            "1527  MLB3696606671  Manutenção Placas Hdmi Receiver Onkyo,denon,ma...   \n",
            "1528  MLB4853655720     Cama Hospitalar Manual Aluguel R$120,00 Mensal   \n",
            "1529  MLB5051110336  Cadeira Massagem Quick Massagem Pós Cirúrgica ...   \n",
            "1530  MLB4796391322  Aluguel Bar Bolha P/eventos R$ 350,00 + Frete ...   \n",
            "\n",
            "     currency  price  \n",
            "1489      NaN    NaN  \n",
            "1490      NaN    NaN  \n",
            "1491      NaN    NaN  \n",
            "1492      NaN    NaN  \n",
            "1493      NaN    NaN  \n",
            "1494      NaN    NaN  \n",
            "1495      NaN    NaN  \n",
            "1496      NaN    NaN  \n",
            "1497      NaN    NaN  \n",
            "1499      NaN    NaN  \n",
            "1500      NaN    NaN  \n",
            "1503      NaN    NaN  \n",
            "1508      NaN    NaN  \n",
            "1509      NaN    NaN  \n",
            "1510      NaN    NaN  \n",
            "1511      NaN    NaN  \n",
            "1513      NaN    NaN  \n",
            "1514      NaN    NaN  \n",
            "1515      NaN    NaN  \n",
            "1516      NaN    NaN  \n",
            "1517      NaN    NaN  \n",
            "1518      NaN    NaN  \n",
            "1519      NaN    NaN  \n",
            "1521      NaN    NaN  \n",
            "1522      NaN    NaN  \n",
            "1523      NaN    NaN  \n",
            "1524      NaN    NaN  \n",
            "1525      NaN    NaN  \n",
            "1526      NaN    NaN  \n",
            "1527      NaN    NaN  \n",
            "1528      NaN    NaN  \n",
            "1529      NaN    NaN  \n",
            "1530      NaN    NaN  \n"
          ]
        }
      ]
    },
    {
      "cell_type": "markdown",
      "source": [
        "\n",
        "Retirando de todas as tabelas a categoria de \"Serviços\""
      ],
      "metadata": {
        "id": "apM9vBVkP7dq"
      }
    },
    {
      "cell_type": "code",
      "source": [
        "df_products = df_products[df_products['category'] != 'Serviços']\n",
        "df_category = df_category[df_category['name'] != 'Serviços']\n",
        "\n",
        "products_null = df_products.isnull().sum() > 0\n",
        "print('Verificando nulos no dataframe Products:\\n')\n",
        "print(products_null)"
      ],
      "metadata": {
        "id": "lUYWhIwWyGAK",
        "colab": {
          "base_uri": "https://localhost:8080/"
        },
        "outputId": "291972bd-2f2a-4430-a413-dfd57b421d29"
      },
      "execution_count": 13,
      "outputs": [
        {
          "output_type": "stream",
          "name": "stdout",
          "text": [
            "Verificando nulos no dataframe Products:\n",
            "\n",
            "Unnamed: 0         False\n",
            "seller_id          False\n",
            "seller_nickname    False\n",
            "category_id        False\n",
            "category           False\n",
            "item_id            False\n",
            "item_name          False\n",
            "currency           False\n",
            "price              False\n",
            "dtype: bool\n"
          ]
        }
      ]
    },
    {
      "cell_type": "code",
      "source": [
        "df_products.to_csv('data_processed/products.csv',encoding='utf-8-sig')\n",
        "df_category.to_csv('data_processed/category.csv',encoding='utf-8-sig')"
      ],
      "metadata": {
        "id": "2cBJ_UoDQ0FV"
      },
      "execution_count": 34,
      "outputs": []
    },
    {
      "cell_type": "code",
      "source": [],
      "metadata": {
        "id": "EcUiBf03TWuR"
      },
      "execution_count": null,
      "outputs": []
    }
  ]
}