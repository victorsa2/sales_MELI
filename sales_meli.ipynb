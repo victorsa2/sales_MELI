{
  "nbformat": 4,
  "nbformat_minor": 0,
  "metadata": {
    "colab": {
      "provenance": [],
      "collapsed_sections": [
        "zUuX6K5kr41I",
        "TZvJyw69r_rO",
        "JJCtT2ggsHM4",
        "AsdQX_tqsR0F",
        "WP5grhlbrIDe",
        "pk4OGC2mjV6b",
        "11iWaJfntPPo",
        "RmDl6McxtuZb"
      ],
      "authorship_tag": "ABX9TyO1f/WuvdaptG2P7iMjKtaq",
      "include_colab_link": true
    },
    "kernelspec": {
      "name": "python3",
      "display_name": "Python 3"
    },
    "language_info": {
      "name": "python"
    }
  },
  "cells": [
    {
      "cell_type": "markdown",
      "metadata": {
        "id": "view-in-github",
        "colab_type": "text"
      },
      "source": [
        "<a href=\"https://colab.research.google.com/github/victorsa2/sales_meli/blob/main/sales_meli.ipynb\" target=\"_parent\"><img src=\"https://colab.research.google.com/assets/colab-badge.svg\" alt=\"Open In Colab\"/></a>"
      ]
    },
    {
      "cell_type": "markdown",
      "source": [
        "# Exercício 1"
      ],
      "metadata": {
        "id": "YbOuPliF5_Vx"
      }
    },
    {
      "cell_type": "markdown",
      "source": [
        "## Preparando o Ambiente no Github"
      ],
      "metadata": {
        "id": "zUuX6K5kr41I"
      }
    },
    {
      "cell_type": "code",
      "source": [
        "!git clone https://github.com/victorsa2/sales_meli.git"
      ],
      "metadata": {
        "id": "QWE6RToSjZeM",
        "colab": {
          "base_uri": "https://localhost:8080/"
        },
        "outputId": "ecde0b56-baf7-40b9-ad64-a7ce4e984ae9"
      },
      "execution_count": 2,
      "outputs": [
        {
          "output_type": "stream",
          "name": "stdout",
          "text": [
            "Cloning into 'sales_meli'...\n",
            "remote: Enumerating objects: 92, done.\u001b[K\n",
            "remote: Counting objects: 100% (92/92), done.\u001b[K\n",
            "remote: Compressing objects: 100% (87/87), done.\u001b[K\n",
            "remote: Total 92 (delta 40), reused 0 (delta 0), pack-reused 0 (from 0)\u001b[K\n",
            "Receiving objects: 100% (92/92), 482.41 KiB | 3.01 MiB/s, done.\n",
            "Resolving deltas: 100% (40/40), done.\n"
          ]
        }
      ]
    },
    {
      "cell_type": "markdown",
      "source": [
        "## Subindo o arquivo .env com as variáveis no drive"
      ],
      "metadata": {
        "id": "TZvJyw69r_rO"
      }
    },
    {
      "cell_type": "code",
      "source": [
        "from google.colab import drive\n",
        "drive.mount('/content/drive')"
      ],
      "metadata": {
        "colab": {
          "base_uri": "https://localhost:8080/"
        },
        "id": "OpDWnUGyogyM",
        "outputId": "23566ac6-9e31-4bd9-971e-99ac6d1105ee"
      },
      "execution_count": 3,
      "outputs": [
        {
          "output_type": "stream",
          "name": "stdout",
          "text": [
            "Mounted at /content/drive\n"
          ]
        }
      ]
    },
    {
      "cell_type": "code",
      "source": [
        "from google.colab import files\n",
        "uploaded = files.upload()"
      ],
      "metadata": {
        "colab": {
          "base_uri": "https://localhost:8080/",
          "height": 73
        },
        "id": "Je9yl0duokC6",
        "outputId": "f4c29fa2-88b3-44a7-c511-20e41b683766"
      },
      "execution_count": 4,
      "outputs": [
        {
          "output_type": "display_data",
          "data": {
            "text/plain": [
              "<IPython.core.display.HTML object>"
            ],
            "text/html": [
              "\n",
              "     <input type=\"file\" id=\"files-09075288-43d0-49e0-8003-8c31a0027919\" name=\"files[]\" multiple disabled\n",
              "        style=\"border:none\" />\n",
              "     <output id=\"result-09075288-43d0-49e0-8003-8c31a0027919\">\n",
              "      Upload widget is only available when the cell has been executed in the\n",
              "      current browser session. Please rerun this cell to enable.\n",
              "      </output>\n",
              "      <script>// Copyright 2017 Google LLC\n",
              "//\n",
              "// Licensed under the Apache License, Version 2.0 (the \"License\");\n",
              "// you may not use this file except in compliance with the License.\n",
              "// You may obtain a copy of the License at\n",
              "//\n",
              "//      http://www.apache.org/licenses/LICENSE-2.0\n",
              "//\n",
              "// Unless required by applicable law or agreed to in writing, software\n",
              "// distributed under the License is distributed on an \"AS IS\" BASIS,\n",
              "// WITHOUT WARRANTIES OR CONDITIONS OF ANY KIND, either express or implied.\n",
              "// See the License for the specific language governing permissions and\n",
              "// limitations under the License.\n",
              "\n",
              "/**\n",
              " * @fileoverview Helpers for google.colab Python module.\n",
              " */\n",
              "(function(scope) {\n",
              "function span(text, styleAttributes = {}) {\n",
              "  const element = document.createElement('span');\n",
              "  element.textContent = text;\n",
              "  for (const key of Object.keys(styleAttributes)) {\n",
              "    element.style[key] = styleAttributes[key];\n",
              "  }\n",
              "  return element;\n",
              "}\n",
              "\n",
              "// Max number of bytes which will be uploaded at a time.\n",
              "const MAX_PAYLOAD_SIZE = 100 * 1024;\n",
              "\n",
              "function _uploadFiles(inputId, outputId) {\n",
              "  const steps = uploadFilesStep(inputId, outputId);\n",
              "  const outputElement = document.getElementById(outputId);\n",
              "  // Cache steps on the outputElement to make it available for the next call\n",
              "  // to uploadFilesContinue from Python.\n",
              "  outputElement.steps = steps;\n",
              "\n",
              "  return _uploadFilesContinue(outputId);\n",
              "}\n",
              "\n",
              "// This is roughly an async generator (not supported in the browser yet),\n",
              "// where there are multiple asynchronous steps and the Python side is going\n",
              "// to poll for completion of each step.\n",
              "// This uses a Promise to block the python side on completion of each step,\n",
              "// then passes the result of the previous step as the input to the next step.\n",
              "function _uploadFilesContinue(outputId) {\n",
              "  const outputElement = document.getElementById(outputId);\n",
              "  const steps = outputElement.steps;\n",
              "\n",
              "  const next = steps.next(outputElement.lastPromiseValue);\n",
              "  return Promise.resolve(next.value.promise).then((value) => {\n",
              "    // Cache the last promise value to make it available to the next\n",
              "    // step of the generator.\n",
              "    outputElement.lastPromiseValue = value;\n",
              "    return next.value.response;\n",
              "  });\n",
              "}\n",
              "\n",
              "/**\n",
              " * Generator function which is called between each async step of the upload\n",
              " * process.\n",
              " * @param {string} inputId Element ID of the input file picker element.\n",
              " * @param {string} outputId Element ID of the output display.\n",
              " * @return {!Iterable<!Object>} Iterable of next steps.\n",
              " */\n",
              "function* uploadFilesStep(inputId, outputId) {\n",
              "  const inputElement = document.getElementById(inputId);\n",
              "  inputElement.disabled = false;\n",
              "\n",
              "  const outputElement = document.getElementById(outputId);\n",
              "  outputElement.innerHTML = '';\n",
              "\n",
              "  const pickedPromise = new Promise((resolve) => {\n",
              "    inputElement.addEventListener('change', (e) => {\n",
              "      resolve(e.target.files);\n",
              "    });\n",
              "  });\n",
              "\n",
              "  const cancel = document.createElement('button');\n",
              "  inputElement.parentElement.appendChild(cancel);\n",
              "  cancel.textContent = 'Cancel upload';\n",
              "  const cancelPromise = new Promise((resolve) => {\n",
              "    cancel.onclick = () => {\n",
              "      resolve(null);\n",
              "    };\n",
              "  });\n",
              "\n",
              "  // Wait for the user to pick the files.\n",
              "  const files = yield {\n",
              "    promise: Promise.race([pickedPromise, cancelPromise]),\n",
              "    response: {\n",
              "      action: 'starting',\n",
              "    }\n",
              "  };\n",
              "\n",
              "  cancel.remove();\n",
              "\n",
              "  // Disable the input element since further picks are not allowed.\n",
              "  inputElement.disabled = true;\n",
              "\n",
              "  if (!files) {\n",
              "    return {\n",
              "      response: {\n",
              "        action: 'complete',\n",
              "      }\n",
              "    };\n",
              "  }\n",
              "\n",
              "  for (const file of files) {\n",
              "    const li = document.createElement('li');\n",
              "    li.append(span(file.name, {fontWeight: 'bold'}));\n",
              "    li.append(span(\n",
              "        `(${file.type || 'n/a'}) - ${file.size} bytes, ` +\n",
              "        `last modified: ${\n",
              "            file.lastModifiedDate ? file.lastModifiedDate.toLocaleDateString() :\n",
              "                                    'n/a'} - `));\n",
              "    const percent = span('0% done');\n",
              "    li.appendChild(percent);\n",
              "\n",
              "    outputElement.appendChild(li);\n",
              "\n",
              "    const fileDataPromise = new Promise((resolve) => {\n",
              "      const reader = new FileReader();\n",
              "      reader.onload = (e) => {\n",
              "        resolve(e.target.result);\n",
              "      };\n",
              "      reader.readAsArrayBuffer(file);\n",
              "    });\n",
              "    // Wait for the data to be ready.\n",
              "    let fileData = yield {\n",
              "      promise: fileDataPromise,\n",
              "      response: {\n",
              "        action: 'continue',\n",
              "      }\n",
              "    };\n",
              "\n",
              "    // Use a chunked sending to avoid message size limits. See b/62115660.\n",
              "    let position = 0;\n",
              "    do {\n",
              "      const length = Math.min(fileData.byteLength - position, MAX_PAYLOAD_SIZE);\n",
              "      const chunk = new Uint8Array(fileData, position, length);\n",
              "      position += length;\n",
              "\n",
              "      const base64 = btoa(String.fromCharCode.apply(null, chunk));\n",
              "      yield {\n",
              "        response: {\n",
              "          action: 'append',\n",
              "          file: file.name,\n",
              "          data: base64,\n",
              "        },\n",
              "      };\n",
              "\n",
              "      let percentDone = fileData.byteLength === 0 ?\n",
              "          100 :\n",
              "          Math.round((position / fileData.byteLength) * 100);\n",
              "      percent.textContent = `${percentDone}% done`;\n",
              "\n",
              "    } while (position < fileData.byteLength);\n",
              "  }\n",
              "\n",
              "  // All done.\n",
              "  yield {\n",
              "    response: {\n",
              "      action: 'complete',\n",
              "    }\n",
              "  };\n",
              "}\n",
              "\n",
              "scope.google = scope.google || {};\n",
              "scope.google.colab = scope.google.colab || {};\n",
              "scope.google.colab._files = {\n",
              "  _uploadFiles,\n",
              "  _uploadFilesContinue,\n",
              "};\n",
              "})(self);\n",
              "</script> "
            ]
          },
          "metadata": {}
        },
        {
          "output_type": "stream",
          "name": "stdout",
          "text": [
            "Saving .env to .env\n"
          ]
        }
      ]
    },
    {
      "cell_type": "markdown",
      "source": [
        "##Instalando Dependencias não disponíveis no colab"
      ],
      "metadata": {
        "id": "JJCtT2ggsHM4"
      }
    },
    {
      "cell_type": "code",
      "source": [
        "pip install python-dotenv"
      ],
      "metadata": {
        "colab": {
          "base_uri": "https://localhost:8080/"
        },
        "id": "B8G8hE_SpV0m",
        "outputId": "5514fa30-4211-4089-b7be-adf4daff300d"
      },
      "execution_count": 5,
      "outputs": [
        {
          "output_type": "stream",
          "name": "stdout",
          "text": [
            "Collecting python-dotenv\n",
            "  Downloading python_dotenv-1.0.1-py3-none-any.whl.metadata (23 kB)\n",
            "Downloading python_dotenv-1.0.1-py3-none-any.whl (19 kB)\n",
            "Installing collected packages: python-dotenv\n",
            "Successfully installed python-dotenv-1.0.1\n"
          ]
        }
      ]
    },
    {
      "cell_type": "code",
      "source": [
        "import requests\n",
        "import webbrowser\n",
        "from dotenv import load_dotenv\n",
        "import os"
      ],
      "metadata": {
        "id": "OsnE34PgtHye"
      },
      "execution_count": 6,
      "outputs": []
    },
    {
      "cell_type": "markdown",
      "source": [
        "##Consultando API do Mercado Livre"
      ],
      "metadata": {
        "id": "AsdQX_tqsR0F"
      }
    },
    {
      "cell_type": "markdown",
      "source": [
        "##Obter Access Token e User ID"
      ],
      "metadata": {
        "id": "WP5grhlbrIDe"
      }
    },
    {
      "cell_type": "code",
      "source": [
        "load_dotenv('/content/.env')\n",
        "\n",
        "APP_ID = os.getenv(\"APP_ID\")\n",
        "APP_SECRET = os.getenv(\"APP_SECRET\")\n",
        "REDIRECT_URI = os.getenv(\"REDIRECT_URI\")\n",
        "\n",
        "def get_access_token_and_user_id():\n",
        "\n",
        "    auth_url = f'https://auth.mercadolivre.com.br/authorization?response_type=code&client_id={APP_ID}&redirect_uri={REDIRECT_URI}'\n",
        "    return auth_url\n",
        "\n",
        "def request_token(authorization_code):\n",
        "    token_url = 'https://api.mercadolibre.com/oauth/token'\n",
        "    payload = {\n",
        "        'grant_type': 'authorization_code',\n",
        "        'client_id': os.getenv(\"APP_ID\"),\n",
        "        'client_secret': os.getenv(\"APP_SECRET\"),\n",
        "        'code': authorization_code,\n",
        "        'redirect_uri': os.getenv(\"REDIRECT_URI\")\n",
        "    }\n",
        "\n",
        "    response = requests.post(token_url, data=payload)\n",
        "    token_data = response.json()\n",
        "\n",
        "    access_token = token_data['access_token']\n",
        "    user_id = token_data['user_id']\n",
        "\n",
        "    return access_token, user_id\n",
        "\n",
        "if __name__ == \"__main__\":\n",
        "    auth_url = get_access_token_and_user_id()\n",
        "    print(\"Abra o seguinte URL no seu navegador para obter o código de autorização:\")\n",
        "    print(auth_url)\n",
        "\n",
        "    authorization_code = input(\"Insira o código de autorização: \")\n",
        "    access_token, user_id = request_token(authorization_code)\n"
      ],
      "metadata": {
        "colab": {
          "base_uri": "https://localhost:8080/"
        },
        "id": "CXXK36aEpXxZ",
        "outputId": "cbcf449c-5d80-4a53-86c1-77ccdfbefcea"
      },
      "execution_count": 7,
      "outputs": [
        {
          "name": "stdout",
          "output_type": "stream",
          "text": [
            "Abra o seguinte URL no seu navegador para obter o código de autorização:\n",
            "https://auth.mercadolivre.com.br/authorization?response_type=code&client_id=5500572046072825&redirect_uri=https://victorsa.netlify.app\n",
            "Insira o código de autorização: TG-66fd3b81236f3100017302f4-478295390\n"
          ]
        }
      ]
    },
    {
      "cell_type": "markdown",
      "source": [
        "##Obter dimensão de Categorias"
      ],
      "metadata": {
        "id": "pk4OGC2mjV6b"
      }
    },
    {
      "cell_type": "code",
      "source": [
        "import requests\n",
        "import pandas as pd\n",
        "\n",
        "def fetch_categories():\n",
        "    url = \"https://api.mercadolibre.com/sites/MLB/categories\"\n",
        "    response = requests.get(url)\n",
        "\n",
        "    if response.status_code == 200:\n",
        "        return response.json()\n",
        "    else:\n",
        "        print(f\"Erro ao obter categorias: {response.status_code}\")\n",
        "        return []\n",
        "\n",
        "categories_data = fetch_categories()\n",
        "categories_list = []\n",
        "\n",
        "for category in categories_data:\n",
        "    categories_list.append({\n",
        "        'id_category': category['id'],\n",
        "        'name': category['name'],\n",
        "    })\n",
        "\n",
        "dim_Category = pd.DataFrame(categories_list)\n",
        "dim_Category.to_csv('category.csv',encoding='utf-8-sig')\n",
        "\n",
        "print(\"Dimensão Categorias:\")\n",
        "print(dim_Category.head())"
      ],
      "metadata": {
        "id": "DEBGe4bhjVHA",
        "colab": {
          "base_uri": "https://localhost:8080/"
        },
        "outputId": "6c87a9e6-873f-4e7c-d0c9-599e8c07ad6d"
      },
      "execution_count": 8,
      "outputs": [
        {
          "output_type": "stream",
          "name": "stdout",
          "text": [
            "Dimensão Categorias:\n",
            "  id_category                      name\n",
            "0     MLB5672  Acessórios para Veículos\n",
            "1   MLB271599                      Agro\n",
            "2     MLB1403       Alimentos e Bebidas\n",
            "3     MLB1071                   Animais\n",
            "4     MLB1367   Antiguidades e Coleções\n"
          ]
        }
      ]
    },
    {
      "cell_type": "markdown",
      "source": [
        "## Consumindo API por produtos para conseguir alguns vendedores de exemplo, pesquisando por todas as categorias do Mercado Livre.\n"
      ],
      "metadata": {
        "id": "11iWaJfntPPo"
      }
    },
    {
      "cell_type": "code",
      "source": [
        "def fetch_categories():\n",
        "    url = \"https://api.mercadolibre.com/sites/MLB/categories\"\n",
        "    try:\n",
        "        response = requests.get(url)\n",
        "        response.raise_for_status()\n",
        "        return response.json()\n",
        "    except requests.exceptions.RequestException as e:\n",
        "        print(f\"Erro ao obter categorias: {e}\")\n",
        "        return []\n",
        "\n",
        "def fetch_sales_in_category(category_id, access_token, site_id):\n",
        "    url = f'https://api.mercadolibre.com/sites/{site_id}/search?category={category_id}'\n",
        "    headers = {'Authorization': f'Bearer {access_token}'}\n",
        "\n",
        "    try:\n",
        "        response = requests.get(url, headers=headers)\n",
        "        response.raise_for_status()\n",
        "        return response.json()['results']\n",
        "    except requests.exceptions.RequestException as e:\n",
        "        print(f\"Erro ao obter vendas na categoria {category_id}: {e}\")\n",
        "        return []\n",
        "\n",
        "ACCESS_TOKEN = access_token\n",
        "SITE_ID = 'MLB'\n",
        "\n",
        "sales_list = []\n",
        "categories_data = fetch_categories()\n",
        "\n",
        "for category in categories_data:\n",
        "    category_id = category['id']\n",
        "    print(f\"\\nBuscando vendas na categoria: {category['name']} (ID: {category_id})\")\n",
        "\n",
        "    sales_data = fetch_sales_in_category(category_id, ACCESS_TOKEN, SITE_ID)\n",
        "\n",
        "    if sales_data:\n",
        "        for item in sales_data:\n",
        "            if 'seller' in item and 'nickname' in item['seller']:\n",
        "                sales_list.append({\n",
        "                    'seller_id': item['seller']['id'],\n",
        "                    'seller_nickname': item['seller']['nickname'],\n",
        "                    'category_id': category['id'],\n",
        "                    'category': category['name'],\n",
        "                    'item_id': item['id'],\n",
        "                    'item_name': item['title'],\n",
        "                    'currency': item['currency_id'],\n",
        "                    'price': item['price']\n",
        "                })\n",
        "    else:\n",
        "        print(\"Nenhum resultado encontrado para esta categoria.\")\n",
        "\n",
        "df_sales = pd.DataFrame(sales_list)\n",
        "df_sales.to_csv('products.csv',encoding='utf-8-sig')\n",
        "\n",
        "print(df_sales)"
      ],
      "metadata": {
        "id": "BG9onCLRoLHA",
        "colab": {
          "base_uri": "https://localhost:8080/"
        },
        "outputId": "27ef9db2-245d-4e0b-fee1-2af2a2bca531"
      },
      "execution_count": 9,
      "outputs": [
        {
          "output_type": "stream",
          "name": "stdout",
          "text": [
            "\n",
            "Buscando vendas na categoria: Acessórios para Veículos (ID: MLB5672)\n",
            "\n",
            "Buscando vendas na categoria: Agro (ID: MLB271599)\n",
            "\n",
            "Buscando vendas na categoria: Alimentos e Bebidas (ID: MLB1403)\n",
            "\n",
            "Buscando vendas na categoria: Animais (ID: MLB1071)\n",
            "\n",
            "Buscando vendas na categoria: Antiguidades e Coleções (ID: MLB1367)\n",
            "\n",
            "Buscando vendas na categoria: Arte, Papelaria e Armarinho (ID: MLB1368)\n",
            "\n",
            "Buscando vendas na categoria: Bebês (ID: MLB1384)\n",
            "\n",
            "Buscando vendas na categoria: Beleza e Cuidado Pessoal (ID: MLB1246)\n",
            "\n",
            "Buscando vendas na categoria: Brinquedos e Hobbies (ID: MLB1132)\n",
            "\n",
            "Buscando vendas na categoria: Calçados, Roupas e Bolsas (ID: MLB1430)\n",
            "\n",
            "Buscando vendas na categoria: Câmeras e Acessórios (ID: MLB1039)\n",
            "\n",
            "Buscando vendas na categoria: Carros, Motos e Outros (ID: MLB1743)\n",
            "\n",
            "Buscando vendas na categoria: Casa, Móveis e Decoração (ID: MLB1574)\n",
            "Erro ao obter vendas na categoria MLB1574: 534 Server Error: Unknown for url: https://api.mercadolibre.com/sites/MLB/search?category=MLB1574\n",
            "Nenhum resultado encontrado para esta categoria.\n",
            "\n",
            "Buscando vendas na categoria: Celulares e Telefones (ID: MLB1051)\n",
            "\n",
            "Buscando vendas na categoria: Construção (ID: MLB1500)\n",
            "\n",
            "Buscando vendas na categoria: Eletrodomésticos (ID: MLB5726)\n",
            "\n",
            "Buscando vendas na categoria: Eletrônicos, Áudio e Vídeo (ID: MLB1000)\n",
            "\n",
            "Buscando vendas na categoria: Esportes e Fitness (ID: MLB1276)\n",
            "\n",
            "Buscando vendas na categoria: Ferramentas (ID: MLB263532)\n",
            "\n",
            "Buscando vendas na categoria: Festas e Lembrancinhas (ID: MLB12404)\n",
            "\n",
            "Buscando vendas na categoria: Games (ID: MLB1144)\n",
            "\n",
            "Buscando vendas na categoria: Imóveis (ID: MLB1459)\n",
            "\n",
            "Buscando vendas na categoria: Indústria e Comércio (ID: MLB1499)\n",
            "\n",
            "Buscando vendas na categoria: Informática (ID: MLB1648)\n",
            "\n",
            "Buscando vendas na categoria: Ingressos (ID: MLB218519)\n",
            "\n",
            "Buscando vendas na categoria: Instrumentos Musicais (ID: MLB1182)\n",
            "\n",
            "Buscando vendas na categoria: Joias e Relógios (ID: MLB3937)\n",
            "\n",
            "Buscando vendas na categoria: Livros, Revistas e Comics (ID: MLB1196)\n",
            "\n",
            "Buscando vendas na categoria: Música, Filmes e Seriados (ID: MLB1168)\n",
            "\n",
            "Buscando vendas na categoria: Saúde (ID: MLB264586)\n",
            "\n",
            "Buscando vendas na categoria: Serviços (ID: MLB1540)\n",
            "\n",
            "Buscando vendas na categoria: Mais Categorias (ID: MLB1953)\n",
            "       seller_id     seller_nickname category_id                  category  \\\n",
            "0      224160443      MAF UTILIDADES     MLB5672  Acessórios para Veículos   \n",
            "1      444816473             AUTO TR     MLB5672  Acessórios para Veículos   \n",
            "2     1165626720               WEMG_     MLB5672  Acessórios para Veículos   \n",
            "3     1046822462            WINGMOTO     MLB5672  Acessórios para Veículos   \n",
            "4     1257560156      IMPORTSCESTARO     MLB5672  Acessórios para Veículos   \n",
            "...          ...                 ...         ...                       ...   \n",
            "1531   194177382   COOPER UTILIDADES     MLB1953           Mais Categorias   \n",
            "1532  1638710693    SALLESTECNOLOGIA     MLB1953           Mais Categorias   \n",
            "1533   269850546           SEUPETWEB     MLB1953           Mais Categorias   \n",
            "1534   527962020   FARMINKTATTOOSHOP     MLB1953           Mais Categorias   \n",
            "1535   170347674  MNUNESDISTRIBUICAO     MLB1953           Mais Categorias   \n",
            "\n",
            "            item_id                                          item_name  \\\n",
            "0     MLB4296308798  Kit 10 Panos Microfibra Flanela 35*50cm Power ...   \n",
            "1     MLB3698110641  Mangueira Filtro Ar Tbi Honda Civic 2012 2013 ...   \n",
            "2     MLB3494040092  Modulo Taramps Ts400x4 400w 2 Ohms Rca Ts 400x...   \n",
            "3     MLB3559853837  Casal Pneu 110/70-17 / 140/70-17 Maggion Sport...   \n",
            "4     MLB3533136913  Módulo Injeção Programável M250 P/ Motos Honda...   \n",
            "...             ...                                                ...   \n",
            "1531  MLB2924403274    Kit 3 Pack De Seda King Blunt Mix Novos Sabores   \n",
            "1532  MLB3789466915  1 Kg De Vela Palito Brancas Com 18cm 32 Velas ...   \n",
            "1533  MLB3614923243  Tropicalderm Tattoo Sealing Spray - 120ml Tatu...   \n",
            "1534  MLB3496741049  Tattoo Transfer Spray 120ml Amazon Decalque Pa...   \n",
            "1535  MLB4047277618  Dichavador Triturador Bem Bolado Polipropileno...   \n",
            "\n",
            "     currency    price  \n",
            "0         BRL    41.00  \n",
            "1         BRL    82.50  \n",
            "2         BRL   184.23  \n",
            "3         BRL   487.00  \n",
            "4         BRL  1350.00  \n",
            "...       ...      ...  \n",
            "1531      BRL    24.70  \n",
            "1532      BRL    31.80  \n",
            "1533      BRL    56.83  \n",
            "1534      BRL    20.80  \n",
            "1535      BRL    21.82  \n",
            "\n",
            "[1536 rows x 8 columns]\n"
          ]
        }
      ]
    },
    {
      "cell_type": "markdown",
      "source": [
        "## Exploração e Tratamento"
      ],
      "metadata": {
        "id": "RmDl6McxtuZb"
      }
    },
    {
      "cell_type": "markdown",
      "source": [
        "Adicionando o arquivo gerado pelo GPT no ambiente do colab"
      ],
      "metadata": {
        "id": "eWFgzTFKUd2D"
      }
    },
    {
      "cell_type": "code",
      "source": [
        "import pandas as pd\n",
        "\n",
        "path_category = '/content/category.csv'\n",
        "path_products = '/content/products.csv'\n",
        "\n",
        "df_category = pd.read_csv(path_category, sep=',')\n",
        "df_products = pd.read_csv(path_products, sep=',')\n",
        "\n",
        "print('Informações dataframe Category:\\n')\n",
        "shape_category = df_category.info()\n",
        "\n",
        "print('\\nInformações dataframe Products:\\n')\n",
        "shape_products = df_products.info()"
      ],
      "metadata": {
        "id": "notkPpLrty9s",
        "colab": {
          "base_uri": "https://localhost:8080/"
        },
        "outputId": "246da619-5444-41fd-a05c-ee621f368a89"
      },
      "execution_count": 98,
      "outputs": [
        {
          "output_type": "stream",
          "name": "stdout",
          "text": [
            "Informações dataframe Category:\n",
            "\n",
            "<class 'pandas.core.frame.DataFrame'>\n",
            "RangeIndex: 32 entries, 0 to 31\n",
            "Data columns (total 3 columns):\n",
            " #   Column       Non-Null Count  Dtype \n",
            "---  ------       --------------  ----- \n",
            " 0   Unnamed: 0   32 non-null     int64 \n",
            " 1   id_category  32 non-null     object\n",
            " 2   name         32 non-null     object\n",
            "dtypes: int64(1), object(2)\n",
            "memory usage: 896.0+ bytes\n",
            "\n",
            "Informações dataframe Products:\n",
            "\n",
            "<class 'pandas.core.frame.DataFrame'>\n",
            "RangeIndex: 1431 entries, 0 to 1430\n",
            "Data columns (total 9 columns):\n",
            " #   Column           Non-Null Count  Dtype  \n",
            "---  ------           --------------  -----  \n",
            " 0   Unnamed: 0       1431 non-null   int64  \n",
            " 1   seller_id        1431 non-null   int64  \n",
            " 2   seller_nickname  1431 non-null   object \n",
            " 3   category_id      1431 non-null   object \n",
            " 4   category         1431 non-null   object \n",
            " 5   item_id          1431 non-null   object \n",
            " 6   item_name        1431 non-null   object \n",
            " 7   currency         1431 non-null   object \n",
            " 8   price            1431 non-null   float64\n",
            "dtypes: float64(1), int64(2), object(6)\n",
            "memory usage: 100.7+ KB\n"
          ]
        }
      ]
    },
    {
      "cell_type": "code",
      "source": [
        "category_null = df_category.isnull().sum() > 0\n",
        "print('Verificando nulos no dataframe Category:\\n')\n",
        "print(category_null)\n",
        "\n",
        "products_null = df_products.isnull().sum() > 0\n",
        "print('Verificando nulos no dataframe Products:\\n')\n",
        "print(products_null)"
      ],
      "metadata": {
        "id": "RvUU1UijzNl_",
        "colab": {
          "base_uri": "https://localhost:8080/"
        },
        "outputId": "ea915256-79c7-4058-84c8-026bb2f65a7c"
      },
      "execution_count": 99,
      "outputs": [
        {
          "output_type": "stream",
          "name": "stdout",
          "text": [
            "Verificando nulos no dataframe Category:\n",
            "\n",
            "Unnamed: 0     False\n",
            "id_category    False\n",
            "name           False\n",
            "dtype: bool\n",
            "Verificando nulos no dataframe Products:\n",
            "\n",
            "Unnamed: 0         False\n",
            "seller_id          False\n",
            "seller_nickname    False\n",
            "category_id        False\n",
            "category           False\n",
            "item_id            False\n",
            "item_name          False\n",
            "currency           False\n",
            "price              False\n",
            "dtype: bool\n"
          ]
        }
      ]
    },
    {
      "cell_type": "code",
      "source": [
        "df_price_null = df_products[df_products['price'].isnull()]\n",
        "print('Linhas com valores nulos na coluna price:\\n')\n",
        "print(df_price_null)"
      ],
      "metadata": {
        "id": "CL-EjRDMVeMG",
        "colab": {
          "base_uri": "https://localhost:8080/"
        },
        "outputId": "53ed36a8-fd45-4c52-c66e-4ece91f9e203"
      },
      "execution_count": 100,
      "outputs": [
        {
          "output_type": "stream",
          "name": "stdout",
          "text": [
            "Linhas com valores nulos na coluna price:\n",
            "\n",
            "Empty DataFrame\n",
            "Columns: [Unnamed: 0, seller_id, seller_nickname, category_id, category, item_id, item_name, currency, price]\n",
            "Index: []\n"
          ]
        }
      ]
    },
    {
      "cell_type": "markdown",
      "source": [
        "\n",
        "Retirando de todas as tabelas a categoria de \"Serviços\""
      ],
      "metadata": {
        "id": "apM9vBVkP7dq"
      }
    },
    {
      "cell_type": "code",
      "source": [
        "df_products = df_products[df_products['category'] != 'Serviços']\n",
        "df_category = df_category[df_category['name'] != 'Serviços']\n",
        "\n",
        "products_null = df_products.isnull().sum() > 0\n",
        "print('Verificando nulos no dataframe Products:\\n')\n",
        "print(products_null)"
      ],
      "metadata": {
        "id": "lUYWhIwWyGAK",
        "colab": {
          "base_uri": "https://localhost:8080/"
        },
        "outputId": "6daab103-68bc-4819-cc6a-1d202c8562c9"
      },
      "execution_count": 101,
      "outputs": [
        {
          "output_type": "stream",
          "name": "stdout",
          "text": [
            "Verificando nulos no dataframe Products:\n",
            "\n",
            "Unnamed: 0         False\n",
            "seller_id          False\n",
            "seller_nickname    False\n",
            "category_id        False\n",
            "category           False\n",
            "item_id            False\n",
            "item_name          False\n",
            "currency           False\n",
            "price              False\n",
            "dtype: bool\n"
          ]
        }
      ]
    },
    {
      "cell_type": "code",
      "source": [
        "df_category = df_category.drop(['Unnamed: 0'], axis=1)\n",
        "df_products = df_products.drop(['Unnamed: 0'], axis=1)\n",
        "\n",
        "print(df_category)\n",
        "print(df_products)"
      ],
      "metadata": {
        "id": "AZbhy5d8X1Yr",
        "colab": {
          "base_uri": "https://localhost:8080/"
        },
        "outputId": "c8215794-8080-42f7-c1da-880b295055cd"
      },
      "execution_count": 102,
      "outputs": [
        {
          "output_type": "stream",
          "name": "stdout",
          "text": [
            "   id_category                         name\n",
            "0      MLB5672     Acessórios para Veículos\n",
            "1    MLB271599                         Agro\n",
            "2      MLB1403          Alimentos e Bebidas\n",
            "3      MLB1071                      Animais\n",
            "4      MLB1367      Antiguidades e Coleções\n",
            "5      MLB1368  Arte, Papelaria e Armarinho\n",
            "6      MLB1384                        Bebês\n",
            "7      MLB1246     Beleza e Cuidado Pessoal\n",
            "8      MLB1132         Brinquedos e Hobbies\n",
            "9      MLB1430    Calçados, Roupas e Bolsas\n",
            "10     MLB1039         Câmeras e Acessórios\n",
            "11     MLB1743       Carros, Motos e Outros\n",
            "12     MLB1574     Casa, Móveis e Decoração\n",
            "13     MLB1051        Celulares e Telefones\n",
            "14     MLB1500                   Construção\n",
            "15     MLB5726             Eletrodomésticos\n",
            "16     MLB1000   Eletrônicos, Áudio e Vídeo\n",
            "17     MLB1276           Esportes e Fitness\n",
            "18   MLB263532                  Ferramentas\n",
            "19    MLB12404       Festas e Lembrancinhas\n",
            "20     MLB1144                        Games\n",
            "21     MLB1459                      Imóveis\n",
            "22     MLB1499         Indústria e Comércio\n",
            "23     MLB1648                  Informática\n",
            "24   MLB218519                    Ingressos\n",
            "25     MLB1182        Instrumentos Musicais\n",
            "26     MLB3937             Joias e Relógios\n",
            "27     MLB1196    Livros, Revistas e Comics\n",
            "28     MLB1168    Música, Filmes e Seriados\n",
            "29   MLB264586                        Saúde\n",
            "31     MLB1953              Mais Categorias\n",
            "       seller_id     seller_nickname category_id                    category  \\\n",
            "0      224160443      MAF UTILIDADES     MLB5672  AcessÃ³rios para VeÃ­culos   \n",
            "1      444816473             AUTO TR     MLB5672  AcessÃ³rios para VeÃ­culos   \n",
            "2     1165626720               WEMG_     MLB5672  AcessÃ³rios para VeÃ­culos   \n",
            "3     1046822462            WINGMOTO     MLB5672  AcessÃ³rios para VeÃ­culos   \n",
            "4     1257560156      IMPORTSCESTARO     MLB5672  AcessÃ³rios para VeÃ­culos   \n",
            "...          ...                 ...         ...                         ...   \n",
            "1426   194177382   COOPER UTILIDADES     MLB1953             Mais Categorias   \n",
            "1427  1638710693    SALLESTECNOLOGIA     MLB1953             Mais Categorias   \n",
            "1428   269850546           SEUPETWEB     MLB1953             Mais Categorias   \n",
            "1429   527962020   FARMINKTATTOOSHOP     MLB1953             Mais Categorias   \n",
            "1430   170347674  MNUNESDISTRIBUICAO     MLB1953             Mais Categorias   \n",
            "\n",
            "            item_id                                          item_name  \\\n",
            "0     MLB4296308798  Kit 10 Panos Microfibra Flanela 35*50cm Power ...   \n",
            "1     MLB3698110641  Mangueira Filtro Ar Tbi Honda Civic 2012 2013 ...   \n",
            "2     MLB3494040092  Modulo Taramps Ts400x4 400w 2 Ohms Rca Ts 400x...   \n",
            "3     MLB3559853837  Casal Pneu 110/70-17 / 140/70-17 Maggion Sport...   \n",
            "4     MLB3533136913  MÃ³dulo InjeÃ§Ã£o ProgramÃ¡vel M250 P/ Motos H...   \n",
            "...             ...                                                ...   \n",
            "1426  MLB2924403274    Kit 3 Pack De Seda King Blunt Mix Novos Sabores   \n",
            "1427  MLB3789466915  1 Kg De Vela Palito Brancas Com 18cm 32 Velas ...   \n",
            "1428  MLB3614923243  Tropicalderm Tattoo Sealing Spray - 120ml Tatu...   \n",
            "1429  MLB3496741049  Tattoo Transfer Spray 120ml Amazon Decalque Pa...   \n",
            "1430  MLB4047277618  Dichavador Triturador Bem Bolado Polipropileno...   \n",
            "\n",
            "     currency    price  \n",
            "0         BRL    41.00  \n",
            "1         BRL    82.50  \n",
            "2         BRL   184.23  \n",
            "3         BRL   487.00  \n",
            "4         BRL  1350.00  \n",
            "...       ...      ...  \n",
            "1426      BRL    24.70  \n",
            "1427      BRL    31.80  \n",
            "1428      BRL    56.83  \n",
            "1429      BRL    20.80  \n",
            "1430      BRL    21.82  \n",
            "\n",
            "[1431 rows x 8 columns]\n"
          ]
        }
      ]
    },
    {
      "cell_type": "code",
      "source": [
        "df_products.to_csv('data_processed/products.csv',encoding='utf-8-sig')\n",
        "df_category.to_csv('data_processed/category.csv',encoding='utf-8-sig')"
      ],
      "metadata": {
        "id": "2cBJ_UoDQ0FV"
      },
      "execution_count": 103,
      "outputs": []
    },
    {
      "cell_type": "markdown",
      "source": [
        "##Criação do Banco de Dados SQLite"
      ],
      "metadata": {
        "id": "euz6TdfzYz6U"
      }
    },
    {
      "cell_type": "code",
      "source": [
        "import sqlite3\n",
        "import pandas as pd\n",
        "\n",
        "conn_data = sqlite3.connect('db1.db')\n",
        "cursor_data = conn_data.cursor()"
      ],
      "metadata": {
        "id": "o3dbKYlOt_X_"
      },
      "execution_count": 104,
      "outputs": []
    },
    {
      "cell_type": "code",
      "source": [
        "# Criação da tabela Categoria\n",
        "\n",
        "from prettytable import PrettyTable\n",
        "\n",
        "table = PrettyTable([\"id_category\", \"name\"])\n",
        "\n",
        "cursor_data.execute('''\n",
        "    CREATE TABLE IF NOT EXISTS raw_category (\n",
        "        id_category TEXT PRIMARY KEY,\n",
        "        name TEXT NOT NULL\n",
        "    )\n",
        "''')\n",
        "\n",
        "df_category.to_sql('raw_category', conn_data, if_exists='replace', index=False)\n",
        "\n",
        "cursor_data.execute('SELECT * FROM raw_category')\n",
        "rows = cursor_data.fetchall()\n",
        "\n",
        "for row in rows:\n",
        "    table.add_row(row)\n",
        "\n",
        "print(table)\n"
      ],
      "metadata": {
        "id": "2OIewoZBuCeJ",
        "colab": {
          "base_uri": "https://localhost:8080/"
        },
        "outputId": "39166b2d-7948-4060-fc0f-896212713fc7"
      },
      "execution_count": 105,
      "outputs": [
        {
          "output_type": "stream",
          "name": "stdout",
          "text": [
            "+-------------+-----------------------------+\n",
            "| id_category |             name            |\n",
            "+-------------+-----------------------------+\n",
            "|   MLB5672   |   Acessórios para Veículos  |\n",
            "|  MLB271599  |             Agro            |\n",
            "|   MLB1403   |     Alimentos e Bebidas     |\n",
            "|   MLB1071   |           Animais           |\n",
            "|   MLB1367   |   Antiguidades e Coleções   |\n",
            "|   MLB1368   | Arte, Papelaria e Armarinho |\n",
            "|   MLB1384   |            Bebês            |\n",
            "|   MLB1246   |   Beleza e Cuidado Pessoal  |\n",
            "|   MLB1132   |     Brinquedos e Hobbies    |\n",
            "|   MLB1430   |  Calçados, Roupas e Bolsas  |\n",
            "|   MLB1039   |     Câmeras e Acessórios    |\n",
            "|   MLB1743   |    Carros, Motos e Outros   |\n",
            "|   MLB1574   |   Casa, Móveis e Decoração  |\n",
            "|   MLB1051   |    Celulares e Telefones    |\n",
            "|   MLB1500   |          Construção         |\n",
            "|   MLB5726   |       Eletrodomésticos      |\n",
            "|   MLB1000   |  Eletrônicos, Áudio e Vídeo |\n",
            "|   MLB1276   |      Esportes e Fitness     |\n",
            "|  MLB263532  |         Ferramentas         |\n",
            "|   MLB12404  |    Festas e Lembrancinhas   |\n",
            "|   MLB1144   |            Games            |\n",
            "|   MLB1459   |           Imóveis           |\n",
            "|   MLB1499   |     Indústria e Comércio    |\n",
            "|   MLB1648   |         Informática         |\n",
            "|  MLB218519  |          Ingressos          |\n",
            "|   MLB1182   |    Instrumentos Musicais    |\n",
            "|   MLB3937   |       Joias e Relógios      |\n",
            "|   MLB1196   |  Livros, Revistas e Comics  |\n",
            "|   MLB1168   |  Música, Filmes e Seriados  |\n",
            "|  MLB264586  |            Saúde            |\n",
            "|   MLB1953   |       Mais Categorias       |\n",
            "+-------------+-----------------------------+\n"
          ]
        }
      ]
    },
    {
      "cell_type": "code",
      "source": [
        "#Criando Tabela Produtos\n",
        "\n",
        "table = PrettyTable([\"seller_id\", \"seller_nickname\", \"category_id\", \"category\", \"item_id\", \"item_name\", \"currency\", \"price\"])\n",
        "\n",
        "cursor_data.execute('''\n",
        "  CREATE TABLE IF NOT EXISTS raw_product (\n",
        "      seller_id INTEGER PRIMARY KEY,\n",
        "      seller_nickname TEXT NOT NULL,\n",
        "      category_id TEXT NOT NULL,\n",
        "      category TEXT NOT NULL,\n",
        "      item_id TEXT NOT NULL,\n",
        "      item_name TEXT NOT NULL,\n",
        "      currency TEXT NOT NULL,\n",
        "      price REAL NOT NULL\n",
        "    )\n",
        "''')\n",
        "\n",
        "df_products.to_sql('raw_product', conn_data, if_exists='replace', index=False)\n",
        "\n",
        "cursor_data.execute('SELECT * FROM raw_product \\\n",
        "                    LIMIT 5')\n",
        "rows = cursor_data.fetchall()\n",
        "\n",
        "for row in rows:\n",
        "    table.add_row(row)\n",
        "\n",
        "print(table)"
      ],
      "metadata": {
        "id": "6kYMicpmXeUD",
        "colab": {
          "base_uri": "https://localhost:8080/"
        },
        "outputId": "fe7df7b6-753e-4884-9e7b-1158292b91c6"
      },
      "execution_count": 111,
      "outputs": [
        {
          "output_type": "stream",
          "name": "stdout",
          "text": [
            "+------------+-----------------+-------------+---------------------------+---------------+-------------------------------------------------------------------------------------------------------------------------------------------------------------+----------+--------+\n",
            "| seller_id  | seller_nickname | category_id |          category         |    item_id    |                                                                          item_name                                                                          | currency | price  |\n",
            "+------------+-----------------+-------------+---------------------------+---------------+-------------------------------------------------------------------------------------------------------------------------------------------------------------+----------+--------+\n",
            "| 224160443  |  MAF UTILIDADES |   MLB5672   | AcessÃ³rios para VeÃ­culos | MLB4296308798 |                                               Kit 10 Panos Microfibra Flanela 35*50cm Power Clean Cor Sortido                                               |   BRL    |  41.0  |\n",
            "| 444816473  |     AUTO TR     |   MLB5672   | AcessÃ³rios para VeÃ­culos | MLB3698110641 |                                                 Mangueira Filtro Ar Tbi Honda Civic 2012 2013 2014 2015 1.8                                                 |   BRL    |  82.5  |\n",
            "| 1165626720 |      WEMG_      |   MLB5672   | AcessÃ³rios para VeÃ­culos | MLB3494040092 | Modulo Taramps Ts400x4 400w 2 Ohms Rca Ts 400x4 4 Canais 100w Amplificador 400rms T400 4 Canais Potencia Taramps Som Para Carro Moto Caminhonete Automotivo |   BRL    | 184.23 |\n",
            "| 1046822462 |     WINGMOTO    |   MLB5672   | AcessÃ³rios para VeÃ­culos | MLB3559853837 |                                           Casal Pneu 110/70-17 / 140/70-17 Maggion Sportissimo Cb300 Cb250twister                                           |   BRL    | 487.0  |\n",
            "| 1257560156 |  IMPORTSCESTARO |   MLB5672   | AcessÃ³rios para VeÃ­culos | MLB3533136913 |                                               MÃ³dulo InjeÃ§Ã£o ProgramÃ¡vel M250 P/ Motos Honda Mono Cilindro                                              |   BRL    | 1350.0 |\n",
            "+------------+-----------------+-------------+---------------------------+---------------+-------------------------------------------------------------------------------------------------------------------------------------------------------------+----------+--------+\n"
          ]
        }
      ]
    },
    {
      "cell_type": "code",
      "source": [
        "cursor_data.execute('DROP TABLE IF EXISTS raw_vendas')"
      ],
      "metadata": {
        "colab": {
          "base_uri": "https://localhost:8080/"
        },
        "id": "m1wiUEDehpmC",
        "outputId": "52a5431a-fbd6-462a-ae54-24b2065ba39c"
      },
      "execution_count": 107,
      "outputs": [
        {
          "output_type": "execute_result",
          "data": {
            "text/plain": [
              "<sqlite3.Cursor at 0x7b8f88019240>"
            ]
          },
          "metadata": {},
          "execution_count": 107
        }
      ]
    },
    {
      "cell_type": "code",
      "source": [
        "# Criar tabela de vendas\n",
        "\n",
        "table = PrettyTable([\"seller_id\", \"data_created\", \"item_id\", \"quantity\", \"price\"])\n",
        "\n",
        "cursor_data.execute('''\n",
        "CREATE TABLE IF NOT EXISTS raw_vendas (\n",
        "    seller_id INTEGER PRIMARY KEY,\n",
        "    data_created INTEGER NOT NULL,\n",
        "    item_id INTEGER NOT NULL,\n",
        "    quantity INTEGER NOT NULL,\n",
        "    price REAL NOT NULL\n",
        ");\n",
        "''')\n",
        "\n",
        "vendas = pd.read_csv('/content/data_processed/sales_gpt.csv', sep=';')\n",
        "vendas.to_sql('raw_vendas', conn_data, if_exists='replace', index=False)\n",
        "\n",
        "cursor_data.execute('SELECT * FROM raw_vendas \\\n",
        "                    LIMIT 5')\n",
        "rows = cursor_data.fetchall()\n",
        "\n",
        "for row in rows:\n",
        "    table.add_row(row)\n",
        "\n",
        "print(table)"
      ],
      "metadata": {
        "id": "CY2_0Su1gEWE",
        "colab": {
          "base_uri": "https://localhost:8080/"
        },
        "outputId": "f774f9ea-28fd-4597-9c7a-333a1801e1b7"
      },
      "execution_count": 108,
      "outputs": [
        {
          "output_type": "stream",
          "name": "stdout",
          "text": [
            "+------------+----------------------------+---------------+----------+--------+\n",
            "| seller_id  |        data_created        |    item_id    | quantity | price  |\n",
            "+------------+----------------------------+---------------+----------+--------+\n",
            "| 224160443  | 2024-06-22 00:31:45.205367 | MLB4296308798 |    5     |  41.0  |\n",
            "| 444816473  | 2023-10-20 00:31:45.205433 | MLB3698110641 |    6     |  82.5  |\n",
            "| 1165626720 | 2024-01-06 00:31:45.205440 | MLB3494040092 |    7     | 184.23 |\n",
            "| 1148569370 | 2024-06-18 00:31:45.205448 | MLB3721274157 |    8     | 575.0  |\n",
            "| 183982918  | 2024-07-23 00:31:45.205456 | MLB1381132707 |    8     |  56.0  |\n",
            "+------------+----------------------------+---------------+----------+--------+\n"
          ]
        }
      ]
    },
    {
      "cell_type": "code",
      "source": [
        "cursor_data.execute('DROP VIEW IF EXISTS seller_dim')"
      ],
      "metadata": {
        "colab": {
          "base_uri": "https://localhost:8080/"
        },
        "id": "9bU2aCQSX-59",
        "outputId": "60071a1b-33df-4648-98af-56567ae56e7a"
      },
      "execution_count": 112,
      "outputs": [
        {
          "output_type": "execute_result",
          "data": {
            "text/plain": [
              "<sqlite3.Cursor at 0x7b8f88019240>"
            ]
          },
          "metadata": {},
          "execution_count": 112
        }
      ]
    },
    {
      "cell_type": "code",
      "source": [
        "\n",
        "cursor_data.execute('''\n",
        "    CREATE VIEW IF NOT EXISTS seller_dim AS\n",
        "    SELECT\n",
        "        ROW_NUMBER() OVER(ORDER BY seller_id) AS id_seller,\n",
        "        seller_id AS cod_seller,\n",
        "        seller_nickname AS seller_name\n",
        "    FROM (\n",
        "        SELECT DISTINCT seller_id, seller_nickname\n",
        "        FROM raw_product\n",
        "    ) AS unique_sellers\n",
        "''')\n",
        "\n",
        "cursor_data.execute('SELECT * FROM seller_dim \\\n",
        "                      LIMIT 5')\n",
        "\n",
        "seller_dim = cursor_data.fetchall()\n",
        "seller_table = PrettyTable()\n",
        "seller_table.field_names = [\"ID Seller\", \"Cod Seller\", \"Seller Name\"]\n",
        "\n",
        "for row in seller_dim:\n",
        "    seller_table.add_row(row)\n",
        "\n",
        "print(\"Seller Dimension:\")\n",
        "print(seller_table)"
      ],
      "metadata": {
        "id": "120T5GHNlvQm",
        "colab": {
          "base_uri": "https://localhost:8080/"
        },
        "outputId": "9d14e6ed-6761-4c8c-c9e4-9f9628cc3750"
      },
      "execution_count": 113,
      "outputs": [
        {
          "output_type": "stream",
          "name": "stdout",
          "text": [
            "Seller Dimension:\n",
            "+-----------+------------+--------------------------+\n",
            "| ID Seller | Cod Seller |       Seller Name        |\n",
            "+-----------+------------+--------------------------+\n",
            "|     1     |   153594   |  TEM_DE_TUDO_MULTI_SHOP  |\n",
            "|     2     |  1520446   |        INDAAPARAS        |\n",
            "|     3     |  1650894   |    LIVRARIA-BOA-NOITE    |\n",
            "|     4     |  3920462   |    SEBO_PE_NA_ESTRADA    |\n",
            "|     5     |  4938207   | LIVRARIA-GOSPEL-COMMERCE |\n",
            "+-----------+------------+--------------------------+\n"
          ]
        }
      ]
    },
    {
      "cell_type": "code",
      "source": [
        "cursor_data.execute('DROP VIEW IF EXISTS item_dim')"
      ],
      "metadata": {
        "colab": {
          "base_uri": "https://localhost:8080/"
        },
        "id": "YtD4lqrpPskN",
        "outputId": "38e7a9bc-5a11-4081-fb21-9dc97dfe3e1b"
      },
      "execution_count": 114,
      "outputs": [
        {
          "output_type": "execute_result",
          "data": {
            "text/plain": [
              "<sqlite3.Cursor at 0x7b8f88019240>"
            ]
          },
          "metadata": {},
          "execution_count": 114
        }
      ]
    },
    {
      "cell_type": "code",
      "source": [
        "cursor_data.execute('''\n",
        "    CREATE VIEW IF NOT EXISTS item_dim AS\n",
        "    SELECT\n",
        "        ROW_NUMBER() OVER(ORDER BY item_id) AS id_item,\n",
        "        item_id AS cod_item,\n",
        "        item_name,\n",
        "        category_id AS cod_category,\n",
        "        category AS category_name\n",
        "    FROM (\n",
        "        SELECT DISTINCT item_id, item_name, category_id, category\n",
        "        FROM raw_product\n",
        "    ) AS unique_items\n",
        "''')\n",
        "\n",
        "cursor_data.execute('SELECT * FROM item_dim \\\n",
        "                    LIMIT 10')\n",
        "item_dim = cursor_data.fetchall()\n",
        "item_table = PrettyTable()\n",
        "item_table.field_names = [\"ID Item\", \"Item ID\", \"Item Name\", \"Category_id\", \"name\"]\n",
        "\n",
        "for row in item_dim:\n",
        "    item_table.add_row(row)\n",
        "\n",
        "print(\"\\nItem Dimension:\")\n",
        "print(item_table)"
      ],
      "metadata": {
        "colab": {
          "base_uri": "https://localhost:8080/"
        },
        "id": "-oPc7szCRz3A",
        "outputId": "63504491-af4f-4baa-9422-a50c1a39c7f1"
      },
      "execution_count": 115,
      "outputs": [
        {
          "output_type": "stream",
          "name": "stdout",
          "text": [
            "\n",
            "Item Dimension:\n",
            "+---------+---------------+---------------------------------------------------------------+-------------+-----------+\n",
            "| ID Item |    Item ID    |                           Item Name                           | Category_id |    name   |\n",
            "+---------+---------------+---------------------------------------------------------------+-------------+-----------+\n",
            "|    1    | MLB1028968851 |    2 Caixa TÃ©rmica D Isopor Capacidade 120 Litros C/dreno    |  MLB218519  | Ingressos |\n",
            "|    2    | MLB1030948809 | Caixa TÃ©rmica D Isopor Capacidade 165 Litros C/dreno Isoterm |  MLB218519  | Ingressos |\n",
            "|    3    | MLB1031202677 |      Copo 10ml Acrilico C/1000 Doce Ou Ceia, DegustaÃ§Ã£o     |  MLB218519  | Ingressos |\n",
            "|    4    | MLB1033727890 | TaÃ§a De Champagne Em Acrilico Descartavel 150ml 150 Unidades |  MLB218519  | Ingressos |\n",
            "|    5    | MLB1044540635 |   Lona De ProteÃ§Ã£o Transparente 4x50 Metros Media - 1 Rolo  |  MLB218519  | Ingressos |\n",
            "|    6    | MLB1059927182 |  Marmita Pote 400ml Caldo Sopa Freezer Microondas G308 100uni |  MLB218519  | Ingressos |\n",
            "|    7    | MLB1068279413 |   Caixa 5.000 Papel Toalha Interfolha Branco Luxo PromoÃ§Ã£o  |  MLB218519  | Ingressos |\n",
            "|    8    | MLB1073164478 |               AÃ§ucar UniÃ£o Sache (5g X 800un)               |  MLB218519  | Ingressos |\n",
            "|    9    | MLB1076259991 |   800 Folha Papel Manteiga Forrar Caixa Pizza N.35 Octogonal  |  MLB218519  | Ingressos |\n",
            "|    10   | MLB1076263446 |  400 Fls Papel Manteiga 40cm Octogonal Forrar Caixa De Pizza  |  MLB218519  | Ingressos |\n",
            "+---------+---------------+---------------------------------------------------------------+-------------+-----------+\n"
          ]
        }
      ]
    },
    {
      "cell_type": "code",
      "source": [
        "cursor_data.execute('''\n",
        "    CREATE VIEW IF NOT EXISTS category_dim AS\n",
        "    SELECT\n",
        "        ROW_NUMBER() OVER(ORDER BY id_category) AS id_category,\n",
        "        id_category AS cod_category,\n",
        "        name AS category_name\n",
        "    FROM (\n",
        "        SELECT DISTINCT id_category, name\n",
        "        FROM raw_category\n",
        "    ) AS unique_sellers\n",
        "''')\n",
        "\n",
        "cursor_data.execute('SELECT * FROM category_dim')\n",
        "\n",
        "category_dim = cursor_data.fetchall()\n",
        "category_table = PrettyTable()\n",
        "category_table.field_names = [\"id_category\", \"cod_category\", \"category_name\"]\n",
        "\n",
        "for row in category_dim:\n",
        "    category_table.add_row(row)\n",
        "\n",
        "print(\"\\nItem Dimension:\")\n",
        "print(category_table)"
      ],
      "metadata": {
        "colab": {
          "base_uri": "https://localhost:8080/"
        },
        "id": "2kuxC7B_T1UE",
        "outputId": "7852bf96-1fb4-4be6-902c-19875873a3f2"
      },
      "execution_count": 116,
      "outputs": [
        {
          "output_type": "stream",
          "name": "stdout",
          "text": [
            "\n",
            "Item Dimension:\n",
            "+-------------+--------------+-----------------------------+\n",
            "| id_category | cod_category |        category_name        |\n",
            "+-------------+--------------+-----------------------------+\n",
            "|      1      |   MLB1000    |  Eletrônicos, Áudio e Vídeo |\n",
            "|      2      |   MLB1039    |     Câmeras e Acessórios    |\n",
            "|      3      |   MLB1051    |    Celulares e Telefones    |\n",
            "|      4      |   MLB1071    |           Animais           |\n",
            "|      5      |   MLB1132    |     Brinquedos e Hobbies    |\n",
            "|      6      |   MLB1144    |            Games            |\n",
            "|      7      |   MLB1168    |  Música, Filmes e Seriados  |\n",
            "|      8      |   MLB1182    |    Instrumentos Musicais    |\n",
            "|      9      |   MLB1196    |  Livros, Revistas e Comics  |\n",
            "|      10     |   MLB12404   |    Festas e Lembrancinhas   |\n",
            "|      11     |   MLB1246    |   Beleza e Cuidado Pessoal  |\n",
            "|      12     |   MLB1276    |      Esportes e Fitness     |\n",
            "|      13     |   MLB1367    |   Antiguidades e Coleções   |\n",
            "|      14     |   MLB1368    | Arte, Papelaria e Armarinho |\n",
            "|      15     |   MLB1384    |            Bebês            |\n",
            "|      16     |   MLB1403    |     Alimentos e Bebidas     |\n",
            "|      17     |   MLB1430    |  Calçados, Roupas e Bolsas  |\n",
            "|      18     |   MLB1459    |           Imóveis           |\n",
            "|      19     |   MLB1499    |     Indústria e Comércio    |\n",
            "|      20     |   MLB1500    |          Construção         |\n",
            "|      21     |   MLB1574    |   Casa, Móveis e Decoração  |\n",
            "|      22     |   MLB1648    |         Informática         |\n",
            "|      23     |   MLB1743    |    Carros, Motos e Outros   |\n",
            "|      24     |   MLB1953    |       Mais Categorias       |\n",
            "|      25     |  MLB218519   |          Ingressos          |\n",
            "|      26     |  MLB263532   |         Ferramentas         |\n",
            "|      27     |  MLB264586   |            Saúde            |\n",
            "|      28     |  MLB271599   |             Agro            |\n",
            "|      29     |   MLB3937    |       Joias e Relógios      |\n",
            "|      30     |   MLB5672    |   Acessórios para Veículos  |\n",
            "|      31     |   MLB5726    |       Eletrodomésticos      |\n",
            "+-------------+--------------+-----------------------------+\n"
          ]
        }
      ]
    },
    {
      "cell_type": "code",
      "source": [
        "cursor_data.execute('DROP VIEW IF EXISTS FACT_SALES')\n"
      ],
      "metadata": {
        "colab": {
          "base_uri": "https://localhost:8080/"
        },
        "id": "SQTafrAnduvI",
        "outputId": "3ffdac6a-ee25-4bc4-9a61-deb5256553ca"
      },
      "execution_count": 117,
      "outputs": [
        {
          "output_type": "execute_result",
          "data": {
            "text/plain": [
              "<sqlite3.Cursor at 0x7b8f88019240>"
            ]
          },
          "metadata": {},
          "execution_count": 117
        }
      ]
    },
    {
      "cell_type": "code",
      "source": [
        "cursor_data.execute('''\n",
        "    CREATE VIEW FACT_SALES AS\n",
        "        SELECT\n",
        "          seller_dim.id_seller AS KEY1_NR_SELLER,\n",
        "          item_dim.id_item AS KEY1_NR_ITEM,\n",
        "          raw_vendas.data_created,\n",
        "          raw_vendas.quantity,\n",
        "          raw_vendas.price,\n",
        "          raw_vendas.quantity * raw_vendas.price AS total_sold\n",
        "        FROM\n",
        "        raw_vendas\n",
        "        LEFT OUTER JOIN seller_dim ON raw_vendas.seller_id = seller_dim.cod_seller\n",
        "        LEFT OUTER JOIN item_dim ON raw_vendas.item_id = item_dim.cod_item\n",
        "\n",
        "''')\n",
        "\n",
        "cursor_data.execute('SELECT * FROM FACT_SALES \\\n",
        "                  LIMIT 5')\n",
        "fact_sales = cursor_data.fetchall()\n",
        "\n",
        "# Criar a tabela PrettyTable para exibir os resultados\n",
        "fact_sales_table = PrettyTable()\n",
        "fact_sales_table.field_names = [\"KEY1_NR_SELLER\", \"KEY1_NR_ITEM\", \"Data Created\", \"Quantity\", \"Price\", \"Total Sold\"]\n",
        "\n",
        "for row in fact_sales:\n",
        "    fact_sales_table.add_row(row)\n",
        "\n",
        "print(\"\\nFact Sales:\")\n",
        "print(fact_sales_table)"
      ],
      "metadata": {
        "colab": {
          "base_uri": "https://localhost:8080/"
        },
        "id": "Cq2zqPS6W9ds",
        "outputId": "800b17cc-29d5-4ee2-9e53-ef6764213431"
      },
      "execution_count": 118,
      "outputs": [
        {
          "output_type": "stream",
          "name": "stdout",
          "text": [
            "\n",
            "Fact Sales:\n",
            "+----------------+--------------+----------------------------+----------+--------+------------+\n",
            "| KEY1_NR_SELLER | KEY1_NR_ITEM |        Data Created        | Quantity | Price  | Total Sold |\n",
            "+----------------+--------------+----------------------------+----------+--------+------------+\n",
            "|      303       |     962      | 2024-06-22 00:31:45.205367 |    5     |  41.0  |   205.0    |\n",
            "|      471       |     542      | 2023-10-20 00:31:45.205433 |    6     |  82.5  |   495.0    |\n",
            "|      804       |     319      | 2024-01-06 00:31:45.205440 |    7     | 184.23 |  1289.61   |\n",
            "|      798       |     565      | 2024-06-18 00:31:45.205448 |    8     | 575.0  |   4600.0   |\n",
            "|      239       |      36      | 2024-07-23 00:31:45.205456 |    8     |  56.0  |   448.0    |\n",
            "+----------------+--------------+----------------------------+----------+--------+------------+\n"
          ]
        }
      ]
    },
    {
      "cell_type": "code",
      "source": [
        "conn_data.commit()"
      ],
      "metadata": {
        "id": "fjju-otCdq6-"
      },
      "execution_count": 27,
      "outputs": []
    },
    {
      "cell_type": "markdown",
      "source": [
        "#Finalização Exercício 1\n",
        "\n",
        "## Pergunta:\n",
        "\n",
        "1.   Como você nomearia cada tabela e porque?\n",
        "      - Para a organização dos dados, inicialmente, criei tabelas com o prefixo \"raw\", indicando que contêm dados brutos extraídos diretamente da API.\n",
        "\n",
        "      Em seguida, projetei um Data Warehouse para ser consumido no Tableau, onde desenvolvi views para as Dimensões e a Tabela Fato. O plano inicial consistia em criar dois bancos: um para os dados crus, contendo as dimensões em formato de view, e outro para armazenar as tabelas com os dados já processados. Essa estrutura permitiria realizar consultas de maneira mais eficiente, evitando joins entre views, que podem impactar a performance.\n",
        "\n",
        "      Contudo, devido ao pequeno volume de dados, decidi implementar tudo em um único banco de dados. As tabelas foram nomeadas para refletir suas funções e o tipo de dados que armazenam, facilitando a compreensão e manutenção do esquema.\n",
        "\n",
        "\n"
      ],
      "metadata": {
        "id": "lE-M7t8r31zb"
      }
    },
    {
      "cell_type": "markdown",
      "source": [
        "# Exercício 2"
      ],
      "metadata": {
        "id": "UP4pIdP97vS-"
      }
    },
    {
      "cell_type": "markdown",
      "source": [
        "## 1. No Colab Notebook, escreva consultas SQL para calcular: receita total, número de produtos vendidos e preço médio de venda por vendedor no banco de dados SQLite."
      ],
      "metadata": {
        "id": "-vHXMTp77x-e"
      }
    },
    {
      "cell_type": "code",
      "source": [
        "from prettytable import PrettyTable\n",
        "\n",
        "query = \"\"\"\n",
        "WITH vendas_totais AS (\n",
        "    SELECT\n",
        "        seller_id,\n",
        "        SUM(price * quantity) AS receita_total,\n",
        "        SUM(quantity) AS numero_produtos_vendidos\n",
        "    FROM\n",
        "        raw_vendas\n",
        "    GROUP BY\n",
        "        seller_id\n",
        ")\n",
        "SELECT\n",
        "    seller_id,\n",
        "    receita_total,\n",
        "    numero_produtos_vendidos,\n",
        "    receita_total / numero_produtos_vendidos AS preco_medio_venda\n",
        "FROM\n",
        "    vendas_totais\n",
        "\n",
        "ORDER BY\n",
        "    preco_medio_venda DESC\n",
        "\n",
        "LIMIT 5\n",
        ";\n",
        "\"\"\"\n",
        "\n",
        "cursor_data.execute(query)\n",
        "resultados = cursor_data.fetchall()\n",
        "\n",
        "tabela = PrettyTable()\n",
        "tabela.field_names = [\"Vendedor ID\", \"Receita Total\", \"Número de Produtos Vendidos\", \"Preço Médio de Venda\"]\n",
        "\n",
        "for linha in resultados:\n",
        "    tabela.add_row(linha)\n",
        "\n",
        "print(tabela)\n"
      ],
      "metadata": {
        "colab": {
          "base_uri": "https://localhost:8080/"
        },
        "id": "HVWpkv3w8GOj",
        "outputId": "77558061-2642-486d-8ff8-82474e365bf1"
      },
      "execution_count": 119,
      "outputs": [
        {
          "output_type": "stream",
          "name": "stdout",
          "text": [
            "+-------------+---------------+-----------------------------+----------------------+\n",
            "| Vendedor ID | Receita Total | Número de Produtos Vendidos | Preço Médio de Venda |\n",
            "+-------------+---------------+-----------------------------+----------------------+\n",
            "|  114830033  |    149900.0   |              1              |       149900.0       |\n",
            "|  1080147331 |   2518200.0   |              18             |       139900.0       |\n",
            "|  153645053  |   2101800.0   |              17             |  123635.29411764706  |\n",
            "|  383403729  |    115999.0   |              1              |       115999.0       |\n",
            "|  1115174467 |   1385880.0   |              12             |       115490.0       |\n",
            "+-------------+---------------+-----------------------------+----------------------+\n"
          ]
        }
      ]
    },
    {
      "cell_type": "markdown",
      "source": [
        "## 2.Além disso, identifique nas consultas qual é o produto mais vendido, o vendedor com maior faturamento e a evolução agregada das vendas ao longo do tempo segmentadas por categoria."
      ],
      "metadata": {
        "id": "7kcc2SEp_oFR"
      }
    },
    {
      "cell_type": "code",
      "source": [
        "from prettytable import PrettyTable\n",
        "\n",
        "# Consulta 1: Produto mais vendido\n",
        "query_produto_mais_vendido = \"\"\"\n",
        "SELECT\n",
        "    item_id,\n",
        "    item_name,\n",
        "    SUM(quantity) AS total_vendido\n",
        "FROM\n",
        "    raw_vendas\n",
        "\n",
        "LEFT OUTER JOIN item_dim ON raw_vendas.item_id = item_dim.cod_item\n",
        "\n",
        "GROUP BY\n",
        "    item_id\n",
        "\n",
        "ORDER BY\n",
        "    total_vendido DESC\n",
        "LIMIT 1;\n",
        "\"\"\"\n",
        "\n",
        "cursor_data.execute(query_produto_mais_vendido)\n",
        "produto_mais_vendido = cursor_data.fetchone()\n",
        "\n",
        "tabela_produto = PrettyTable()\n",
        "tabela_produto.field_names = [\"Produto ID\", \"Nome\", \"Total Vendido\"]\n",
        "tabela_produto.add_row(produto_mais_vendido)\n",
        "print(\"Produto Mais Vendido:\")\n",
        "print(tabela_produto)"
      ],
      "metadata": {
        "colab": {
          "base_uri": "https://localhost:8080/"
        },
        "id": "O-yJ45md9uuy",
        "outputId": "35d51127-cd3d-4efc-fecf-a3fe38e7a781"
      },
      "execution_count": 120,
      "outputs": [
        {
          "output_type": "stream",
          "name": "stdout",
          "text": [
            "Produto Mais Vendido:\n",
            "+---------------+--------------------------------------------------------------------+---------------+\n",
            "|   Produto ID  |                                Nome                                | Total Vendido |\n",
            "+---------------+--------------------------------------------------------------------+---------------+\n",
            "| MLB4063179466 | Creatina Monohidratada 600g 100% Pura Soldiers Nutrition Sem Sabor |       32      |\n",
            "+---------------+--------------------------------------------------------------------+---------------+\n"
          ]
        }
      ]
    },
    {
      "cell_type": "code",
      "source": [
        "# Consulta 2: Vendedor com maior faturamento\n",
        "query_vendedor_maior_faturamento = \"\"\"\n",
        "SELECT\n",
        "    seller_id,\n",
        "    seller_name,\n",
        "    SUM(price * quantity) AS faturamento_total\n",
        "FROM\n",
        "    raw_vendas\n",
        "\n",
        "LEFT OUTER JOIN seller_dim ON raw_vendas.seller_id = seller_dim.cod_seller\n",
        "\n",
        "GROUP BY\n",
        "    seller_id\n",
        "ORDER BY\n",
        "    faturamento_total DESC\n",
        "LIMIT 1;\n",
        "\"\"\"\n",
        "\n",
        "cursor_data.execute(query_vendedor_maior_faturamento)\n",
        "vendedor_maior_faturamento = cursor_data.fetchone()\n",
        "\n",
        "tabela_vendedor = PrettyTable()\n",
        "tabela_vendedor.field_names = [\"Vendedor ID\", \"Vendedor\", \"Faturamento Total\"]\n",
        "tabela_vendedor.add_row(vendedor_maior_faturamento)\n",
        "print(\"\\nVendedor com Maior Faturamento:\")\n",
        "print(tabela_vendedor)\n",
        "\n"
      ],
      "metadata": {
        "id": "U40Btnqo_40S",
        "colab": {
          "base_uri": "https://localhost:8080/"
        },
        "outputId": "4e66cc6f-11de-4cb5-931f-dc86464475c5"
      },
      "execution_count": 121,
      "outputs": [
        {
          "output_type": "stream",
          "name": "stdout",
          "text": [
            "\n",
            "Vendedor com Maior Faturamento:\n",
            "+-------------+----------------------------+-------------------+\n",
            "| Vendedor ID |          Vendedor          | Faturamento Total |\n",
            "+-------------+----------------------------+-------------------+\n",
            "|  1080147331 | LLCARMULTIMARCASLLCARMULTI |     2518200.0     |\n",
            "+-------------+----------------------------+-------------------+\n"
          ]
        }
      ]
    },
    {
      "cell_type": "code",
      "source": [
        "# Consulta 3: Evolução agregada das vendas por categoria\n",
        "query_evolucao_vendas = \"\"\"\n",
        "SELECT\n",
        "    strftime('%Y-%m', data_created) AS periodo,\n",
        "    raw_product.category,\n",
        "    SUM(raw_vendas.price * raw_vendas.quantity) AS receita_total\n",
        "FROM\n",
        "    raw_vendas\n",
        "\n",
        "LEFT OUTER JOIN raw_product ON raw_vendas.item_id = raw_product.item_id\n",
        "\n",
        "GROUP BY\n",
        "    periodo, category\n",
        "ORDER BY\n",
        "    periodo, category\n",
        "\n",
        "LIMIT 5;\n",
        "\"\"\"\n",
        "\n",
        "# Executando e exibindo a evolução das vendas por categoria\n",
        "cursor_data.execute(query_evolucao_vendas)\n",
        "evolucao_vendas = cursor_data.fetchall()\n",
        "\n",
        "tabela_evolucao = PrettyTable()\n",
        "tabela_evolucao.field_names = [\"Período\", \"Categoria\", \"Receita Total\"]\n",
        "\n",
        "for linha in evolucao_vendas:\n",
        "    tabela_evolucao.add_row(linha)\n",
        "\n",
        "print(\"\\nEvolução Agregada das Vendas por Categoria:\")\n",
        "print(tabela_evolucao)"
      ],
      "metadata": {
        "colab": {
          "base_uri": "https://localhost:8080/"
        },
        "id": "tg9FO7VUT0QN",
        "outputId": "0ae017af-6e43-4105-87f5-2fd709afd4c7"
      },
      "execution_count": 124,
      "outputs": [
        {
          "output_type": "stream",
          "name": "stdout",
          "text": [
            "\n",
            "Evolução Agregada das Vendas por Categoria:\n",
            "+---------+---------------------------+--------------------+\n",
            "| Período |         Categoria         |   Receita Total    |\n",
            "+---------+---------------------------+--------------------+\n",
            "| 2023-10 |            None           | 56714.42000000001  |\n",
            "| 2023-10 | AcessÃ³rios para VeÃ­culos |      3417.36       |\n",
            "| 2023-10 |            Agro           | 14776.820000000002 |\n",
            "| 2023-10 |    Alimentos e Bebidas    |       556.04       |\n",
            "| 2023-10 | Antiguidades e ColeÃ§Ãµes |      13951.08      |\n",
            "+---------+---------------------------+--------------------+\n"
          ]
        }
      ]
    },
    {
      "cell_type": "markdown",
      "source": [
        "Este output não faz tanto sentido, para vermos a evolução das vendas, então vamos transformá-lo em um gráfico\n"
      ],
      "metadata": {
        "id": "VosLENiSU9h9"
      }
    },
    {
      "cell_type": "code",
      "source": [
        "import matplotlib.pyplot as plt\n",
        "\n",
        "# Consulta 3: Evolução agregada das vendas por categoria\n",
        "query_evolucao_vendas = \"\"\"\n",
        "SELECT\n",
        "    strftime('%Y-%m', data_created) AS periodo,\n",
        "    raw_product.category,\n",
        "    SUM(raw_vendas.price * raw_vendas.quantity) AS receita_total\n",
        "FROM\n",
        "    raw_vendas\n",
        "\n",
        "LEFT OUTER JOIN raw_product ON raw_vendas.item_id = raw_product.item_id\n",
        "\n",
        "GROUP BY\n",
        "    periodo, category\n",
        "ORDER BY\n",
        "    periodo, category;\n",
        "\"\"\"\n",
        "\n",
        "cursor_data.execute(query_evolucao_vendas)\n",
        "evolucao_vendas = cursor_data.fetchall()\n",
        "df_evolucao_vendas = pd.DataFrame(evolucao_vendas, columns=[\"Período\", \"Categoria\", \"Receita Total\"])\n",
        "\n",
        "df_pivot = df_evolucao_vendas.pivot(index=\"Período\", columns=\"Categoria\", values=\"Receita Total\")\n",
        "df_pivot.plot(kind='bar', stacked=True, figsize=(10, 6))\n",
        "plt.title('Evolução Agregada das Vendas por Categoria')\n",
        "plt.xlabel('Período')\n",
        "plt.ylabel('Receita Total')\n",
        "plt.xticks(rotation=45)\n",
        "plt.legend(title=\"Categoria\", bbox_to_anchor=(1.05, 1), loc='upper left')\n",
        "plt.tight_layout()\n",
        "\n",
        "plt.show()\n"
      ],
      "metadata": {
        "colab": {
          "base_uri": "https://localhost:8080/",
          "height": 802
        },
        "id": "rzYyATPzUCuN",
        "outputId": "dd867642-b797-4910-9cfd-87797b5c7beb"
      },
      "execution_count": 123,
      "outputs": [
        {
          "output_type": "stream",
          "name": "stderr",
          "text": [
            "<ipython-input-123-128b90dbd3bd>:38: UserWarning: Glyph 129 (\\x81) missing from current font.\n",
            "  plt.tight_layout()\n",
            "/usr/local/lib/python3.10/dist-packages/IPython/core/pylabtools.py:151: UserWarning: Glyph 129 (\\x81) missing from current font.\n",
            "  fig.canvas.print_figure(bytes_io, **kw)\n"
          ]
        },
        {
          "output_type": "display_data",
          "data": {
            "text/plain": [
              "<Figure size 1000x600 with 1 Axes>"
            ],
            "image/png": "[encoded data removed]"
          },
          "metadata": {}
        }
      ]
    },
    {
      "cell_type": "code",
      "source": [],
      "metadata": {
        "id": "PyeURotPVGKX"
      },
      "execution_count": null,
      "outputs": []
    }
  ]
}